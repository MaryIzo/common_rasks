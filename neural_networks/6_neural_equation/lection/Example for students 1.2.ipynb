{
 "cells": [
  {
   "cell_type": "code",
   "execution_count": 40,
   "metadata": {},
   "outputs": [],
   "source": [
    "import torch\n",
    "import numpy as np"
   ]
  },
  {
   "cell_type": "code",
   "execution_count": 41,
   "metadata": {},
   "outputs": [],
   "source": [
    "batch_size=1000\n",
    "a=0\n",
    "b=1"
   ]
  },
  {
   "cell_type": "code",
   "execution_count": 42,
   "metadata": {},
   "outputs": [
    {
     "data": {
      "text/plain": [
       "Net(\n",
       "  (fc1): Linear(in_features=1, out_features=45, bias=True)\n",
       "  (fc2): Linear(in_features=45, out_features=45, bias=True)\n",
       "  (fc3): Linear(in_features=45, out_features=25, bias=True)\n",
       "  (fc4): Linear(in_features=25, out_features=25, bias=True)\n",
       "  (fc5): Linear(in_features=25, out_features=1, bias=True)\n",
       "  (fc1d): Linear(in_features=1, out_features=45, bias=True)\n",
       "  (fc2d): Linear(in_features=45, out_features=45, bias=True)\n",
       "  (fc4d): Linear(in_features=45, out_features=25, bias=True)\n",
       "  (fc5d): Linear(in_features=25, out_features=1, bias=True)\n",
       ")"
      ]
     },
     "execution_count": 42,
     "metadata": {},
     "output_type": "execute_result"
    }
   ],
   "source": [
    "import torch.nn as nn\n",
    "import torch.nn.functional as F\n",
    "\n",
    "class Net(nn.Module):\n",
    "    def __init__(self):\n",
    "        super(Net, self).__init__()\n",
    "        self.fc1 = nn.Linear(1,45)\n",
    "        self.fc2 = nn.Linear(45,45)\n",
    "        self.fc3 = nn.Linear(45,25) \n",
    "        self.fc4 = nn.Linear(25,25)\n",
    "        self.fc5 = nn.Linear(25,1)\n",
    "        \n",
    "        self.fc1d = nn.Linear(1,45)\n",
    "        self.fc2d = nn.Linear(45,45) \n",
    "        self.fc4d = nn.Linear(45,25)\n",
    "        self.fc5d = nn.Linear(25,1)\n",
    "      \n",
    "\n",
    "\n",
    "    def forward(self, x,dx):\n",
    "        x = F.softplus(self.fc1(x))\n",
    "        x = F.softplus(self.fc2(x))\n",
    "        x = F.softplus(self.fc3(x))    \n",
    "        x = F.softplus(self.fc4(x))\n",
    "        x = self.fc5(x)\n",
    "        \n",
    "        dx = F.softplus(self.fc1d(dx))\n",
    "        dx = F.softplus(self.fc2d(dx))   \n",
    "        dx = F.softplus(self.fc4d(dx))\n",
    "        dx = self.fc5d(dx)\n",
    "        x=x+dx\n",
    "        return x\n",
    "     \n",
    "\n",
    "net = Net()\n",
    "net"
   ]
  },
  {
   "cell_type": "code",
   "execution_count": 43,
   "metadata": {},
   "outputs": [],
   "source": [
    "import torch.optim as optim\n",
    "optimizer = optim.Adam(net.parameters(), lr=0.01)"
   ]
  },
  {
   "cell_type": "code",
   "execution_count": 44,
   "metadata": {},
   "outputs": [
    {
     "name": "stdout",
     "output_type": "stream",
     "text": [
      "[100], loss: 0.7253850698\n",
      "[200], loss: 0.6726787090\n",
      "[300], loss: 0.6870610714\n",
      "[400], loss: 0.6818151474\n",
      "[500], loss: 0.6684451699\n",
      "[600], loss: 0.6583099365\n",
      "[700], loss: 0.7075859308\n",
      "[800], loss: 0.6872835159\n",
      "[900], loss: 0.6806825399\n",
      "[1000], loss: 0.6535130739\n"
     ]
    }
   ],
   "source": [
    "from torch.autograd import grad\n",
    "x_0=torch.ones((batch_size,1))*a\n",
    "\n",
    "for epoch in range(1000):\n",
    "    optimizer.zero_grad()\n",
    "    train_x=torch.rand((batch_size,1),requires_grad=True,dtype=torch.float)*(b-a)+a\n",
    "    y_0_train=torch.rand((batch_size,1),requires_grad=True,dtype=torch.float)*(5-1)+1\n",
    "    \n",
    "    y_hat = net(train_x,y_0_train)     \n",
    "    y_0=net(x_0,y_0_train)   \n",
    "    dy_hat=grad(y_hat,train_x,torch.ones(batch_size,1),allow_unused=True,retain_graph=True,create_graph=True)[0]\n",
    "    loss=nn.MSELoss()\n",
    "    Loss=loss(dy_hat-y_hat,torch.zeros(batch_size,1))+loss(y_0,y_0_train)\n",
    "    Loss.backward(retain_graph=True)\n",
    "    optimizer.step()\n",
    "    if epoch % 100 == 99: \n",
    "        print('[%d], loss: %.10f'%(epoch+1,Loss.item()))"
   ]
  },
  {
   "cell_type": "code",
   "execution_count": 46,
   "metadata": {},
   "outputs": [
    {
     "data": {
      "text/plain": [
       "<matplotlib.legend.Legend at 0x24ae43c47f0>"
      ]
     },
     "execution_count": 46,
     "metadata": {},
     "output_type": "execute_result"
    },
    {
     "data": {
      "image/png": "[encoded data removed]",
      "text/plain": [
       "<Figure size 360x360 with 1 Axes>"
      ]
     },
     "metadata": {
      "needs_background": "light"
     },
     "output_type": "display_data"
    }
   ],
   "source": [
    "import matplotlib.pyplot as plt\n",
    "def exact(x):\n",
    "    return 2*torch.exp(x)\n",
    "train_x=torch.linspace(a, b, batch_size).view(-1,1)\n",
    "y_0_train=torch.ones((batch_size,1))*2\n",
    "y=exact(train_x)\n",
    "y_net=net(train_x,y_0_train)\n",
    "plt.figure(figsize=(5, 5))\n",
    "plt.plot(train_x.detach().numpy(),y.detach().numpy(),'k-',label=\"exact\")\n",
    "plt.plot(train_x.detach().numpy(),y_net.detach().numpy(),'k:',label=\"net\") \n",
    "plt.legend ()"
   ]
  },
  {
   "cell_type": "code",
   "execution_count": null,
   "metadata": {},
   "outputs": [],
   "source": []
  },
  {
   "cell_type": "code",
   "execution_count": null,
   "metadata": {},
   "outputs": [],
   "source": []
  }
 ],
 "metadata": {
  "kernelspec": {
   "display_name": "Python 3",
   "language": "python",
   "name": "python3"
  },
  "language_info": {
   "codemirror_mode": {
    "name": "ipython",
    "version": 3
   },
   "file_extension": ".py",
   "mimetype": "text/x-python",
   "name": "python",
   "nbconvert_exporter": "python",
   "pygments_lexer": "ipython3",
   "version": "3.8.3"
  }
 },
 "nbformat": 4,
 "nbformat_minor": 4
}
