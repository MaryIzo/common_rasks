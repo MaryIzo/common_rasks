{
 "cells": [
  {
   "cell_type": "code",
   "execution_count": 1,
   "id": "75ecc1ff",
   "metadata": {},
   "outputs": [],
   "source": [
    "import sys\n",
    "import os\n",
    "import re\n",
    "import numpy as np\n",
    "import pandas as pd\n",
    "from sklearn.impute import SimpleImputer\n",
    "from sklearn.metrics import classification_report\n",
    "from sklearn.preprocessing import StandardScaler, OneHotEncoder\n",
    "from sklearn.compose import ColumnTransformer\n",
    "from sklearn.model_selection import train_test_split\n",
    "from sklearn.tree import DecisionTreeClassifier, export_graphviz, plot_tree\n",
    "from sklearn.pipeline import Pipeline\n",
    "\n",
    "def load_data():\n",
    "\n",
    "    data_dir = os.path.join(\"..\",\"data\")\n",
    "    df = pd.read_csv(os.path.join(data_dir,r\"aavail-target.csv\"))\n",
    "\n",
    "    ## pull out the target and remove uneeded columns\n",
    "    _y = df.pop('is_subscriber')\n",
    "    y = np.zeros(_y.size)\n",
    "    y[_y==0] = 1 \n",
    "    df.drop(columns=['customer_id','customer_name'],inplace=True)\n",
    "    return(y,df)\n",
    "\n",
    "\n",
    "## variables\n",
    "rs = 42"
   ]
  },
  {
   "cell_type": "code",
   "execution_count": 2,
   "id": "e05d7d1d",
   "metadata": {},
   "outputs": [],
   "source": [
    "## preprocessing pipeline\n",
    "numeric_features = ['age', 'num_streams']\n",
    "numeric_transformer = Pipeline(steps=[\n",
    "    ('imputer', SimpleImputer(strategy='mean')),\n",
    "    ('scaler', StandardScaler())])\n",
    "\n",
    "categorical_features = ['country', 'subscriber_type']\n",
    "categorical_transformer = Pipeline(steps=[\n",
    "    ('imputer', SimpleImputer(strategy='constant', fill_value='missing')),\n",
    "    ('onehot', OneHotEncoder(handle_unknown='ignore'))])\n",
    "\n",
    "preprocessor = ColumnTransformer(\n",
    "    transformers=[\n",
    "        ('num', numeric_transformer, numeric_features),\n",
    "        ('cat', categorical_transformer, categorical_features)])"
   ]
  },
  {
   "cell_type": "code",
   "execution_count": 3,
   "id": "2bda32ce",
   "metadata": {},
   "outputs": [
    {
     "name": "stdout",
     "output_type": "stream",
     "text": [
      "['age', 'num_streams', 'singapore', 'united_states', 'aavail_basic', 'aavail_premium', 'aavail_unlimited']\n",
      "              precision    recall  f1-score   support\n",
      "\n",
      "  subscriber       0.83      0.91      0.87       142\n",
      "     churned       0.71      0.55      0.62        58\n",
      "\n",
      "    accuracy                           0.81       200\n",
      "   macro avg       0.77      0.73      0.75       200\n",
      "weighted avg       0.80      0.81      0.80       200\n",
      "\n"
     ]
    },
    {
     "name": "stderr",
     "output_type": "stream",
     "text": [
      "D:\\Anaconda\\envs\\newenv\\lib\\site-packages\\sklearn\\utils\\deprecation.py:87: FutureWarning: Function get_feature_names is deprecated; get_feature_names is deprecated in 1.0 and will be removed in 1.2. Please use get_feature_names_out instead.\n",
      "  warnings.warn(msg, category=FutureWarning)\n"
     ]
    }
   ],
   "source": [
    "   ## load the data\n",
    "y,df = load_data()\n",
    "X_train, X_test, y_train, y_test = train_test_split(df, y, test_size=0.2, stratify=y, random_state=rs)\n",
    "    \n",
    "pipe  = Pipeline(steps=[('preprocessor', preprocessor),\n",
    "                            ('dt', DecisionTreeClassifier(min_samples_leaf=100))])\n",
    "\n",
    "pipe.fit(X_train, y_train)\n",
    "y_pred = pipe.predict(X_test)\n",
    "\n",
    "\n",
    "    ## extract feature names \n",
    "feature_names = np.hstack([numeric_features,\n",
    "                               preprocessor.transformers_[1][1].named_steps['onehot'].get_feature_names()])\n",
    "feature_names = [re.sub(\"x\\d_\",\"\",fn) for fn in feature_names]\n",
    "target_names = ['subscriber','churned']\n",
    "print(feature_names)\n",
    "print(classification_report(y_test, y_pred, target_names=target_names))"
   ]
  },
  {
   "cell_type": "code",
   "execution_count": 4,
   "id": "4371ab2a",
   "metadata": {},
   "outputs": [
    {
     "ename": "IndentationError",
     "evalue": "expected an indented block (1562020937.py, line 3)",
     "output_type": "error",
     "traceback": [
      "\u001b[1;36m  File \u001b[1;32m\"C:\\Users\\Маша\\AppData\\Local\\Temp\\ipykernel_9760\\1562020937.py\"\u001b[1;36m, line \u001b[1;32m3\u001b[0m\n\u001b[1;33m    import graphviz\u001b[0m\n\u001b[1;37m         ^\u001b[0m\n\u001b[1;31mIndentationError\u001b[0m\u001b[1;31m:\u001b[0m expected an indented block\n"
     ]
    }
   ],
   "source": [
    "    ## make plot\n",
    "try:\n",
    "    import graphviz        \n",
    "except:\n",
    "    print(\"not creating tree since graphviz is not installed\")\n",
    "    sys.exit()\n",
    "    \n",
    "dot_data = export_graphviz(pipe['dt'], out_file=None, \n",
    "                                    feature_names=feature_names,  \n",
    "                                    class_names=target_names,  \n",
    "                                    filled=True, rounded=True, \n",
    "                                    special_characters=True)\n",
    "\n",
    "graph = graphviz.Source(dot_data)  \n",
    "graph.render(\"aavail_churn_dt\")\n",
    "print(\"Graph saved in your working directory.\")"
   ]
  },
  {
   "cell_type": "code",
   "execution_count": null,
   "id": "0dc3ed20",
   "metadata": {},
   "outputs": [],
   "source": []
  }
 ],
 "metadata": {
  "kernelspec": {
   "display_name": "Python 3 (ipykernel)",
   "language": "python",
   "name": "python3"
  },
  "language_info": {
   "codemirror_mode": {
    "name": "ipython",
    "version": 3
   },
   "file_extension": ".py",
   "mimetype": "text/x-python",
   "name": "python",
   "nbconvert_exporter": "python",
   "pygments_lexer": "ipython3",
   "version": "3.7.13"
  }
 },
 "nbformat": 4,
 "nbformat_minor": 5
}
