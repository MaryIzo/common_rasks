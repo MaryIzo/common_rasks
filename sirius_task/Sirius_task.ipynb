{
 "cells": [
  {
   "cell_type": "code",
   "execution_count": 596,
   "metadata": {},
   "outputs": [],
   "source": [
    "import pandas\n",
    "import numpy\n",
    "from bs4 import BeautifulSoup\n",
    "import unicodedata\n",
    "import sys\n",
    "import re\n",
    "import nltk\n",
    "from nltk.corpus import stopwords\n",
    "import pymorphy2\n",
    "from collections import Counter\n",
    "import matplotlib.pyplot as plt"
   ]
  },
  {
   "cell_type": "code",
   "execution_count": 427,
   "metadata": {},
   "outputs": [],
   "source": [
    "data = pandas.read_csv('Sirius.csv', header = None, sep='\\t', comment ='#').values"
   ]
  },
  {
   "cell_type": "code",
   "execution_count": 428,
   "metadata": {},
   "outputs": [],
   "source": [
    "text_to_do = numpy.array_str(data)"
   ]
  },
  {
   "cell_type": "code",
   "execution_count": 429,
   "metadata": {},
   "outputs": [],
   "source": [
    "#Привести все слова к нижнему регистру;\n",
    "text_to_do = text_to_do.lower()"
   ]
  },
  {
   "cell_type": "code",
   "execution_count": 430,
   "metadata": {},
   "outputs": [],
   "source": [
    "# удалить нерелевантные слова (ссылки, слова на английском, и. т .д);\n",
    "# 1. Удаление элементов html с помощью beautifulSoup\n",
    "soup = BeautifulSoup(text_to_do, 'html')\n",
    "text_to_do = soup.get_text()\n",
    "# 2. Удаление ссылок по http\n",
    "text_to_do = re.sub(r'http\\S+', '', text_to_do)\n",
    "text_to_do = re.sub(r'www\\S+', '', text_to_do)"
   ]
  },
  {
   "cell_type": "code",
   "execution_count": 431,
   "metadata": {},
   "outputs": [],
   "source": [
    "# 3. Удаление английских букв, конца строки и \n",
    "#  удаленение конца строки и цифр\n",
    "text_to_do = re.sub(r'\\n', '', text_to_do)\n",
    "text_to_do = re.sub(r'[0-9]', '', text_to_do)\n",
    "text_to_do = re.sub(r'[a-z]', '', text_to_do)\n",
    "#text_to_do"
   ]
  },
  {
   "cell_type": "code",
   "execution_count": 432,
   "metadata": {},
   "outputs": [],
   "source": [
    "# удалить пунктуацию\n",
    "# 1. Создаем словарь знаков препинания.\n",
    "# Заменяем на 32 - пробел, так как встречаются слова, разделенные только пунктуацией.\n",
    "punctuation = dict.fromkeys( [i for i in range(sys.maxunicode) if unicodedata.category(chr(i)).startswith('P')], 32)\n",
    "# 2. Удаляем эти знаки препинания в строке.\n",
    "text_to_do = text_to_do.translate(punctuation)\n",
    "# 3. Удаление лишних пробелов.\n",
    "text_to_do = re.sub(' +',' ', text_to_do)\n",
    "text_to_do = text_to_do.strip()"
   ]
  },
  {
   "cell_type": "code",
   "execution_count": 433,
   "metadata": {},
   "outputs": [],
   "source": [
    "# Лексемизация текста.\n",
    "list_words = text_to_do.split(' ')"
   ]
  },
  {
   "cell_type": "code",
   "execution_count": 434,
   "metadata": {},
   "outputs": [
    {
     "name": "stderr",
     "output_type": "stream",
     "text": [
      "[nltk_data] Downloading package stopwords to\n",
      "[nltk_data]     C:\\Users\\Маша\\AppData\\Roaming\\nltk_data...\n",
      "[nltk_data]   Package stopwords is already up-to-date!\n"
     ]
    }
   ],
   "source": [
    " # Удаление стоп-слов\n",
    "nltk.download('stopwords')\n",
    "stop_words = stopwords.words('russian')"
   ]
  },
  {
   "cell_type": "code",
   "execution_count": 435,
   "metadata": {},
   "outputs": [],
   "source": [
    "list_words = [word for word in list_words if word not in stop_words]"
   ]
  },
  {
   "cell_type": "code",
   "execution_count": 456,
   "metadata": {},
   "outputs": [],
   "source": [
    "#Лемматезация слов\n",
    "morph = pymorphy2.MorphAnalyzer()\n",
    "new_list_words = [morph.parse(word)[0].normal_form for word in list_words]"
   ]
  },
  {
   "cell_type": "code",
   "execution_count": 510,
   "metadata": {},
   "outputs": [],
   "source": [
    "# Отсортировать слова по частоте их употребления и выделить топ 100 слов\n",
    "x = Counter(new_list_words)\n",
    "x100 = x.most_common(100)"
   ]
  },
  {
   "cell_type": "code",
   "execution_count": 544,
   "metadata": {},
   "outputs": [],
   "source": [
    "# Преобразование в датафрейм\n",
    "answer = pandas.DataFrame.from_dict(x100)"
   ]
  },
  {
   "cell_type": "code",
   "execution_count": 582,
   "metadata": {},
   "outputs": [
    {
     "data": {
      "image/png": "[encoded data removed]",
      "text/plain": [
       "<Figure size 432x288 with 1 Axes>"
      ]
     },
     "metadata": {
      "needs_background": "light"
     },
     "output_type": "display_data"
    }
   ],
   "source": [
    "axes = answer.plot.bar(legend=False )"
   ]
  },
  {
   "cell_type": "code",
   "execution_count": null,
   "metadata": {},
   "outputs": [],
   "source": []
  },
  {
   "cell_type": "code",
   "execution_count": null,
   "metadata": {},
   "outputs": [],
   "source": []
  },
  {
   "cell_type": "code",
   "execution_count": null,
   "metadata": {},
   "outputs": [],
   "source": []
  }
 ],
 "metadata": {
  "kernelspec": {
   "display_name": "Python 3",
   "language": "python",
   "name": "python3"
  },
  "language_info": {
   "codemirror_mode": {
    "name": "ipython",
    "version": 3
   },
   "file_extension": ".py",
   "mimetype": "text/x-python",
   "name": "python",
   "nbconvert_exporter": "python",
   "pygments_lexer": "ipython3",
   "version": "3.7.9"
  }
 },
 "nbformat": 4,
 "nbformat_minor": 2
}
