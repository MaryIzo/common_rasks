{
 "cells": [
  {
   "cell_type": "code",
   "execution_count": 1,
   "metadata": {
    "id": "cxUJ31I2aHa-"
   },
   "outputs": [],
   "source": []
  },
  {
   "cell_type": "markdown",
   "metadata": {
    "id": "mYm8wDmkNG-t"
   },
   "source": [
    "Решите простую задачу безусловной оптимизации в двумерном пространстве:  \n",
    "$$f(\\boldsymbol x) = -8x_1 - 16x_2 + x_1^2 + 4x_2^2$$\n",
    "используя два метода:\n",
    " - аналитически (функция квадратичная, выпуклая)\n",
    " - методом градиентного спуска, используя один из методов оптимизации torch.optim"
   ]
  },
  {
   "cell_type": "markdown",
   "metadata": {
    "id": "xIb-98VEOPaN"
   },
   "source": [
    "Аналитическое решение (берем дифференциал, приравниваем к нулю):  \n",
    "x1 = 4,  \n",
    "x2 = 2,  \n",
    "f(x) = -32"
   ]
  },
  {
   "cell_type": "code",
   "execution_count": null,
   "metadata": {
    "id": "Q8cBg0DSNElG"
   },
   "outputs": [],
   "source": [
    "import torch\n",
    "import torchvision\n",
    "import torch.nn as nn"
   ]
  },
  {
   "cell_type": "code",
   "execution_count": 12,
   "metadata": {
    "id": "BysuTDELH3l8"
   },
   "outputs": [],
   "source": [
    "# Пример с лекции\n",
    "# x = torch.tensor([1.0], requires_grad=True)\n",
    "# def f(x):\n",
    "#   return x**2 + 2*x + 3\n",
    "# optimizer = torch.optim.Adam([x], lr = 0.1)\n",
    "# loss = torch.nn.MSELoss()\n",
    "# for i in range(100): # зациклим, пока х не перестанет меняться\n",
    "#     y = f(x)\n",
    "#     print(x,y)\n",
    "#     optimizer.zero_grad() # обнулили градиенты\n",
    "#     y.backward()\n",
    "#     optimizer.step() # сделали один шаг оптимизатора, изменили переменную х"
   ]
  },
  {
   "cell_type": "code",
   "execution_count": 16,
   "metadata": {
    "id": "SN2aFDlNNik-"
   },
   "outputs": [],
   "source": [
    "x1 = torch.tensor([1.0], requires_grad=True)\n",
    "x2 = torch.tensor([1.0], requires_grad=True)\n",
    "\n",
    "def f(x1, x2):\n",
    "  return -8*x1 - 16*x2 + x1**2 +4*x2**2"
   ]
  },
  {
   "cell_type": "code",
   "execution_count": 19,
   "metadata": {
    "id": "MTVeuY_qN4rD"
   },
   "outputs": [],
   "source": [
    "optimizer = torch.optim.Adam([x1, x2], lr = 0.01)\n",
    "loss = torch.nn.MSELoss()"
   ]
  },
  {
   "cell_type": "code",
   "execution_count": 22,
   "metadata": {
    "id": "j9NPvC9EN923"
   },
   "outputs": [],
   "source": [
    "for i in range(100): # зациклим, пока х не перестанет меняться\n",
    "    y = f(x1, x2)\n",
    "    #print(y, x1, x2)\n",
    "    optimizer.zero_grad() # обнулили градиенты\n",
    "    y.backward()\n",
    "    optimizer.step() # сделали один шаг оптимизатора, изменили переменную х"
   ]
  },
  {
   "cell_type": "code",
   "execution_count": 21,
   "metadata": {
    "colab": {
     "base_uri": "https://localhost:8080/"
    },
    "id": "Iq18f34aLOz_",
    "outputId": "4308ee4c-bc93-4cfc-fb37-5ec00e641ca2"
   },
   "outputs": [
    {
     "name": "stdout",
     "output_type": "stream",
     "text": [
      "Answer torc =  tensor([-32.], grad_fn=<AddBackward0>) tensor([4.0001], requires_grad=True) tensor([2.0000], requires_grad=True)\n"
     ]
    }
   ],
   "source": [
    "print('Answer torch = ', y, x1, x2)"
   ]
  },
  {
   "cell_type": "code",
   "execution_count": 9,
   "metadata": {
    "id": "Al67-2bsLO_Y"
   },
   "outputs": [],
   "source": []
  },
  {
   "cell_type": "code",
   "execution_count": null,
   "metadata": {
    "id": "XAMi5DX0MG4X"
   },
   "outputs": [],
   "source": []
  },
  {
   "cell_type": "code",
   "execution_count": null,
   "metadata": {
    "id": "4N9vZ-N5H8ih"
   },
   "outputs": [],
   "source": []
  },
  {
   "cell_type": "code",
   "execution_count": null,
   "metadata": {
    "id": "W3TlP2RpRVgc"
   },
   "outputs": [],
   "source": []
  },
  {
   "cell_type": "code",
   "execution_count": null,
   "metadata": {
    "id": "AFMAW7K4QD8v"
   },
   "outputs": [],
   "source": []
  }
 ],
 "metadata": {
  "colab": {
   "name": "Оптимизация_функции.ipynb",
   "provenance": []
  },
  "kernelspec": {
   "display_name": "Python 3",
   "language": "python",
   "name": "python3"
  },
  "language_info": {
   "codemirror_mode": {
    "name": "ipython",
    "version": 3
   },
   "file_extension": ".py",
   "mimetype": "text/x-python",
   "name": "python",
   "nbconvert_exporter": "python",
   "pygments_lexer": "ipython3",
   "version": "3.7.9"
  }
 },
 "nbformat": 4,
 "nbformat_minor": 1
}
