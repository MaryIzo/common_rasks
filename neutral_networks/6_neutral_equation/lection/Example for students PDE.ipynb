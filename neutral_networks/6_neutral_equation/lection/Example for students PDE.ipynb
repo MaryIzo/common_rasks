{
 "cells": [
  {
   "cell_type": "code",
   "execution_count": 1,
   "metadata": {},
   "outputs": [],
   "source": [
    "import torch\n",
    "import numpy as np"
   ]
  },
  {
   "cell_type": "code",
   "execution_count": 7,
   "metadata": {},
   "outputs": [],
   "source": [
    "batch_size=1000\n",
    "x_size=100\n",
    "t_size=100\n",
    "a=0\n",
    "b=1\n",
    "t0=0\n",
    "t1=1"
   ]
  },
  {
   "cell_type": "code",
   "execution_count": 8,
   "metadata": {},
   "outputs": [
    {
     "data": {
      "text/plain": [
       "Net(\n",
       "  (fc1): Linear(in_features=1, out_features=20, bias=True)\n",
       "  (fc2): Linear(in_features=20, out_features=20, bias=True)\n",
       "  (fc3): Linear(in_features=20, out_features=20, bias=True)\n",
       "  (fc4): Linear(in_features=20, out_features=20, bias=True)\n",
       "  (fc5): Linear(in_features=20, out_features=20, bias=True)\n",
       "  (fc6): Linear(in_features=20, out_features=20, bias=True)\n",
       "  (fc7): Linear(in_features=20, out_features=1, bias=True)\n",
       "  (fc1d): Linear(in_features=1, out_features=20, bias=True)\n",
       "  (fc2d): Linear(in_features=20, out_features=20, bias=True)\n",
       "  (fc3d): Linear(in_features=20, out_features=20, bias=True)\n",
       "  (fc4d): Linear(in_features=20, out_features=20, bias=True)\n",
       "  (fc1a): Linear(in_features=20, out_features=20, bias=True)\n",
       "  (fc2a): Linear(in_features=20, out_features=20, bias=True)\n",
       "  (fc3a): Linear(in_features=20, out_features=20, bias=True)\n",
       "  (fc4a): Linear(in_features=20, out_features=1, bias=True)\n",
       ")"
      ]
     },
     "execution_count": 8,
     "metadata": {},
     "output_type": "execute_result"
    }
   ],
   "source": [
    "import torch.nn as nn\n",
    "import torch.nn.functional as F\n",
    "\n",
    "class Net(nn.Module):\n",
    "    def __init__(self):\n",
    "        super(Net, self).__init__()\n",
    "        self.fc1 = nn.Linear(1,20)\n",
    "        self.fc2 = nn.Linear(20,20)\n",
    "        self.fc3 = nn.Linear(20,20) \n",
    "        self.fc4 = nn.Linear(20,20)\n",
    "        self.fc5 = nn.Linear(20,20)\n",
    "        self.fc6 = nn.Linear(20,20) \n",
    "        self.fc7 = nn.Linear(20,1)\n",
    "        \n",
    "        self.fc1d = nn.Linear(1,20)\n",
    "        self.fc2d = nn.Linear(20,20)\n",
    "        self.fc3d = nn.Linear(20,20) \n",
    "        self.fc4d = nn.Linear(20,20)\n",
    "       \n",
    "        self.fc1a = nn.Linear(20,20)\n",
    "        self.fc2a = nn.Linear(20,20)\n",
    "        self.fc3a = nn.Linear(20,20)\n",
    "        self.fc4a = nn.Linear(20,1)\n",
    "      \n",
    "\n",
    "\n",
    "    def forward(self, x,t):\n",
    "    \n",
    "        x = F.softplus(self.fc1(x))\n",
    "        x = F.softplus(self.fc2(x))    \n",
    "        \n",
    "     \n",
    "        \n",
    "        t = F.softplus(self.fc1d(t))\n",
    "        t = F.softplus(self.fc2d(t))          \n",
    "             \n",
    "        ans = x*t    \n",
    "        ans = F.softplus(self.fc3a(ans))\n",
    "        ans = F.softplus(self.fc4a(ans))\n",
    "        \n",
    "        return ans\n",
    "\n",
    "\n",
    "net = Net()\n",
    "net"
   ]
  },
  {
   "cell_type": "code",
   "execution_count": 9,
   "metadata": {},
   "outputs": [],
   "source": [
    "import torch.optim as optim\n",
    "optimizer = optim.Adam(net.parameters(), lr=0.01)"
   ]
  },
  {
   "cell_type": "code",
   "execution_count": 10,
   "metadata": {},
   "outputs": [
    {
     "name": "stdout",
     "output_type": "stream",
     "text": [
      "[100], loss: 0.0942412019\n",
      "[200], loss: 0.0162986629\n",
      "[300], loss: 0.0056856759\n",
      "[400], loss: 0.0025121591\n",
      "[500], loss: 0.0021685238\n",
      "[600], loss: 0.0055318284\n",
      "[700], loss: 0.0013319876\n",
      "[800], loss: 0.0016025257\n",
      "[900], loss: 0.0014486904\n",
      "[1000], loss: 0.0013725789\n"
     ]
    }
   ],
   "source": [
    "from torch.autograd import grad\n",
    "x=torch.linspace(a, b, x_size,requires_grad=True,dtype=torch.float64).view(-1,1)\n",
    "t=torch.linspace(t0, t1, t_size,requires_grad=True,dtype=torch.float64).view(-1,1)\n",
    "\n",
    "\n",
    "for epoch in range(1000):\n",
    "    optimizer.zero_grad()\n",
    "    \n",
    "    train_x=torch.rand((batch_size,1),requires_grad=True,dtype=torch.float)*(b-a)+a\n",
    "    train_t=torch.rand((batch_size,1),requires_grad=True,dtype=torch.float)*(t1-t0)+t0   \n",
    " \n",
    "    \n",
    "    y_hat = net(train_x,train_t)           \n",
    "    dy_dx_hat=grad(y_hat.sum(),train_x,allow_unused=True,retain_graph=True,create_graph=True)[0] \n",
    "    ddy_ddx_hat=grad(dy_dx_hat.sum(),train_x,allow_unused=True,retain_graph=True,create_graph=True)[0] \n",
    "    dy_dt_hat=grad(y_hat.sum(),train_t,allow_unused=True,retain_graph=True,create_graph=True)[0] \n",
    "    ddy_ddt_hat=grad(dy_dt_hat.sum(),train_t,allow_unused=True,retain_graph=True,create_graph=True)[0] \n",
    "    ddy_dxdt_hat=grad(dy_dx_hat.sum(),train_t,allow_unused=True,retain_graph=True,create_graph=True)[0]\n",
    "    \n",
    "    x0_train=torch.rand((x_size,1),requires_grad=True,dtype=torch.float)*(b-a)+a\n",
    "    t0_train=torch.zeros((x_size,1),requires_grad=True)  \n",
    "    y_init=x0_train  \n",
    "    y_init_hat=net(x0_train,t0_train)\n",
    "    dy_dt_init=torch.zeros(t_size,1)\n",
    "    dy_dt_init_hat=grad(y_init_hat.sum(),t0_train,allow_unused=True,retain_graph=True,create_graph=True)[0] \n",
    "    \n",
    "    x_a_train=torch.ones((t_size,1),requires_grad=True)*a\n",
    "    t_a_train=torch.rand((t_size,1),requires_grad=True,dtype=torch.float)*(t1-t0)+t0  \n",
    "    y_a=torch.zeros(t_size,1)\n",
    "    y_a_hat=net(x_a_train,t_a_train)\n",
    "    \n",
    "    x_b_train=torch.ones((t_size,1),requires_grad=True)*b\n",
    "    t_b_train=torch.rand((t_size,1),requires_grad=True,dtype=torch.float)*(t1-t0)+t0\n",
    "    y_b=t_b_train**2+1\n",
    "    y_b_hat=net(x_b_train,t_b_train)\n",
    "    \n",
    "    loss=nn.MSELoss()\n",
    "    Loss=loss(ddy_dxdt_hat,2*train_t)+loss(y_init_hat,y_init)+loss(dy_dt_init_hat,dy_dt_init)+loss(y_a_hat,y_a)+loss(y_b_hat,y_b)\n",
    "    Loss.backward(retain_graph=True)\n",
    "    optimizer.step()\n",
    "    if epoch % 100 == 99: \n",
    "        print('[%d], loss: %.10f'%(epoch+1,Loss.item()))"
   ]
  },
  {
   "cell_type": "code",
   "execution_count": 21,
   "metadata": {},
   "outputs": [
    {
     "data": {
      "text/plain": [
       "<matplotlib.legend.Legend at 0x1409d6d6370>"
      ]
     },
     "execution_count": 21,
     "metadata": {},
     "output_type": "execute_result"
    },
    {
     "data": {
      "image/png": "[encoded data removed]",
      "text/plain": [
       "<Figure size 360x360 with 1 Axes>"
      ]
     },
     "metadata": {
      "needs_background": "light"
     },
     "output_type": "display_data"
    }
   ],
   "source": [
    "import matplotlib.pyplot as plt\n",
    "def exact(x,t):\n",
    "    return x*t**2+x\n",
    "\n",
    "train_x=torch.linspace(a, b, batch_size).view(-1,1)\n",
    "train_t=torch.ones((batch_size,1))*0.3\n",
    "\n",
    "\n",
    "\n",
    "y=exact(train_x,train_t)\n",
    "y_net=net(train_x,train_t)\n",
    "plt.figure(figsize=(5, 5))\n",
    "plt.plot(train_x.detach().numpy(),y.detach().numpy(),'k-',label=\"exact\")\n",
    "plt.plot(train_x.detach().numpy(),y_net.detach().numpy(),'k:',label=\"net\") \n",
    "plt.legend ()"
   ]
  },
  {
   "cell_type": "code",
   "execution_count": null,
   "metadata": {},
   "outputs": [],
   "source": []
  },
  {
   "cell_type": "code",
   "execution_count": null,
   "metadata": {},
   "outputs": [],
   "source": []
  },
  {
   "cell_type": "code",
   "execution_count": null,
   "metadata": {},
   "outputs": [],
   "source": []
  }
 ],
 "metadata": {
  "kernelspec": {
   "display_name": "Python 3",
   "language": "python",
   "name": "python3"
  },
  "language_info": {
   "codemirror_mode": {
    "name": "ipython",
    "version": 3
   },
   "file_extension": ".py",
   "mimetype": "text/x-python",
   "name": "python",
   "nbconvert_exporter": "python",
   "pygments_lexer": "ipython3",
   "version": "3.8.3"
  }
 },
 "nbformat": 4,
 "nbformat_minor": 4
}
