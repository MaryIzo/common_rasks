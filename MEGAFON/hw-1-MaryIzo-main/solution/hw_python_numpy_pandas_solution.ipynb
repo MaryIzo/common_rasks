{
  "nbformat": 4,
  "nbformat_minor": 0,
  "metadata": {
    "colab": {
      "name": "hw_python_numpy_pandas.ipynb",
      "provenance": [],
      "collapsed_sections": [],
      "toc_visible": true
    },
    "kernelspec": {
      "name": "python3",
      "display_name": "Python 3"
    }
  },
  "cells": [
    {
      "cell_type": "code",
      "metadata": {
        "id": "fFx-DkbQmGSG"
      },
      "source": [
        "import numpy as np\n",
        "import pandas as pd"
      ],
      "execution_count": 1,
      "outputs": []
    },
    {
      "cell_type": "markdown",
      "metadata": {
        "id": "SIpygTM0m2Pc"
      },
      "source": [
        "# Часть 1. Python"
      ]
    },
    {
      "cell_type": "code",
      "metadata": {
        "id": "r3ChLVcTcIYB",
        "outputId": "0f06b81d-a3a5-45cd-a2de-344e2da8dad5",
        "colab": {
          "base_uri": "https://localhost:8080/",
          "height": 34
        }
      },
      "source": [
        "#Напишите функцию, которая вычленяет из текста все числа и возвражает их списком\n",
        "#[Клёвое решение от @IvanFlegontov]\n",
        "\n",
        "def take_numb(my_string):\n",
        "  newstr = ''.join((ch if ch in '0123456789' else ' ') for ch in my_string)\n",
        "  return [int(x) for x in newstr.split()]\n",
        "\n",
        "\n",
        "take_numb('I was born in 1998')  #[1998]\n",
        "take_numb('She had got 5 cats and 3 kittens') #[5, 3]\n",
        "take_numb('Does it really cost 500$? Or maybe 450$?') #[500, 450]"
      ],
      "execution_count": 3,
      "outputs": [
        {
          "output_type": "execute_result",
          "data": {
            "text/plain": [
              "[500, 450]"
            ]
          },
          "metadata": {
            "tags": []
          },
          "execution_count": 3
        }
      ]
    },
    {
      "cell_type": "code",
      "metadata": {
        "id": "ANziFZpDebXu",
        "outputId": "c7bde422-437b-47f9-efa3-d84e27b559da",
        "colab": {
          "base_uri": "https://localhost:8080/",
          "height": 34
        }
      },
      "source": [
        "#Напишите функцию, которая принимает на вход словарь, а возвращает все уникальные значения словаря списком\n",
        "\n",
        "def get_distinct_dic(dic):\n",
        "  return list(set(dic.values()))\n",
        "\n",
        "get_distinct_dic({'jan':47, 'feb':52, 'march':47, 'April':44, 'May':52, 'June':53, 'july':54, 'Aug':44, 'Sept':54}) # [47, 52, 44, 53, 54]\n"
      ],
      "execution_count": 2,
      "outputs": [
        {
          "output_type": "execute_result",
          "data": {
            "text/plain": [
              "[44, 47, 52, 53, 54]"
            ]
          },
          "metadata": {
            "tags": []
          },
          "execution_count": 2
        }
      ]
    },
    {
      "cell_type": "code",
      "metadata": {
        "id": "uCS_SCFie_oD",
        "outputId": "ef744fd4-b47d-48f8-e123-0e417362b757",
        "colab": {
          "base_uri": "https://localhost:8080/",
          "height": 67
        }
      },
      "source": [
        "#Напишите функцию, которая принимает на вход список, а возвращает все уникальные \n",
        "#значения списка + печатает минимум и максимум списка\n",
        "\n",
        "def get_distinct_list(dic):\n",
        "  print(\"Max is \", max(dic))\n",
        "  print(\"Min is \", min(dic))\n",
        "  return list(set(dic))\n",
        "\n",
        "get_distinct_list([9123, 31, 1938, 9123, 1, 249, 912, 10, 31, 213, 81, 10]) # [31, 1938, 9123, 1, 249, 912, 010, 213, 81], min = 1, max = 9123\n"
      ],
      "execution_count": 6,
      "outputs": [
        {
          "output_type": "stream",
          "text": [
            "Max is  9123\n",
            "Min is  1\n"
          ],
          "name": "stdout"
        },
        {
          "output_type": "execute_result",
          "data": {
            "text/plain": [
              "[1, 9123, 10, 912, 81, 1938, 213, 249, 31]"
            ]
          },
          "metadata": {
            "tags": []
          },
          "execution_count": 6
        }
      ]
    },
    {
      "cell_type": "code",
      "metadata": {
        "id": "WAHmKqBRmR0E",
        "outputId": "838058cd-24cc-4617-f243-cbefd5e9db06",
        "colab": {
          "base_uri": "https://localhost:8080/",
          "height": 70
        }
      },
      "source": [
        "#Выведите сколько раз в тексте встречается каждое слово (не учитывая регистр), каждый знак преминания и каждая буква\n",
        "\n",
        "sample_test = \"Гостиная Анны Павловны начала понемногу наполняться. Приехала высшая знать Петербурга, люди самые разнородные по возрастам и характерам, но одинаковые по обществу, в каком все жили; приехала дочь князя Василия, красавица Элен, заехавшая за отцом, чтобы с ним вместе ехать на праздник посланника. Она была в шифре и бальном платье. Приехала и известная, как la femme la plus séduisante de Pétersbourg 1, молодая, маленькая княгиня Болконская, прошлую зиму вышедшая замуж и теперь не выезжавшая в большой свет по причине своей беременности, но ездившая еще на небольшие вечера. Приехал князь Ипполит, сын князя Василия, с Мортемаром, которого он представил; приехал и аббат Морио и многие другие. — Вы не видали еще, — или: — вы не знакомы с ma tante? 2 — говорила Анна Павловна приезжавшим гостям и весьма серьезно подводила их к маленькой старушке в высоких бантах, выплывшей из другой комнаты, как скоро стали приезжать гости, называла их по имени, медленно переводя глаза с гостя на ma tante, и потом отходила. Все гости совершали обряд приветствования никому не известной, никому не интересной и не нужной тетушки. Анна Павловна с грустным, торжественным участием следила за их приветствиями, молчаливо одобряя их. Ma tante каждому говорила в одних и тех же выражениях о его здоровье, о своем здоровье и о здоровье ее величества, которое нынче было, слава Богу, лучше. Все подходившие, из приличия не выказывая поспешности, с чувством облегчения исполненной тяжелой обязанности отходили от старушки, чтоб уж весь вечер ни разу не подойти к ней. Молодая княгиня Болконская приехала с работой в шитом золотом бархатном мешке. Ее хорошенькая, с чуть черневшимися усиками верхняя губка была коротка по зубам, но тем милее она открывалась и тем еще милее вытягивалась иногда и опускалась на нижнюю. Как это бывает у вполне привлекательных женщин, недостаток ее — короткость губы и полуоткрытый рот — казались ее особенною, собственно ее красотой. Всем было весело смотреть на эту полную здоровья и живости хорошенькую будущую мать, так легко переносившую свое положение. Старикам и скучающим, мрачным молодым людям казалось, что они сами делаются похожи на нее, побыв и поговорив несколько времени с ней. Кто говорил с ней и видел при каждом слове ее светлую улыбочку и блестящие белые зубы, которые виднелись беспрестанно, тот думал, что он особенно нынче любезен. И это думал каждый.\"\n",
        "\n",
        "#переведём в нижний регистр:\n",
        "sample_test = sample_test.lower()\n",
        "\n",
        "#самый простой способ разбить текст на символы:\n",
        "list(sample_test)\n",
        "\n",
        "#Чтобы посчитать число вхождений символов - использует counter. В рамках занятия про него не говорили, но по запросу\n",
        "#\"frequency of elements in list python\" этот способ вылезает первой ссылкой:\n",
        "import collections\n",
        "print(collections.Counter(list(sample_test)))\n",
        "\n",
        "#Чтобы посчитать встречаемость слов - сначала выбросим все знаки припинания и цифры (заменяя их на пустые значения), \n",
        "#потом посчитаем аналогично:\n",
        "bad_char = ['0', '1', '2', '3', '4', '5', '6', '7', '8', '9', '.', ',', ':', ';', '—', '!', '?']\n",
        "\n",
        "for char in bad_char:\n",
        "    sample_test = sample_test.replace(char, \"\")\n",
        "print(collections.Counter(sample_test.split(' ')))"
      ],
      "execution_count": 13,
      "outputs": [
        {
          "output_type": "stream",
          "text": [
            "Counter({' ': 369, 'о': 201, 'е': 172, 'а': 154, 'и': 139, 'н': 131, 'т': 96, 'в': 94, 'с': 93, 'л': 89, 'р': 77, 'к': 67, 'м': 65, 'п': 52, 'я': 48, 'ы': 44, 'у': 44, 'д': 43, ',': 41, 'б': 39, 'з': 37, 'ь': 34, 'г': 27, 'х': 27, 'ш': 25, 'ч': 23, 'ж': 19, 'й': 18, '.': 17, 'ю': 14, 'a': 9, 'щ': 8, 'e': 8, 't': 8, '—': 6, 'm': 5, 'э': 4, 's': 4, 'n': 4, 'l': 3, 'u': 3, ';': 2, 'ц': 2, 'p': 2, 'é': 2, 'd': 2, 'r': 2, 'ф': 1, 'f': 1, 'i': 1, 'b': 1, 'o': 1, 'g': 1, '1': 1, ':': 1, '?': 1, '2': 1})\n",
            "Counter({'и': 20, 'с': 10, '': 8, 'не': 8, 'в': 6, 'на': 6, 'ее': 6, 'по': 5, 'приехала': 4, 'их': 4, 'но': 3, 'все': 3, 'как': 3, 'еще': 3, 'ma': 3, 'tante': 3, 'о': 3, 'здоровье': 3, 'ней': 3, 'князя': 2, 'василия': 2, 'за': 2, 'она': 2, 'была': 2, 'la': 2, 'молодая': 2, 'княгиня': 2, 'болконская': 2, 'приехал': 2, 'он': 2, 'вы': 2, 'говорила': 2, 'анна': 2, 'павловна': 2, 'к': 2, 'из': 2, 'гости': 2, 'никому': 2, 'нынче': 2, 'было': 2, 'тем': 2, 'милее': 2, 'это': 2, 'что': 2, 'думал': 2, 'гостиная': 1, 'анны': 1, 'павловны': 1, 'начала': 1, 'понемногу': 1, 'наполняться': 1, 'высшая': 1, 'знать': 1, 'петербурга': 1, 'люди': 1, 'самые': 1, 'разнородные': 1, 'возрастам': 1, 'характерам': 1, 'одинаковые': 1, 'обществу': 1, 'каком': 1, 'жили': 1, 'дочь': 1, 'красавица': 1, 'элен': 1, 'заехавшая': 1, 'отцом': 1, 'чтобы': 1, 'ним': 1, 'вместе': 1, 'ехать': 1, 'праздник': 1, 'посланника': 1, 'шифре': 1, 'бальном': 1, 'платье': 1, 'известная': 1, 'femme': 1, 'plus': 1, 'séduisante': 1, 'de': 1, 'pétersbourg': 1, 'маленькая': 1, 'прошлую': 1, 'зиму': 1, 'вышедшая': 1, 'замуж': 1, 'теперь': 1, 'выезжавшая': 1, 'большой': 1, 'свет': 1, 'причине': 1, 'своей': 1, 'беременности': 1, 'ездившая': 1, 'небольшие': 1, 'вечера': 1, 'князь': 1, 'ипполит': 1, 'сын': 1, 'мортемаром': 1, 'которого': 1, 'представил': 1, 'аббат': 1, 'морио': 1, 'многие': 1, 'другие': 1, 'видали': 1, 'или': 1, 'знакомы': 1, 'приезжавшим': 1, 'гостям': 1, 'весьма': 1, 'серьезно': 1, 'подводила': 1, 'маленькой': 1, 'старушке': 1, 'высоких': 1, 'бантах': 1, 'выплывшей': 1, 'другой': 1, 'комнаты': 1, 'скоро': 1, 'стали': 1, 'приезжать': 1, 'называла': 1, 'имени': 1, 'медленно': 1, 'переводя': 1, 'глаза': 1, 'гостя': 1, 'потом': 1, 'отходила': 1, 'совершали': 1, 'обряд': 1, 'приветствования': 1, 'известной': 1, 'интересной': 1, 'нужной': 1, 'тетушки': 1, 'грустным': 1, 'торжественным': 1, 'участием': 1, 'следила': 1, 'приветствиями': 1, 'молчаливо': 1, 'одобряя': 1, 'каждому': 1, 'одних': 1, 'тех': 1, 'же': 1, 'выражениях': 1, 'его': 1, 'своем': 1, 'величества': 1, 'которое': 1, 'слава': 1, 'богу': 1, 'лучше': 1, 'подходившие': 1, 'приличия': 1, 'выказывая': 1, 'поспешности': 1, 'чувством': 1, 'облегчения': 1, 'исполненной': 1, 'тяжелой': 1, 'обязанности': 1, 'отходили': 1, 'от': 1, 'старушки': 1, 'чтоб': 1, 'уж': 1, 'весь': 1, 'вечер': 1, 'ни': 1, 'разу': 1, 'подойти': 1, 'работой': 1, 'шитом': 1, 'золотом': 1, 'бархатном': 1, 'мешке': 1, 'хорошенькая': 1, 'чуть': 1, 'черневшимися': 1, 'усиками': 1, 'верхняя': 1, 'губка': 1, 'коротка': 1, 'зубам': 1, 'открывалась': 1, 'вытягивалась': 1, 'иногда': 1, 'опускалась': 1, 'нижнюю': 1, 'бывает': 1, 'у': 1, 'вполне': 1, 'привлекательных': 1, 'женщин': 1, 'недостаток': 1, 'короткость': 1, 'губы': 1, 'полуоткрытый': 1, 'рот': 1, 'казались': 1, 'особенною': 1, 'собственно': 1, 'красотой': 1, 'всем': 1, 'весело': 1, 'смотреть': 1, 'эту': 1, 'полную': 1, 'здоровья': 1, 'живости': 1, 'хорошенькую': 1, 'будущую': 1, 'мать': 1, 'так': 1, 'легко': 1, 'переносившую': 1, 'свое': 1, 'положение': 1, 'старикам': 1, 'скучающим': 1, 'мрачным': 1, 'молодым': 1, 'людям': 1, 'казалось': 1, 'они': 1, 'сами': 1, 'делаются': 1, 'похожи': 1, 'нее': 1, 'побыв': 1, 'поговорив': 1, 'несколько': 1, 'времени': 1, 'кто': 1, 'говорил': 1, 'видел': 1, 'при': 1, 'каждом': 1, 'слове': 1, 'светлую': 1, 'улыбочку': 1, 'блестящие': 1, 'белые': 1, 'зубы': 1, 'которые': 1, 'виднелись': 1, 'беспрестанно': 1, 'тот': 1, 'особенно': 1, 'любезен': 1, 'каждый': 1})\n"
          ],
          "name": "stdout"
        }
      ]
    },
    {
      "cell_type": "markdown",
      "metadata": {
        "id": "rpUJrTaZdfCZ"
      },
      "source": [
        "# Часть 2. Numpy\n",
        "\n"
      ]
    },
    {
      "cell_type": "code",
      "metadata": {
        "id": "I3kI_XqrdkRH"
      },
      "source": [
        "#Реализуйте функции, которые будут считать следующие расстояние между векторами:\n",
        "\n",
        "#Решение @eugeneshar, размерности проверять - очень круто!\n",
        "\n",
        "#1. Евклидово расстояние\n",
        "def euclid(x, y):\n",
        "    if len(x) == len(y):\n",
        "        return np.linalg.norm(x-y)\n",
        "    else:\n",
        "        print('Vectors have different dimensions')\n",
        "        return -1\n",
        "    \n",
        "    \n",
        "#2. Хеммингово расстояние\n",
        "def hamming(x, y):\n",
        "    if len(x) == len(y):\n",
        "        return np.sum(np.abs(x-y))\n",
        "    else:\n",
        "        print('Vectors have different dimensions')\n",
        "        return -1\n",
        "#3. Расстояние Чебышева\n",
        "def chebyshev(x, y):\n",
        "    if len(x) == len(y):\n",
        "        return np.max(np.abs(x-y))\n",
        "    else:\n",
        "        print('Vectors have different dimensions')\n",
        "        return -1\n",
        "# Вектора в функцию подаются как numpy.array."
      ],
      "execution_count": null,
      "outputs": []
    },
    {
      "cell_type": "markdown",
      "metadata": {
        "id": "IGPvDco1dy2r"
      },
      "source": [
        "# Часть 3. Pandas\n"
      ]
    },
    {
      "cell_type": "code",
      "metadata": {
        "id": "kPZgZyold2gt",
        "outputId": "29c1d01a-f933-4380-857b-ee21dbe1b0c5",
        "colab": {
          "base_uri": "https://localhost:8080/",
          "height": 229
        }
      },
      "source": [
        "#Считайте датасет из файла train.csv - это данные о выживаемости на Титанике\n",
        "df = pd.read_csv(\"train.csv\")\n",
        "df.head()"
      ],
      "execution_count": 14,
      "outputs": [
        {
          "output_type": "execute_result",
          "data": {
            "text/html": [
              "<div>\n",
              "<style scoped>\n",
              "    .dataframe tbody tr th:only-of-type {\n",
              "        vertical-align: middle;\n",
              "    }\n",
              "\n",
              "    .dataframe tbody tr th {\n",
              "        vertical-align: top;\n",
              "    }\n",
              "\n",
              "    .dataframe thead th {\n",
              "        text-align: right;\n",
              "    }\n",
              "</style>\n",
              "<table border=\"1\" class=\"dataframe\">\n",
              "  <thead>\n",
              "    <tr style=\"text-align: right;\">\n",
              "      <th></th>\n",
              "      <th>PassengerId</th>\n",
              "      <th>Survived</th>\n",
              "      <th>Pclass</th>\n",
              "      <th>Name</th>\n",
              "      <th>Sex</th>\n",
              "      <th>Age</th>\n",
              "      <th>SibSp</th>\n",
              "      <th>Parch</th>\n",
              "      <th>Ticket</th>\n",
              "      <th>Fare</th>\n",
              "      <th>Cabin</th>\n",
              "      <th>Embarked</th>\n",
              "    </tr>\n",
              "  </thead>\n",
              "  <tbody>\n",
              "    <tr>\n",
              "      <th>0</th>\n",
              "      <td>1</td>\n",
              "      <td>0</td>\n",
              "      <td>3</td>\n",
              "      <td>Braund, Mr. Owen Harris</td>\n",
              "      <td>male</td>\n",
              "      <td>22.0</td>\n",
              "      <td>1</td>\n",
              "      <td>0</td>\n",
              "      <td>A/5 21171</td>\n",
              "      <td>7.2500</td>\n",
              "      <td>NaN</td>\n",
              "      <td>S</td>\n",
              "    </tr>\n",
              "    <tr>\n",
              "      <th>1</th>\n",
              "      <td>2</td>\n",
              "      <td>1</td>\n",
              "      <td>1</td>\n",
              "      <td>Cumings, Mrs. John Bradley (Florence Briggs Th...</td>\n",
              "      <td>female</td>\n",
              "      <td>38.0</td>\n",
              "      <td>1</td>\n",
              "      <td>0</td>\n",
              "      <td>PC 17599</td>\n",
              "      <td>71.2833</td>\n",
              "      <td>C85</td>\n",
              "      <td>C</td>\n",
              "    </tr>\n",
              "    <tr>\n",
              "      <th>2</th>\n",
              "      <td>3</td>\n",
              "      <td>1</td>\n",
              "      <td>3</td>\n",
              "      <td>Heikkinen, Miss. Laina</td>\n",
              "      <td>female</td>\n",
              "      <td>26.0</td>\n",
              "      <td>0</td>\n",
              "      <td>0</td>\n",
              "      <td>STON/O2. 3101282</td>\n",
              "      <td>7.9250</td>\n",
              "      <td>NaN</td>\n",
              "      <td>S</td>\n",
              "    </tr>\n",
              "    <tr>\n",
              "      <th>3</th>\n",
              "      <td>4</td>\n",
              "      <td>1</td>\n",
              "      <td>1</td>\n",
              "      <td>Futrelle, Mrs. Jacques Heath (Lily May Peel)</td>\n",
              "      <td>female</td>\n",
              "      <td>35.0</td>\n",
              "      <td>1</td>\n",
              "      <td>0</td>\n",
              "      <td>113803</td>\n",
              "      <td>53.1000</td>\n",
              "      <td>C123</td>\n",
              "      <td>S</td>\n",
              "    </tr>\n",
              "    <tr>\n",
              "      <th>4</th>\n",
              "      <td>5</td>\n",
              "      <td>0</td>\n",
              "      <td>3</td>\n",
              "      <td>Allen, Mr. William Henry</td>\n",
              "      <td>male</td>\n",
              "      <td>35.0</td>\n",
              "      <td>0</td>\n",
              "      <td>0</td>\n",
              "      <td>373450</td>\n",
              "      <td>8.0500</td>\n",
              "      <td>NaN</td>\n",
              "      <td>S</td>\n",
              "    </tr>\n",
              "  </tbody>\n",
              "</table>\n",
              "</div>"
            ],
            "text/plain": [
              "   PassengerId  Survived  Pclass  ...     Fare Cabin  Embarked\n",
              "0            1         0       3  ...   7.2500   NaN         S\n",
              "1            2         1       1  ...  71.2833   C85         C\n",
              "2            3         1       3  ...   7.9250   NaN         S\n",
              "3            4         1       1  ...  53.1000  C123         S\n",
              "4            5         0       3  ...   8.0500   NaN         S\n",
              "\n",
              "[5 rows x 12 columns]"
            ]
          },
          "metadata": {
            "tags": []
          },
          "execution_count": 14
        }
      ]
    },
    {
      "cell_type": "code",
      "metadata": {
        "id": "7aQB_R7ujDez",
        "outputId": "07831779-01d5-486b-94f6-ca10c0ce06b0",
        "colab": {
          "base_uri": "https://localhost:8080/",
          "height": 284
        }
      },
      "source": [
        "#Выведите основную информацию о датасете - число пропусков, средние значения и т.д. \n",
        "df.describe()"
      ],
      "execution_count": 15,
      "outputs": [
        {
          "output_type": "execute_result",
          "data": {
            "text/html": [
              "<div>\n",
              "<style scoped>\n",
              "    .dataframe tbody tr th:only-of-type {\n",
              "        vertical-align: middle;\n",
              "    }\n",
              "\n",
              "    .dataframe tbody tr th {\n",
              "        vertical-align: top;\n",
              "    }\n",
              "\n",
              "    .dataframe thead th {\n",
              "        text-align: right;\n",
              "    }\n",
              "</style>\n",
              "<table border=\"1\" class=\"dataframe\">\n",
              "  <thead>\n",
              "    <tr style=\"text-align: right;\">\n",
              "      <th></th>\n",
              "      <th>PassengerId</th>\n",
              "      <th>Survived</th>\n",
              "      <th>Pclass</th>\n",
              "      <th>Age</th>\n",
              "      <th>SibSp</th>\n",
              "      <th>Parch</th>\n",
              "      <th>Fare</th>\n",
              "    </tr>\n",
              "  </thead>\n",
              "  <tbody>\n",
              "    <tr>\n",
              "      <th>count</th>\n",
              "      <td>891.000000</td>\n",
              "      <td>891.000000</td>\n",
              "      <td>891.000000</td>\n",
              "      <td>714.000000</td>\n",
              "      <td>891.000000</td>\n",
              "      <td>891.000000</td>\n",
              "      <td>891.000000</td>\n",
              "    </tr>\n",
              "    <tr>\n",
              "      <th>mean</th>\n",
              "      <td>446.000000</td>\n",
              "      <td>0.383838</td>\n",
              "      <td>2.308642</td>\n",
              "      <td>29.699118</td>\n",
              "      <td>0.523008</td>\n",
              "      <td>0.381594</td>\n",
              "      <td>32.204208</td>\n",
              "    </tr>\n",
              "    <tr>\n",
              "      <th>std</th>\n",
              "      <td>257.353842</td>\n",
              "      <td>0.486592</td>\n",
              "      <td>0.836071</td>\n",
              "      <td>14.526497</td>\n",
              "      <td>1.102743</td>\n",
              "      <td>0.806057</td>\n",
              "      <td>49.693429</td>\n",
              "    </tr>\n",
              "    <tr>\n",
              "      <th>min</th>\n",
              "      <td>1.000000</td>\n",
              "      <td>0.000000</td>\n",
              "      <td>1.000000</td>\n",
              "      <td>0.420000</td>\n",
              "      <td>0.000000</td>\n",
              "      <td>0.000000</td>\n",
              "      <td>0.000000</td>\n",
              "    </tr>\n",
              "    <tr>\n",
              "      <th>25%</th>\n",
              "      <td>223.500000</td>\n",
              "      <td>0.000000</td>\n",
              "      <td>2.000000</td>\n",
              "      <td>20.125000</td>\n",
              "      <td>0.000000</td>\n",
              "      <td>0.000000</td>\n",
              "      <td>7.910400</td>\n",
              "    </tr>\n",
              "    <tr>\n",
              "      <th>50%</th>\n",
              "      <td>446.000000</td>\n",
              "      <td>0.000000</td>\n",
              "      <td>3.000000</td>\n",
              "      <td>28.000000</td>\n",
              "      <td>0.000000</td>\n",
              "      <td>0.000000</td>\n",
              "      <td>14.454200</td>\n",
              "    </tr>\n",
              "    <tr>\n",
              "      <th>75%</th>\n",
              "      <td>668.500000</td>\n",
              "      <td>1.000000</td>\n",
              "      <td>3.000000</td>\n",
              "      <td>38.000000</td>\n",
              "      <td>1.000000</td>\n",
              "      <td>0.000000</td>\n",
              "      <td>31.000000</td>\n",
              "    </tr>\n",
              "    <tr>\n",
              "      <th>max</th>\n",
              "      <td>891.000000</td>\n",
              "      <td>1.000000</td>\n",
              "      <td>3.000000</td>\n",
              "      <td>80.000000</td>\n",
              "      <td>8.000000</td>\n",
              "      <td>6.000000</td>\n",
              "      <td>512.329200</td>\n",
              "    </tr>\n",
              "  </tbody>\n",
              "</table>\n",
              "</div>"
            ],
            "text/plain": [
              "       PassengerId    Survived      Pclass  ...       SibSp       Parch        Fare\n",
              "count   891.000000  891.000000  891.000000  ...  891.000000  891.000000  891.000000\n",
              "mean    446.000000    0.383838    2.308642  ...    0.523008    0.381594   32.204208\n",
              "std     257.353842    0.486592    0.836071  ...    1.102743    0.806057   49.693429\n",
              "min       1.000000    0.000000    1.000000  ...    0.000000    0.000000    0.000000\n",
              "25%     223.500000    0.000000    2.000000  ...    0.000000    0.000000    7.910400\n",
              "50%     446.000000    0.000000    3.000000  ...    0.000000    0.000000   14.454200\n",
              "75%     668.500000    1.000000    3.000000  ...    1.000000    0.000000   31.000000\n",
              "max     891.000000    1.000000    3.000000  ...    8.000000    6.000000  512.329200\n",
              "\n",
              "[8 rows x 7 columns]"
            ]
          },
          "metadata": {
            "tags": []
          },
          "execution_count": 15
        }
      ]
    },
    {
      "cell_type": "code",
      "metadata": {
        "id": "myfIaGM0kExI",
        "outputId": "dc9d4b12-6f42-48c1-da0b-fb342320b1ee",
        "colab": {
          "base_uri": "https://localhost:8080/",
          "height": 336
        }
      },
      "source": [
        "df.info()"
      ],
      "execution_count": 16,
      "outputs": [
        {
          "output_type": "stream",
          "text": [
            "<class 'pandas.core.frame.DataFrame'>\n",
            "RangeIndex: 891 entries, 0 to 890\n",
            "Data columns (total 12 columns):\n",
            " #   Column       Non-Null Count  Dtype  \n",
            "---  ------       --------------  -----  \n",
            " 0   PassengerId  891 non-null    int64  \n",
            " 1   Survived     891 non-null    int64  \n",
            " 2   Pclass       891 non-null    int64  \n",
            " 3   Name         891 non-null    object \n",
            " 4   Sex          891 non-null    object \n",
            " 5   Age          714 non-null    float64\n",
            " 6   SibSp        891 non-null    int64  \n",
            " 7   Parch        891 non-null    int64  \n",
            " 8   Ticket       891 non-null    object \n",
            " 9   Fare         891 non-null    float64\n",
            " 10  Cabin        204 non-null    object \n",
            " 11  Embarked     889 non-null    object \n",
            "dtypes: float64(2), int64(5), object(5)\n",
            "memory usage: 83.7+ KB\n"
          ],
          "name": "stdout"
        }
      ]
    },
    {
      "cell_type": "code",
      "metadata": {
        "id": "PWLQXS7xjlHu",
        "outputId": "7ed60052-48ff-4f29-c55e-f98a986c5916",
        "colab": {
          "base_uri": "https://localhost:8080/",
          "height": 166
        }
      },
      "source": [
        "#Посчитайте процент выживаемости у каждого класса пассажиров (Pclass) \n",
        "df.groupby(\"Pclass\")[['Survived']].mean()*100"
      ],
      "execution_count": 21,
      "outputs": [
        {
          "output_type": "execute_result",
          "data": {
            "text/html": [
              "<div>\n",
              "<style scoped>\n",
              "    .dataframe tbody tr th:only-of-type {\n",
              "        vertical-align: middle;\n",
              "    }\n",
              "\n",
              "    .dataframe tbody tr th {\n",
              "        vertical-align: top;\n",
              "    }\n",
              "\n",
              "    .dataframe thead th {\n",
              "        text-align: right;\n",
              "    }\n",
              "</style>\n",
              "<table border=\"1\" class=\"dataframe\">\n",
              "  <thead>\n",
              "    <tr style=\"text-align: right;\">\n",
              "      <th></th>\n",
              "      <th>Survived</th>\n",
              "    </tr>\n",
              "    <tr>\n",
              "      <th>Pclass</th>\n",
              "      <th></th>\n",
              "    </tr>\n",
              "  </thead>\n",
              "  <tbody>\n",
              "    <tr>\n",
              "      <th>1</th>\n",
              "      <td>62.962963</td>\n",
              "    </tr>\n",
              "    <tr>\n",
              "      <th>2</th>\n",
              "      <td>47.282609</td>\n",
              "    </tr>\n",
              "    <tr>\n",
              "      <th>3</th>\n",
              "      <td>24.236253</td>\n",
              "    </tr>\n",
              "  </tbody>\n",
              "</table>\n",
              "</div>"
            ],
            "text/plain": [
              "         Survived\n",
              "Pclass           \n",
              "1       62.962963\n",
              "2       47.282609\n",
              "3       24.236253"
            ]
          },
          "metadata": {
            "tags": []
          },
          "execution_count": 21
        }
      ]
    },
    {
      "cell_type": "code",
      "metadata": {
        "id": "M5GeJ-axkJMr",
        "outputId": "9297be1b-7664-4d43-b5fe-904c27791ea9",
        "colab": {
          "base_uri": "https://localhost:8080/",
          "height": 136
        }
      },
      "source": [
        "#Посчитайте процнт выживаемости для мужчин и женщин\n",
        "df.groupby(\"Sex\")[['Survived']].mean()*100"
      ],
      "execution_count": 22,
      "outputs": [
        {
          "output_type": "execute_result",
          "data": {
            "text/html": [
              "<div>\n",
              "<style scoped>\n",
              "    .dataframe tbody tr th:only-of-type {\n",
              "        vertical-align: middle;\n",
              "    }\n",
              "\n",
              "    .dataframe tbody tr th {\n",
              "        vertical-align: top;\n",
              "    }\n",
              "\n",
              "    .dataframe thead th {\n",
              "        text-align: right;\n",
              "    }\n",
              "</style>\n",
              "<table border=\"1\" class=\"dataframe\">\n",
              "  <thead>\n",
              "    <tr style=\"text-align: right;\">\n",
              "      <th></th>\n",
              "      <th>Survived</th>\n",
              "    </tr>\n",
              "    <tr>\n",
              "      <th>Sex</th>\n",
              "      <th></th>\n",
              "    </tr>\n",
              "  </thead>\n",
              "  <tbody>\n",
              "    <tr>\n",
              "      <th>female</th>\n",
              "      <td>74.203822</td>\n",
              "    </tr>\n",
              "    <tr>\n",
              "      <th>male</th>\n",
              "      <td>18.890815</td>\n",
              "    </tr>\n",
              "  </tbody>\n",
              "</table>\n",
              "</div>"
            ],
            "text/plain": [
              "         Survived\n",
              "Sex              \n",
              "female  74.203822\n",
              "male    18.890815"
            ]
          },
          "metadata": {
            "tags": []
          },
          "execution_count": 22
        }
      ]
    },
    {
      "cell_type": "code",
      "metadata": {
        "id": "xlMLVOWikUzs"
      },
      "source": [
        "#Выведите самое популярное мужское и самое популярное женское имя на корабле\n",
        "#Опять же, очень красивое решение от @eugeneshar:\n",
        "def get_name(string):\n",
        "    try:\n",
        "        if '(' in string:\n",
        "            names = string.split('(')[1]\n",
        "            name = names.split(' ')[0]\n",
        "            return name\n",
        "        else:\n",
        "            names = string.split('.')[1]\n",
        "            name = names.split(' ')[1]\n",
        "            return name\n",
        "    except:\n",
        "        return 'Eugene'\n",
        "\n",
        "df['given_name'] = df['Name'].apply(get_name)"
      ],
      "execution_count": 28,
      "outputs": []
    },
    {
      "cell_type": "code",
      "metadata": {
        "id": "NnxLBWzek5Xg",
        "outputId": "bb545821-93b7-4491-a3cc-f9fcef7fe52a",
        "colab": {
          "base_uri": "https://localhost:8080/",
          "height": 35
        }
      },
      "source": [
        "df.loc[df['Sex'] == 'female', 'given_name'].value_counts().idxmax()"
      ],
      "execution_count": 33,
      "outputs": [
        {
          "output_type": "execute_result",
          "data": {
            "application/vnd.google.colaboratory.intrinsic+json": {
              "type": "string"
            },
            "text/plain": [
              "'Anna'"
            ]
          },
          "metadata": {
            "tags": []
          },
          "execution_count": 33
        }
      ]
    },
    {
      "cell_type": "code",
      "metadata": {
        "id": "-1OoD5Silrmb",
        "outputId": "d04ee622-4b16-4f70-d494-b119d1ca3174",
        "colab": {
          "base_uri": "https://localhost:8080/",
          "height": 35
        }
      },
      "source": [
        "df.loc[df['Sex'] == 'male', 'given_name'].value_counts().idxmax()"
      ],
      "execution_count": 34,
      "outputs": [
        {
          "output_type": "execute_result",
          "data": {
            "application/vnd.google.colaboratory.intrinsic+json": {
              "type": "string"
            },
            "text/plain": [
              "'William'"
            ]
          },
          "metadata": {
            "tags": []
          },
          "execution_count": 34
        }
      ]
    },
    {
      "cell_type": "code",
      "metadata": {
        "id": "d6BAqmKflzme",
        "outputId": "1d509de7-a114-400c-85f2-d0c502023c61",
        "colab": {
          "base_uri": "https://localhost:8080/",
          "height": 151
        }
      },
      "source": [
        "#Выведите самое популярное мужское и самое популярное женское имя на корабле в каждом классе\n",
        "df.groupby(['Pclass', 'Sex'])['given_name'].value_counts().groupby(['Pclass', 'Sex']).idxmax()"
      ],
      "execution_count": 36,
      "outputs": [
        {
          "output_type": "execute_result",
          "data": {
            "text/plain": [
              "Pclass  Sex   \n",
              "1       female    (1, female, Elizabeth)\n",
              "        male          (1, male, William)\n",
              "2       female    (2, female, Elizabeth)\n",
              "        male          (2, male, William)\n",
              "3       female         (3, female, Anna)\n",
              "        male          (3, male, William)\n",
              "Name: given_name, dtype: object"
            ]
          },
          "metadata": {
            "tags": []
          },
          "execution_count": 36
        }
      ]
    },
    {
      "cell_type": "code",
      "metadata": {
        "id": "FrBX2MAYl2OR",
        "outputId": "c4a6ade2-e246-4261-ff48-6f195ec40e02",
        "colab": {
          "base_uri": "https://localhost:8080/",
          "height": 101
        }
      },
      "source": [
        "#Выведите количества n-местных кабин (в которых было 2, 3, 4, ... человека)\n",
        "df.groupby(\"Cabin\")['Cabin'].count().value_counts()"
      ],
      "execution_count": 44,
      "outputs": [
        {
          "output_type": "execute_result",
          "data": {
            "text/plain": [
              "1    101\n",
              "2     38\n",
              "3      5\n",
              "4      3\n",
              "Name: Cabin, dtype: int64"
            ]
          },
          "metadata": {
            "tags": []
          },
          "execution_count": 44
        }
      ]
    },
    {
      "cell_type": "code",
      "metadata": {
        "id": "8vkAK4T47l_f",
        "outputId": "591d25e9-a83e-475b-b817-efd4067bb042",
        "colab": {
          "base_uri": "https://localhost:8080/",
          "height": 229
        }
      },
      "source": [
        "#Выведите часть таблицы с пассажирами, возраст которых больше 44 лет.\n",
        "df[df[\"Age\"] > 44].head()"
      ],
      "execution_count": 47,
      "outputs": [
        {
          "output_type": "execute_result",
          "data": {
            "text/html": [
              "<div>\n",
              "<style scoped>\n",
              "    .dataframe tbody tr th:only-of-type {\n",
              "        vertical-align: middle;\n",
              "    }\n",
              "\n",
              "    .dataframe tbody tr th {\n",
              "        vertical-align: top;\n",
              "    }\n",
              "\n",
              "    .dataframe thead th {\n",
              "        text-align: right;\n",
              "    }\n",
              "</style>\n",
              "<table border=\"1\" class=\"dataframe\">\n",
              "  <thead>\n",
              "    <tr style=\"text-align: right;\">\n",
              "      <th></th>\n",
              "      <th>PassengerId</th>\n",
              "      <th>Survived</th>\n",
              "      <th>Pclass</th>\n",
              "      <th>Name</th>\n",
              "      <th>Sex</th>\n",
              "      <th>Age</th>\n",
              "      <th>SibSp</th>\n",
              "      <th>Parch</th>\n",
              "      <th>Ticket</th>\n",
              "      <th>Fare</th>\n",
              "      <th>Cabin</th>\n",
              "      <th>Embarked</th>\n",
              "      <th>given_name</th>\n",
              "    </tr>\n",
              "  </thead>\n",
              "  <tbody>\n",
              "    <tr>\n",
              "      <th>6</th>\n",
              "      <td>7</td>\n",
              "      <td>0</td>\n",
              "      <td>1</td>\n",
              "      <td>McCarthy, Mr. Timothy J</td>\n",
              "      <td>male</td>\n",
              "      <td>54.0</td>\n",
              "      <td>0</td>\n",
              "      <td>0</td>\n",
              "      <td>17463</td>\n",
              "      <td>51.8625</td>\n",
              "      <td>E46</td>\n",
              "      <td>S</td>\n",
              "      <td>Timothy</td>\n",
              "    </tr>\n",
              "    <tr>\n",
              "      <th>11</th>\n",
              "      <td>12</td>\n",
              "      <td>1</td>\n",
              "      <td>1</td>\n",
              "      <td>Bonnell, Miss. Elizabeth</td>\n",
              "      <td>female</td>\n",
              "      <td>58.0</td>\n",
              "      <td>0</td>\n",
              "      <td>0</td>\n",
              "      <td>113783</td>\n",
              "      <td>26.5500</td>\n",
              "      <td>C103</td>\n",
              "      <td>S</td>\n",
              "      <td>Elizabeth</td>\n",
              "    </tr>\n",
              "    <tr>\n",
              "      <th>15</th>\n",
              "      <td>16</td>\n",
              "      <td>1</td>\n",
              "      <td>2</td>\n",
              "      <td>Hewlett, Mrs. (Mary D Kingcome)</td>\n",
              "      <td>female</td>\n",
              "      <td>55.0</td>\n",
              "      <td>0</td>\n",
              "      <td>0</td>\n",
              "      <td>248706</td>\n",
              "      <td>16.0000</td>\n",
              "      <td>NaN</td>\n",
              "      <td>S</td>\n",
              "      <td>Mary</td>\n",
              "    </tr>\n",
              "    <tr>\n",
              "      <th>33</th>\n",
              "      <td>34</td>\n",
              "      <td>0</td>\n",
              "      <td>2</td>\n",
              "      <td>Wheadon, Mr. Edward H</td>\n",
              "      <td>male</td>\n",
              "      <td>66.0</td>\n",
              "      <td>0</td>\n",
              "      <td>0</td>\n",
              "      <td>C.A. 24579</td>\n",
              "      <td>10.5000</td>\n",
              "      <td>NaN</td>\n",
              "      <td>S</td>\n",
              "      <td>Edward</td>\n",
              "    </tr>\n",
              "    <tr>\n",
              "      <th>52</th>\n",
              "      <td>53</td>\n",
              "      <td>1</td>\n",
              "      <td>1</td>\n",
              "      <td>Harper, Mrs. Henry Sleeper (Myna Haxtun)</td>\n",
              "      <td>female</td>\n",
              "      <td>49.0</td>\n",
              "      <td>1</td>\n",
              "      <td>0</td>\n",
              "      <td>PC 17572</td>\n",
              "      <td>76.7292</td>\n",
              "      <td>D33</td>\n",
              "      <td>C</td>\n",
              "      <td>Myna</td>\n",
              "    </tr>\n",
              "  </tbody>\n",
              "</table>\n",
              "</div>"
            ],
            "text/plain": [
              "    PassengerId  Survived  Pclass  ... Cabin Embarked  given_name\n",
              "6             7         0       1  ...   E46        S     Timothy\n",
              "11           12         1       1  ...  C103        S   Elizabeth\n",
              "15           16         1       2  ...   NaN        S        Mary\n",
              "33           34         0       2  ...   NaN        S      Edward\n",
              "52           53         1       1  ...   D33        C        Myna\n",
              "\n",
              "[5 rows x 13 columns]"
            ]
          },
          "metadata": {
            "tags": []
          },
          "execution_count": 47
        }
      ]
    },
    {
      "cell_type": "code",
      "metadata": {
        "id": "GfBDF1Rh8nG0",
        "outputId": "49044f6c-607a-43f1-8ea8-7834c48ffd84",
        "colab": {
          "base_uri": "https://localhost:8080/",
          "height": 195
        }
      },
      "source": [
        "#Выведите часть таблицы с пассажирами, возраст которых меньше 44 лет и которые мужского пола.\n",
        "df[(df[\"Age\"] < 44) & (df[\"Sex\"] == \"male\")].head()"
      ],
      "execution_count": 48,
      "outputs": [
        {
          "output_type": "execute_result",
          "data": {
            "text/html": [
              "<div>\n",
              "<style scoped>\n",
              "    .dataframe tbody tr th:only-of-type {\n",
              "        vertical-align: middle;\n",
              "    }\n",
              "\n",
              "    .dataframe tbody tr th {\n",
              "        vertical-align: top;\n",
              "    }\n",
              "\n",
              "    .dataframe thead th {\n",
              "        text-align: right;\n",
              "    }\n",
              "</style>\n",
              "<table border=\"1\" class=\"dataframe\">\n",
              "  <thead>\n",
              "    <tr style=\"text-align: right;\">\n",
              "      <th></th>\n",
              "      <th>PassengerId</th>\n",
              "      <th>Survived</th>\n",
              "      <th>Pclass</th>\n",
              "      <th>Name</th>\n",
              "      <th>Sex</th>\n",
              "      <th>Age</th>\n",
              "      <th>SibSp</th>\n",
              "      <th>Parch</th>\n",
              "      <th>Ticket</th>\n",
              "      <th>Fare</th>\n",
              "      <th>Cabin</th>\n",
              "      <th>Embarked</th>\n",
              "      <th>given_name</th>\n",
              "    </tr>\n",
              "  </thead>\n",
              "  <tbody>\n",
              "    <tr>\n",
              "      <th>0</th>\n",
              "      <td>1</td>\n",
              "      <td>0</td>\n",
              "      <td>3</td>\n",
              "      <td>Braund, Mr. Owen Harris</td>\n",
              "      <td>male</td>\n",
              "      <td>22.0</td>\n",
              "      <td>1</td>\n",
              "      <td>0</td>\n",
              "      <td>A/5 21171</td>\n",
              "      <td>7.250</td>\n",
              "      <td>NaN</td>\n",
              "      <td>S</td>\n",
              "      <td>Owen</td>\n",
              "    </tr>\n",
              "    <tr>\n",
              "      <th>4</th>\n",
              "      <td>5</td>\n",
              "      <td>0</td>\n",
              "      <td>3</td>\n",
              "      <td>Allen, Mr. William Henry</td>\n",
              "      <td>male</td>\n",
              "      <td>35.0</td>\n",
              "      <td>0</td>\n",
              "      <td>0</td>\n",
              "      <td>373450</td>\n",
              "      <td>8.050</td>\n",
              "      <td>NaN</td>\n",
              "      <td>S</td>\n",
              "      <td>William</td>\n",
              "    </tr>\n",
              "    <tr>\n",
              "      <th>7</th>\n",
              "      <td>8</td>\n",
              "      <td>0</td>\n",
              "      <td>3</td>\n",
              "      <td>Palsson, Master. Gosta Leonard</td>\n",
              "      <td>male</td>\n",
              "      <td>2.0</td>\n",
              "      <td>3</td>\n",
              "      <td>1</td>\n",
              "      <td>349909</td>\n",
              "      <td>21.075</td>\n",
              "      <td>NaN</td>\n",
              "      <td>S</td>\n",
              "      <td>Gosta</td>\n",
              "    </tr>\n",
              "    <tr>\n",
              "      <th>12</th>\n",
              "      <td>13</td>\n",
              "      <td>0</td>\n",
              "      <td>3</td>\n",
              "      <td>Saundercock, Mr. William Henry</td>\n",
              "      <td>male</td>\n",
              "      <td>20.0</td>\n",
              "      <td>0</td>\n",
              "      <td>0</td>\n",
              "      <td>A/5. 2151</td>\n",
              "      <td>8.050</td>\n",
              "      <td>NaN</td>\n",
              "      <td>S</td>\n",
              "      <td>William</td>\n",
              "    </tr>\n",
              "    <tr>\n",
              "      <th>13</th>\n",
              "      <td>14</td>\n",
              "      <td>0</td>\n",
              "      <td>3</td>\n",
              "      <td>Andersson, Mr. Anders Johan</td>\n",
              "      <td>male</td>\n",
              "      <td>39.0</td>\n",
              "      <td>1</td>\n",
              "      <td>5</td>\n",
              "      <td>347082</td>\n",
              "      <td>31.275</td>\n",
              "      <td>NaN</td>\n",
              "      <td>S</td>\n",
              "      <td>Anders</td>\n",
              "    </tr>\n",
              "  </tbody>\n",
              "</table>\n",
              "</div>"
            ],
            "text/plain": [
              "    PassengerId  Survived  Pclass  ... Cabin Embarked  given_name\n",
              "0             1         0       3  ...   NaN        S        Owen\n",
              "4             5         0       3  ...   NaN        S     William\n",
              "7             8         0       3  ...   NaN        S       Gosta\n",
              "12           13         0       3  ...   NaN        S     William\n",
              "13           14         0       3  ...   NaN        S      Anders\n",
              "\n",
              "[5 rows x 13 columns]"
            ]
          },
          "metadata": {
            "tags": []
          },
          "execution_count": 48
        }
      ]
    }
  ]
}