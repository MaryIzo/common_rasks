{
 "cells": [
  {
   "cell_type": "code",
   "execution_count": 1,
   "metadata": {},
   "outputs": [],
   "source": [
    "import warnings\n",
    "warnings.filterwarnings('ignore')\n",
    "\n",
    "import pandas as pd\n",
    "import numpy as np\n",
    "import geopandas as gpd\n",
    "\n",
    "from sklearn.model_selection import train_test_split\n",
    "from sklearn.metrics import mean_absolute_error\n",
    "from sklearn.linear_model import LinearRegression\n",
    "\n",
    "import requests\n",
    "import json\n",
    "import time\n",
    "from geopy.geocoders import Nominatim\n",
    "import re\n",
    "\n",
    "from geopy import distance\n",
    "from shapely.geometry import Point\n",
    "from matplotlib import pyplot as plt"
   ]
  },
  {
   "cell_type": "markdown",
   "metadata": {},
   "source": [
    "### Задача:\n",
    "\n",
    "Прогноз продаж одной из популярных моделей [фичерфонов](https://ru.wikipedia.org/wiki/%D0%A4%D0%B8%D1%87%D0%B5%D1%80%D1%84%D0%BE%D0%BD) (на картинке ниже пример похожего устройства) в салонах МегаФона\n",
    "![](https://39.img.avito.st/640x480/8468720439.jpg)"
   ]
  },
  {
   "cell_type": "markdown",
   "metadata": {},
   "source": [
    "### Исходные данные:\n",
    "\n",
    "Датасет содержит следующие поля:\n",
    "\n",
    "1. `point_id` - Индентификатор салона\n",
    "2. `lon` - Долгота точки\n",
    "3. `lat` - Широта точки\n",
    "4. `target` - Значение таргета, усредненное за несколько месяцев и отнормированное"
   ]
  },
  {
   "cell_type": "markdown",
   "metadata": {},
   "source": [
    "### Требования к решению и советы:\n",
    "\n",
    "Ниже приведен список из нескольких важных пунктов, необходимых для решения задания. Выполнение каждого из пунктов влияет на итоговую оценку. Вы можете выполнить каждый из пунктов разными способами, самым лучшим будет считаться вариант, когда всё получение и обработка данных будут реализованы на Питоне (пример: вы можете скачать данные из OSM через интерфейс на сайте overpass-turbo или с помощью библиотек `overpass`/`requests`. Оба варианта будут зачтены, но больше баллов можно заработать во втором случае)\n",
    "\n",
    "\n",
    "\n",
    "1. Салоны расположены в нескольких разных городах, вам необходимо **определить город для каждого салона** (это понадобится во многих частях задания). К этому есть разные подходы. Вы можете провести [обратное геокодирование](https://en.wikipedia.org/wiki/Reverse_geocoding) с помощью геокодера [Nominatim](https://nominatim.org/), доступного через библиотеку `geopy` примерно вот так:\n",
    "```python\n",
    "from geopy.geocoders import Nominatim\n",
    "geolocator = Nominatim(user_agent=\"specify_your_app_name_here\")\n",
    "location = geolocator.reverse(\"52.509669, 13.376294\")\n",
    "print(location.address)\n",
    "```\n",
    "В таком случае, вам придется обрабатывать полученную строку адреса, чтобы извлечь название города. Также вы можете скачать из OSM или найти в любом другом источнике границы административно территориальных границ России и пересечь с ними датасет с помощью `geopandas.sjoin` (этот вариант более надежный, но нужно будет разобраться с тем, как устроены границы АТД в OSM, обратите внимание на [этот тег](https://wiki.openstreetmap.org/wiki/Key:admin_level))"
   ]
  },
  {
   "cell_type": "code",
   "execution_count": 3,
   "metadata": {},
   "outputs": [],
   "source": [
    "train = pd.read_csv('data/mf_geo_train.csv')"
   ]
  },
  {
   "cell_type": "code",
   "execution_count": 362,
   "metadata": {},
   "outputs": [
    {
     "data": {
      "text/plain": [
       "['point_id', 'lon', 'lat', 'target']"
      ]
     },
     "execution_count": 362,
     "metadata": {},
     "output_type": "execute_result"
    }
   ],
   "source": [
    "test = pd.read_csv('data/mf_geo_test.csv')\n",
    "list(test)"
   ]
  },
  {
   "cell_type": "code",
   "execution_count": 88,
   "metadata": {},
   "outputs": [
    {
     "data": {
      "text/plain": [
       "['point_id', 'lon', 'lat', 'target']"
      ]
     },
     "execution_count": 88,
     "metadata": {},
     "output_type": "execute_result"
    }
   ],
   "source": [
    "list(train)\n",
    "# lon - долгота\n",
    "# lat - широта"
   ]
  },
  {
   "cell_type": "code",
   "execution_count": 363,
   "metadata": {},
   "outputs": [],
   "source": [
    "# Создание нового столбца координат\n",
    "y = train['lat'].astype('str')\n",
    "x = train['lon'].astype('str')\n",
    "s = y+\", \"+x\n",
    "train['coordinate'] = s"
   ]
  },
  {
   "cell_type": "code",
   "execution_count": 364,
   "metadata": {},
   "outputs": [],
   "source": [
    "# Создание нового столбца координат\n",
    "y = test['lat'].astype('str')\n",
    "x = test['lon'].astype('str')\n",
    "s = y+\", \"+x\n",
    "test['coordinate'] = s"
   ]
  },
  {
   "cell_type": "code",
   "execution_count": 365,
   "metadata": {},
   "outputs": [],
   "source": [
    "overpass_url = \"http://overpass-api.de/api/interpreter?data=[out:json];node(1);out;\"\n",
    "\n",
    "overpass_query1 = \"\"\"  \n",
    "[out:json];\n",
    "area[\"name\"=\"Россия\"][admin_level=2];\n",
    "(node[\"place\"=\"city\"](area););\n",
    "out center; \"\"\"\n",
    "response1 = requests.get(overpass_url, \n",
    "                        params={'data': overpass_query1})\n",
    "data1 = response1.json()"
   ]
  },
  {
   "cell_type": "code",
   "execution_count": 366,
   "metadata": {},
   "outputs": [],
   "source": [
    "# Загружаем названия всех городов в России\n",
    "Russia = pd.json_normalize(data1['elements'])\n",
    "all_names = list(set(Russia['tags.name']))"
   ]
  },
  {
   "cell_type": "code",
   "execution_count": 8,
   "metadata": {},
   "outputs": [],
   "source": [
    "# Чтобы не переписывать весь код, замена\n",
    "#train = test.copy()"
   ]
  },
  {
   "cell_type": "code",
   "execution_count": 369,
   "metadata": {},
   "outputs": [],
   "source": [
    "def function_name(j, x):\n",
    "    name = None\n",
    "    \n",
    "    # Самые частые города\n",
    "    \n",
    "    if 'Москва' in x:\n",
    "        print('Москва')\n",
    "        return 'Москва'\n",
    "        \n",
    "    if 'Санкт-Петербург' in x:\n",
    "        print('Санкт-Петербург')\n",
    "        return 'Санкт-Петербург'\n",
    "    \n",
    "    for k in x:\n",
    "        low_sum = sum(i.isupper() for i in k)\n",
    "        \n",
    "        if (k!='Россия') and  not k.isdigit() :\n",
    "            if k in all_names:\n",
    "                print(k)\n",
    "                return k"
   ]
  },
  {
   "cell_type": "code",
   "execution_count": 359,
   "metadata": {},
   "outputs": [],
   "source": [
    "def all_city_names_trainNew2(data):\n",
    "    all_city = []\n",
    "    \n",
    "    for i in range(len(data)):\n",
    "        coord = data['coordinate'][i]\n",
    "        geolocator = Nominatim(user_agent=overpass_url)\n",
    "        location = geolocator.reverse(coord)\n",
    "        s = location.address\n",
    "        x = s.split(', ')\n",
    "        all_city.append(function_name(i, x))\n",
    "        # Проверяем, что ничего не потерялось по дороге\n",
    "        if len(all_city)<i:\n",
    "            print(i)\n",
    "            break\n",
    "    return all_city"
   ]
  },
  {
   "cell_type": "code",
   "execution_count": 4,
   "metadata": {},
   "outputs": [],
   "source": [
    "# Добавляем столбец названий городов\n",
    "train['city'] = all_city_names_trainNew2(train)"
   ]
  },
  {
   "cell_type": "code",
   "execution_count": null,
   "metadata": {},
   "outputs": [],
   "source": [
    "test['city'] = all_city_names_trainNew2(test)"
   ]
  },
  {
   "cell_type": "code",
   "execution_count": 372,
   "metadata": {},
   "outputs": [],
   "source": [
    "# Сохранение, чтобы не пересчитываь\n",
    "#train.to_csv('data/trainNew2')"
   ]
  },
  {
   "cell_type": "code",
   "execution_count": null,
   "metadata": {},
   "outputs": [],
   "source": [
    "# Сохранение, чтобы не пересчитываь\n",
    "#test.to_csv('data/testNew2')"
   ]
  },
  {
   "cell_type": "code",
   "execution_count": 374,
   "metadata": {},
   "outputs": [],
   "source": [
    "# Можно практически перебрать все города\n",
    "\n",
    "def all_city_names_trainNew1(data):\n",
    "    \n",
    "    all_city = []\n",
    "    \n",
    "    for i in range(len(train)):\n",
    "        coord = train['coordinate'][i]\n",
    "        geolocator = Nominatim(user_agent=overpass_url)\n",
    "        location = geolocator.reverse(coord)\n",
    "        s = location.address\n",
    "        x = s.split(', ')\n",
    "        n = len(x)//2\n",
    "        # Чаще всего название города встречается во второй половине\n",
    "        some = x[n-1:]\n",
    "        # Можно напрямую проверять самые частые города\n",
    "        if 'Москва' in x:\n",
    "            all_city.append('Москва')\n",
    "            #print(i, ' ', 'Москва')\n",
    "        elif 'Санкт-Петербург' in x:\n",
    "            all_city.append('Санкт-Петербург')\n",
    "            #print(i, ' ', 'Санкт-Петербург')\n",
    "        elif 'Нижний Новгород' in x:\n",
    "            all_city.append('Нижний Новгород')\n",
    "        elif 'Екатеринбург' in x:\n",
    "            all_city.append('Екатеринбург')\n",
    "        elif 'Самара' in x:\n",
    "            all_city.append('Самара')\n",
    "        elif 'Уфа' in x:\n",
    "            all_city.append('Уфа')\n",
    "            #print(i, ' ', 'Санкт-Петербург')\n",
    "        else:     \n",
    "            for k in some:\n",
    "                l = k.split(' ')\n",
    "                # В случае города чаще всего он состоит из одного слова\n",
    "                # Исключаем цифры и латинские буквы\n",
    "                if (len(l)== 1) and (l[0]!='Россия') and not (re.search(r'[^a-zA-Zа-яА-Я-]',l[0] )):\n",
    "                    all_city.append(l[0])\n",
    "                    print(i, ' ', l[0])\n",
    "                    break\n",
    "        if len(all_city)<i:\n",
    "            print(i)\n",
    "    return all_city"
   ]
  },
  {
   "cell_type": "code",
   "execution_count": 13,
   "metadata": {},
   "outputs": [],
   "source": [
    "train['city'] = all_city_names_trainNew1(train)"
   ]
  },
  {
   "cell_type": "code",
   "execution_count": null,
   "metadata": {},
   "outputs": [],
   "source": [
    "test['city'] = all_city_names_trainNew1(test)"
   ]
  },
  {
   "cell_type": "code",
   "execution_count": null,
   "metadata": {},
   "outputs": [],
   "source": [
    "# Сохранение, чтобы не пересчитываь\n",
    "#train.to_csv('data/trainNew1')"
   ]
  },
  {
   "cell_type": "code",
   "execution_count": 18,
   "metadata": {},
   "outputs": [],
   "source": [
    "# Сохранение, чтобы не пересчитываь\n",
    "#test.to_csv('data/testNew1')"
   ]
  },
  {
   "cell_type": "code",
   "execution_count": 377,
   "metadata": {},
   "outputs": [],
   "source": [
    "trainNew1 = pd.read_csv('data/trainNew1').drop('Unnamed: 0', axis = 1)\n",
    "trainNew2 = pd.read_csv('data/trainNew2').drop('Unnamed: 0', axis = 1) # api"
   ]
  },
  {
   "cell_type": "code",
   "execution_count": 26,
   "metadata": {},
   "outputs": [],
   "source": [
    "#trainNew1 = pd.read_csv('data/testNew1').drop('Unnamed: 0', axis = 1)\n",
    "#trainNew2 = pd.read_csv('data/testNew2').drop('Unnamed: 0', axis = 1) # api"
   ]
  },
  {
   "cell_type": "code",
   "execution_count": 162,
   "metadata": {},
   "outputs": [],
   "source": [
    "# Сравним теперь различия"
   ]
  },
  {
   "cell_type": "code",
   "execution_count": 378,
   "metadata": {},
   "outputs": [
    {
     "name": "stdout",
     "output_type": "stream",
     "text": [
      "137\n",
      "Казань   Калуга\n"
     ]
    }
   ],
   "source": [
    "x = ((trainNew1['city']!=trainNew2['city'])*1)\n",
    "for j in range(len(x)):\n",
    "    if x[j] == 1:\n",
    "        print(j)\n",
    "        print(trainNew1['city'][j], ' ', trainNew2['city'][j])"
   ]
  },
  {
   "cell_type": "code",
   "execution_count": 136,
   "metadata": {},
   "outputs": [],
   "source": [
    "# Посмотрим с помощью api, какой ответ правильный.\n",
    "overpass_url = \"http://overpass-api.de/api/interpreter?data=[out:json];node(1);out;\"\n",
    "\n",
    "overpass_query2 = \"\"\"  \n",
    "[out:json][timeout:25];\n",
    "// gather results by freeExec\n",
    "(\n",
    "  is_in( {}) -> .b;\n",
    "  \n",
    "  (way(pivot.b)[\"place\"=\"city\"];\n",
    "   rel(pivot.b)[\"place\"=\"city\"];\n",
    "   )-> .c;\n",
    "  \n",
    ");\n",
    ".c out body;\n",
    ">;\n",
    "out skel qt; \"\"\".format(coord)\n",
    "\n",
    "coord = trainNew1['coordinate'][137]\n",
    "response2 = requests.get(overpass_url, \n",
    "                        params={'data': overpass_query2})\n",
    "data2 = response2.json()"
   ]
  },
  {
   "cell_type": "code",
   "execution_count": 137,
   "metadata": {},
   "outputs": [
    {
     "data": {
      "text/plain": [
       "'Казань'"
      ]
     },
     "execution_count": 137,
     "metadata": {},
     "output_type": "execute_result"
    }
   ],
   "source": [
    "data2['elements'][0]['tags']['name']"
   ]
  },
  {
   "cell_type": "code",
   "execution_count": 376,
   "metadata": {},
   "outputs": [
    {
     "data": {
      "text/plain": [
       "'14, улица Вишневского, Калуга, Вахитовский район, Казань, городской округ Казань, Татарстан, Приволжский федеральный округ, 420024, Россия'"
      ]
     },
     "execution_count": 376,
     "metadata": {},
     "output_type": "execute_result"
    }
   ],
   "source": [
    "coord = trainNew1['coordinate'][137]\n",
    "geolocator = Nominatim(user_agent=overpass_url)\n",
    "location = geolocator.reverse(coord)\n",
    "s = location.address\n",
    "s"
   ]
  },
  {
   "cell_type": "markdown",
   "metadata": {},
   "source": [
    "\n",
    "2. **Используйте данные OSM**: подумайте, какие объекты могут влиять на продажи фичерфонов. Гипотеза: такие телефоны покупают люди, приезжающие в город или страну ненадолго, чтобы вставить туда отдельную симкарту для роуминга. Можно попробовать использовать местоположения железнодорожных вокзалов (изучите [этот тег](https://wiki.openstreetmap.org/wiki/Tag:railway%3Dstation)). Необходимо использовать хотя бы 5 разных типов объектов из OSM. Скорее всего, вам придется качать данные OSM отдельно для разных городов (см. пример для Нью-Йорка из лекции)\n"
   ]
  },
  {
   "cell_type": "code",
   "execution_count": 282,
   "metadata": {},
   "outputs": [],
   "source": [
    "trainNew1 = pd.read_csv('data/trainNew1').drop('Unnamed: 0', axis = 1) # Nominatim\n",
    "trainNew2 = pd.read_csv('data/trainNew2').drop('Unnamed: 0', axis = 1) # api"
   ]
  },
  {
   "cell_type": "code",
   "execution_count": 32,
   "metadata": {},
   "outputs": [],
   "source": [
    "#trainNew1 = pd.read_csv('data/testNew1').drop('Unnamed: 0', axis = 1) # Nominatim\n",
    "#trainNew2 = pd.read_csv('data/testNew2').drop('Unnamed: 0', axis = 1) # api"
   ]
  },
  {
   "cell_type": "code",
   "execution_count": 270,
   "metadata": {},
   "outputs": [],
   "source": [
    "# Создадим новую характеристику размера города - центр города.\n",
    "def string_req_center(coord):\n",
    "    overpass_query = \"\"\"  \n",
    "    [out:json];\n",
    "    area[name=\"{}\"];\n",
    "    (node[\"place\"=\"city\"](area););\n",
    "    out center; \"\"\".format(coord)\n",
    "    \n",
    "    return overpass_query"
   ]
  },
  {
   "cell_type": "code",
   "execution_count": null,
   "metadata": {},
   "outputs": [],
   "source": [
    "towns = list(set(trainNew1['city']))\n",
    "len(towns)"
   ]
  },
  {
   "cell_type": "code",
   "execution_count": 379,
   "metadata": {},
   "outputs": [
    {
     "name": "stdout",
     "output_type": "stream",
     "text": [
      "sleep 0\n",
      "Ростов-на-Дону   (47.2213858, 39.7114196)\n",
      "sleep 1\n",
      "Санкт-Петербург   (59.938732, 30.316229)\n",
      "sleep 2\n",
      "Красноярск   (56.0090968, 92.8725147)\n",
      "sleep 3\n",
      "Нижний Новгород   (56.328571, 44.003506)\n",
      "sleep 4\n",
      "Москва   (55.7504461, 37.6174943)\n",
      "sleep 5\n",
      "Екатеринбург   (56.839104, 60.60825)\n",
      "sleep 6\n",
      "Казань   (55.7823547, 49.1242266)\n",
      "sleep 7\n",
      "Новосибирск   (55.0282171, 82.9234509)\n",
      "sleep 8\n",
      "Уфа   (54.7261409, 55.947499)\n",
      "sleep 9\n",
      "Балашиха   (55.8036225, 37.9646488)\n",
      "sleep 10\n",
      "Самара   (53.198627, 50.113987)\n"
     ]
    }
   ],
   "source": [
    "overpass_url = \"http://overpass-api.de/api/interpreter?data=[out:json];node(1);out;\"\n",
    "\n",
    "dict_name = {}\n",
    "\n",
    "for i in range(len(towns)):\n",
    "    print('sleep', i)\n",
    "    city = towns[i]\n",
    "    \n",
    "    response = requests.get(overpass_url, \n",
    "                        params={'data': string_req_center(city)})\n",
    "    data = response.json()\n",
    "        \n",
    "    if len(data['elements']) == 0:\n",
    "        dict_name[city] = 0\n",
    "        print(city, ' ', 0)\n",
    "    else:\n",
    "        \n",
    "        frame = pd.json_normalize(data['elements'])\n",
    "        center = (float(frame[frame['tags.name'] == city]['lat']) , float(frame[frame['tags.name'] == city]['lon']))\n",
    "\n",
    "        dict_name[towns[i]]=center\n",
    "        print(city, ' ', center)\n",
    "        time.sleep(3)"
   ]
  },
  {
   "cell_type": "code",
   "execution_count": 287,
   "metadata": {},
   "outputs": [],
   "source": [
    "x_lat = []\n",
    "x_lon = []\n",
    "for name in trainNew1['city']:\n",
    "    x_lat.append(str(dict_name[name][0]))\n",
    "    x_lon.append(str(dict_name[name][1]) )\n",
    "trainNew1['lat_center'] = x_lat\n",
    "trainNew1['lon_center'] = x_lon"
   ]
  },
  {
   "cell_type": "code",
   "execution_count": 152,
   "metadata": {},
   "outputs": [],
   "source": [
    "# Создадим новую характеристику размера города - количество наземных железнодорожных станций.\n",
    "def string_req_town(coord):\n",
    "    overpass_query = \"\"\"  \n",
    "    [out:json];\n",
    "    area[name=\"{}\"];\n",
    "    nwr(area)[railway=station];\n",
    "    out; \"\"\".format(coord)\n",
    "    \n",
    "    return overpass_query"
   ]
  },
  {
   "cell_type": "code",
   "execution_count": 153,
   "metadata": {},
   "outputs": [
    {
     "name": "stdout",
     "output_type": "stream",
     "text": [
      "sleep 0\n",
      "Балашиха   2\n",
      "sleep 1\n",
      "Санкт-Петербург   57\n",
      "sleep 2\n",
      "Самара   20\n",
      "sleep 3\n",
      "Уфа   11\n",
      "sleep 4\n",
      "Ростов-на-Дону   12\n",
      "sleep 5\n",
      "Новосибирск   14\n",
      "sleep 6\n",
      "Казань   23\n",
      "sleep 7\n",
      "Нижний Новгород   25\n",
      "sleep 8\n",
      "Москва   96\n",
      "sleep 9\n",
      "Красноярск   12\n",
      "sleep 10\n",
      "Екатеринбург   18\n"
     ]
    }
   ],
   "source": [
    "overpass_url = \"http://overpass-api.de/api/interpreter?data=[out:json];node(1);out;\"\n",
    "\n",
    "towns = list(set(trainNew1['city']))\n",
    "dict_rail = {}\n",
    "\n",
    "for i in range(len(towns)):\n",
    "    print('sleep', i)\n",
    "    time.sleep(10)\n",
    "    city = towns[i]\n",
    "    \n",
    "    response = requests.get(overpass_url, \n",
    "                        params={'data': string_req_town(city)})\n",
    "    data = response.json()\n",
    "        \n",
    "    if len(data['elements']) == 0:\n",
    "        dict_rail[city]=0\n",
    "        print(city, ' ', 0)\n",
    "    else:\n",
    "        dff = pd.json_normalize(data['elements'])\n",
    "        if 'tags.layer' in list(dff):\n",
    "            dff['tags.layer']=dff['tags.layer'].fillna(0)\n",
    "            n = len(dff[dff['tags.layer']==0]['tags.name'])\n",
    "        else:\n",
    "            n = len(dff)\n",
    "        dict_rail[towns[i]]=n\n",
    "        print(city, ' ', n)"
   ]
  },
  {
   "cell_type": "code",
   "execution_count": 154,
   "metadata": {},
   "outputs": [],
   "source": [
    "x = []\n",
    "for name in trainNew1['city']:\n",
    "    x.append(dict_rail[name])\n",
    "trainNew1['Number_of_rs'] = x"
   ]
  },
  {
   "cell_type": "code",
   "execution_count": 155,
   "metadata": {},
   "outputs": [],
   "source": [
    "# Создадим новую характеристику размера города - количество отелей и хостелов.\n",
    "def string_req_hotel(coord):\n",
    "    overpass_query = \"\"\"  \n",
    "    [out:json];\n",
    "    area[name=\"{}\"];\n",
    "    nwr(area)[tourism=hotel];\n",
    "    out; \"\"\".format(coord)\n",
    "    \n",
    "    return overpass_query\n",
    "\n",
    "def string_req_hostel(coord):\n",
    "    overpass_query = \"\"\"  \n",
    "    [out:json];\n",
    "    area[name=\"{}\"];\n",
    "    nwr(area)[tourism=hostel];\n",
    "    out; \"\"\".format(coord)\n",
    "    \n",
    "    return overpass_query\n",
    "\n",
    "def string_req_guest(coord):\n",
    "    overpass_query = \"\"\"  \n",
    "    [out:json];\n",
    "    area[name=\"{}\"];\n",
    "    nwr(area)[tourism=guest_house];\n",
    "    out; \"\"\".format(coord)\n",
    "    \n",
    "    return overpass_query"
   ]
  },
  {
   "cell_type": "code",
   "execution_count": 158,
   "metadata": {},
   "outputs": [],
   "source": [
    "dict_rail = {}\n",
    "begin = 0"
   ]
  },
  {
   "cell_type": "code",
   "execution_count": 164,
   "metadata": {},
   "outputs": [
    {
     "name": "stdout",
     "output_type": "stream",
     "text": [
      "sleep 9\n",
      "Красноярск   78\n",
      "sleep 10\n",
      "Екатеринбург   130\n"
     ]
    }
   ],
   "source": [
    "overpass_url = \"http://overpass-api.de/api/interpreter?data=[out:json];node(1);out;\"\n",
    "\n",
    "towns = list(set(trainNew1['city']))\n",
    "\n",
    "for i in range(begin, len(towns)):\n",
    "    print('sleep', i)\n",
    "    \n",
    "    \n",
    "    city = towns[i]\n",
    "    \n",
    "    my_sum = 0\n",
    "    \n",
    "    response = requests.get(overpass_url, \n",
    "                        params={'data': string_req_hotel(city)})\n",
    "    try:\n",
    "        data = response.json()\n",
    "    except:\n",
    "        begin = i\n",
    "        break\n",
    "        \n",
    "    if len(data['elements']) == 0:\n",
    "        my_sum += 0\n",
    "        print(city, ' ', 0)\n",
    "    else:\n",
    "        n = len(data['elements'])\n",
    "        my_sum +=n\n",
    "    \n",
    "    time.sleep(5)\n",
    "    \n",
    "    response = requests.get(overpass_url, \n",
    "                        params={'data': string_req_hostel(city)})\n",
    "    try:\n",
    "        data = response.json()\n",
    "    except:\n",
    "        begin = i\n",
    "        break\n",
    "        \n",
    "    if len(data['elements']) == 0:\n",
    "        my_sum += 0\n",
    "        print(city, ' ', 0)\n",
    "    else:\n",
    "        n = len(data['elements'])\n",
    "        my_sum +=n\n",
    "    \n",
    "    time.sleep(5)\n",
    "    \n",
    "    response = requests.get(overpass_url, \n",
    "                        params={'data': string_req_guest(city)})\n",
    "    \n",
    "    try:\n",
    "        data = response.json()\n",
    "    except:\n",
    "        begin = i\n",
    "        break\n",
    "        \n",
    "    if len(data['elements']) == 0:\n",
    "        my_sum += 0\n",
    "        print(city, ' ', 0)\n",
    "    else:\n",
    "        n = len(data['elements'])\n",
    "        my_sum +=n\n",
    "    \n",
    "    dict_rail[towns[i]]=my_sum\n",
    "    print(city, ' ', my_sum)\n",
    "    time.sleep(10)"
   ]
  },
  {
   "cell_type": "code",
   "execution_count": 165,
   "metadata": {},
   "outputs": [],
   "source": [
    "x = []\n",
    "for name in trainNew1['city']:\n",
    "    x.append(dict_rail[name])\n",
    "trainNew1['Number_of_tourism'] = x"
   ]
  },
  {
   "cell_type": "code",
   "execution_count": 48,
   "metadata": {},
   "outputs": [],
   "source": [
    "#trainNew1.to_csv('data/testDf')"
   ]
  },
  {
   "cell_type": "code",
   "execution_count": 166,
   "metadata": {},
   "outputs": [],
   "source": [
    "#trainNew1.to_csv('data/trainDf')"
   ]
  },
  {
   "cell_type": "markdown",
   "metadata": {},
   "source": [
    "3. **Используйте разные способы генерации признаков**: описать положение салона МегаФона относительно станций метро можно разными способами - найти ***расстояние до ближайшей станции***, или же посчитать, сколько станций попадает в ***500 метровую буферную зону*** вокруг салона. Такие признаки будут нести разную информацию. Так же попробуйте поэкспериментировать с размерами буферных зон (представьте, что значат в реальности радиусы 100, 500, 1000 метров). Попробуйте посчитать расстояние до центра города, до других объектов."
   ]
  },
  {
   "cell_type": "code",
   "execution_count": 63,
   "metadata": {},
   "outputs": [],
   "source": [
    "df = pd.read_csv('data/trainDf').drop('Unnamed: 0', axis = 1)"
   ]
  },
  {
   "cell_type": "code",
   "execution_count": 54,
   "metadata": {},
   "outputs": [],
   "source": [
    "#df = pd.read_csv('data/testDf').drop('Unnamed: 0', axis = 1)"
   ]
  },
  {
   "cell_type": "code",
   "execution_count": 169,
   "metadata": {},
   "outputs": [],
   "source": [
    "# Приезжие могут купить телефон на станции\n",
    "# Посчитаем количество станций в окрестности 600 метров координаты\n",
    "def str_req(city, coord):\n",
    "    overpass_query = \"\"\"\n",
    "    [out:json];\n",
    "    area[name=\"{}\"];\n",
    "    nwr(area)[railway=station](around:600.0,{});\n",
    "    out;\n",
    "    \"\"\".format(city, coord)\n",
    "    \n",
    "    return overpass_query"
   ]
  },
  {
   "cell_type": "code",
   "execution_count": 170,
   "metadata": {},
   "outputs": [],
   "source": [
    "begin = 0\n",
    "number = []"
   ]
  },
  {
   "cell_type": "code",
   "execution_count": 5,
   "metadata": {},
   "outputs": [],
   "source": [
    "# Достаточно долгий, но простой способ это сделать через запрос.\n",
    "overpass_url = \"http://overpass-api.de/api/interpreter?data=[out:json];node(1);out;\"\n",
    "\n",
    "\n",
    "for i in range(begin, len(df)):\n",
    "    \n",
    "    coord = df['coordinate'][i]\n",
    "    city = df['city'][i]\n",
    "    \n",
    "    print('sleep', i)\n",
    "    \n",
    "    response = requests.get(overpass_url, \n",
    "                        params={'data': str_req(city, coord)})\n",
    "    try:\n",
    "        data = response.json()\n",
    "    except:\n",
    "        begin = i\n",
    "        break\n",
    "    \n",
    "    if len(data['elements']) == 0:\n",
    "        n = 0\n",
    "    else:\n",
    "        n = len(data['elements'])\n",
    "        \n",
    "    number.append(n)\n",
    "    print(coord, ' ', city, ' ', n)\n",
    "    time.sleep(10)"
   ]
  },
  {
   "cell_type": "code",
   "execution_count": 177,
   "metadata": {},
   "outputs": [],
   "source": [
    "df['num_rail'] = number"
   ]
  },
  {
   "cell_type": "code",
   "execution_count": 178,
   "metadata": {},
   "outputs": [],
   "source": [
    "#df.to_csv('data/trainDf')"
   ]
  },
  {
   "cell_type": "code",
   "execution_count": 58,
   "metadata": {},
   "outputs": [],
   "source": [
    "#df.to_csv('data/testDf')"
   ]
  },
  {
   "cell_type": "code",
   "execution_count": 179,
   "metadata": {},
   "outputs": [],
   "source": [
    "# Приезжие могут купить телефон у гостиницы, поэтому проверим эти точки тоже\n",
    "def str_hotel(city, coord):\n",
    "    overpass_query = \"\"\"\n",
    "    [out:json];\n",
    "    area[name=\"{}\"];\n",
    "    nwr(area)[tourism=hotel](around:600.0,{});\n",
    "    out;\n",
    "    \"\"\".format(city, coord)\n",
    "    \n",
    "    return overpass_query\n",
    "\n",
    "def str_hostel(city, coord):\n",
    "    overpass_query = \"\"\"\n",
    "    [out:json];\n",
    "    area[name=\"{}\"];\n",
    "    nwr(area)[tourism=hostel](around:600.0,{});\n",
    "    out;\n",
    "    \"\"\".format(city, coord)\n",
    "    \n",
    "    return overpass_query\n",
    "\n",
    "def str_guest(city, coord):\n",
    "    overpass_query = \"\"\"\n",
    "    [out:json];\n",
    "    area[name=\"{}\"];\n",
    "    nwr(area)[tourism=guest_house](around:600.0,{});\n",
    "    out;\n",
    "    \"\"\".format(city, coord)\n",
    "    \n",
    "    return overpass_query"
   ]
  },
  {
   "cell_type": "code",
   "execution_count": 180,
   "metadata": {},
   "outputs": [],
   "source": [
    "begin = 0\n",
    "number = []"
   ]
  },
  {
   "cell_type": "code",
   "execution_count": 6,
   "metadata": {},
   "outputs": [],
   "source": [
    "overpass_url = \"http://overpass-api.de/api/interpreter?data=[out:json];node(1);out;\"\n",
    "\n",
    "\n",
    "for i in range(begin, len(df)):\n",
    "    \n",
    "    \n",
    "    coord = df['coordinate'][i]\n",
    "    city = df['city'][i]\n",
    "    my_sum = 0\n",
    "    \n",
    "    print('sleep', i)\n",
    "    \n",
    "    response = requests.get(overpass_url, \n",
    "                        params={'data': str_hotel(city, coord)})\n",
    "    try:\n",
    "        data = response.json()\n",
    "    except:\n",
    "        begin = i\n",
    "        break\n",
    "    \n",
    "    if len(data['elements']) == 0:\n",
    "        n = 0\n",
    "    else:\n",
    "        n = len(data['elements'])\n",
    "    my_sum+=n\n",
    "    \n",
    "    time.sleep(5)    \n",
    "    response = requests.get(overpass_url, \n",
    "                        params={'data': str_hostel(city, coord)})\n",
    "    \n",
    "    try:\n",
    "        data = response.json()\n",
    "    except:\n",
    "        begin = i\n",
    "        break\n",
    "    \n",
    "    if len(data['elements']) == 0:\n",
    "        n = 0\n",
    "    else:\n",
    "        n = len(data['elements'])\n",
    "    my_sum+=n\n",
    "    \n",
    "    time.sleep(5)    \n",
    "    response = requests.get(overpass_url, \n",
    "                        params={'data': str_guest(city, coord)})\n",
    "    \n",
    "    try:\n",
    "        data = response.json()\n",
    "    except:\n",
    "        begin = i\n",
    "        break\n",
    "    \n",
    "    if len(data['elements']) == 0:\n",
    "        n = 0\n",
    "    else:\n",
    "        n = len(data['elements'])\n",
    "    my_sum+=n\n",
    "    \n",
    "    \n",
    "    number.append(my_sum)\n",
    "    print(coord, ' ', city, ' ', my_sum)\n",
    "    time.sleep(10)"
   ]
  },
  {
   "cell_type": "code",
   "execution_count": 185,
   "metadata": {},
   "outputs": [],
   "source": [
    "df['num_tourism'] = number"
   ]
  },
  {
   "cell_type": "code",
   "execution_count": 186,
   "metadata": {},
   "outputs": [],
   "source": [
    "#df.to_csv('data/trainDf')"
   ]
  },
  {
   "cell_type": "code",
   "execution_count": 70,
   "metadata": {},
   "outputs": [],
   "source": [
    "#df.to_csv('data/testDf')"
   ]
  },
  {
   "cell_type": "code",
   "execution_count": 2,
   "metadata": {},
   "outputs": [],
   "source": [
    "# Можно посмотреть количество автомое и автосервисов. Логика в том, что при такой работе кнопочный телефон удобнее.\n",
    "# Ну или там махинации какие.\n",
    "def str_wash(city, coord):\n",
    "    overpass_query = \"\"\"\n",
    "    [out:json];\n",
    "    area[name=\"{}\"];\n",
    "    nwr(area)[amenity=car_wash](around:600.0,{});\n",
    "    out;\n",
    "    \"\"\".format(city, coord)\n",
    "    \n",
    "    return overpass_query\n",
    "\n",
    "def str_repair(city, coord):\n",
    "    overpass_query = \"\"\"\n",
    "    [out:json];\n",
    "    area[name=\"{}\"];\n",
    "    nwr(area)[shop=car_repair](around:600.0,{});\n",
    "    out;\n",
    "    \"\"\".format(city, coord)\n",
    "    \n",
    "    return overpass_query"
   ]
  },
  {
   "cell_type": "code",
   "execution_count": 3,
   "metadata": {},
   "outputs": [],
   "source": [
    "begin = 0\n",
    "number = []"
   ]
  },
  {
   "cell_type": "code",
   "execution_count": 7,
   "metadata": {},
   "outputs": [],
   "source": [
    "overpass_url = \"http://overpass-api.de/api/interpreter?data=[out:json];node(1);out;\"\n",
    "\n",
    "\n",
    "for i in range(begin, len(df)):\n",
    "    \n",
    "    \n",
    "    coord = df['coordinate'][i]\n",
    "    city = df['city'][i]\n",
    "    my_sum = 0\n",
    "    \n",
    "    print('sleep', i)\n",
    "    \n",
    "    response = requests.get(overpass_url, \n",
    "                        params={'data': str_wash(city, coord)})\n",
    "    \n",
    "    try:\n",
    "        data = response.json()\n",
    "    except:\n",
    "        begin = i\n",
    "        break\n",
    "    \n",
    "    if len(data['elements']) == 0:\n",
    "        n = 0\n",
    "    else:\n",
    "        n = len(data['elements'])\n",
    "    my_sum+=n\n",
    "    \n",
    "    time.sleep(5)    \n",
    "    response = requests.get(overpass_url, \n",
    "                        params={'data': str_repair(city, coord)})\n",
    "    \n",
    "    try:\n",
    "        data = response.json()\n",
    "    except:\n",
    "        begin = i\n",
    "        break\n",
    "    \n",
    "    if len(data['elements']) == 0:\n",
    "        n = 0\n",
    "    else:\n",
    "        n = len(data['elements'])\n",
    "    my_sum+=n\n",
    "    \n",
    "    \n",
    "    number.append(my_sum)\n",
    "    print(coord, ' ', city, ' ', my_sum)\n",
    "    time.sleep(5)"
   ]
  },
  {
   "cell_type": "code",
   "execution_count": 7,
   "metadata": {},
   "outputs": [],
   "source": [
    "df['num_car_rep'] = number"
   ]
  },
  {
   "cell_type": "code",
   "execution_count": 8,
   "metadata": {},
   "outputs": [],
   "source": [
    "#df.to_csv('data/trainDf')"
   ]
  },
  {
   "cell_type": "code",
   "execution_count": 79,
   "metadata": {},
   "outputs": [],
   "source": [
    "#df.to_csv('data/testDf')"
   ]
  },
  {
   "cell_type": "code",
   "execution_count": 55,
   "metadata": {},
   "outputs": [],
   "source": [
    "# Приезжие могут купить телефон там, где хотят взять автомобиль\n",
    "def str_rental(city, coord):\n",
    "    overpass_query = \"\"\"\n",
    "    [out:json];\n",
    "    area[name=\"{}\"];\n",
    "    nwr(area)[amenity=car_rental](around:600.0,{});\n",
    "    out;\n",
    "    \"\"\".format(city, coord)\n",
    "    \n",
    "    return overpass_query\n",
    "\n",
    "def str_sharing(city, coord):\n",
    "    overpass_query = \"\"\"\n",
    "    [out:json];\n",
    "    area[name=\"{}\"];\n",
    "    nwr(area)[amenity=car_sharing](around:600.0,{});\n",
    "    out;\n",
    "    \"\"\".format(city, coord)\n",
    "    \n",
    "    return overpass_query"
   ]
  },
  {
   "cell_type": "code",
   "execution_count": 56,
   "metadata": {},
   "outputs": [],
   "source": [
    "begin = 0\n",
    "number = []"
   ]
  },
  {
   "cell_type": "code",
   "execution_count": 59,
   "metadata": {},
   "outputs": [
    {
     "name": "stdout",
     "output_type": "stream",
     "text": [
      "sleep 87\n",
      "55.865531, 37.704889   Москва   0\n",
      "sleep 88\n",
      "55.77962, 37.665634   Москва   0\n",
      "sleep 89\n",
      "55.97888100000001, 37.171523   Москва   0\n",
      "sleep 90\n",
      "59.998265, 30.298459   Санкт-Петербург   0\n",
      "sleep 91\n",
      "55.02964300000001, 82.919046   Новосибирск   0\n",
      "sleep 92\n",
      "53.236437, 50.190779   Самара   0\n",
      "sleep 93\n",
      "55.776347, 37.655172   Москва   0\n",
      "sleep 94\n",
      "55.659195, 37.756084   Москва   0\n",
      "sleep 95\n",
      "55.995629, 92.950129   Красноярск   0\n",
      "sleep 96\n",
      "59.851439, 30.271218   Санкт-Петербург   0\n",
      "sleep 97\n",
      "59.926476, 30.318213   Санкт-Петербург   0\n",
      "sleep 98\n",
      "60.067586, 30.334946   Санкт-Петербург   0\n",
      "sleep 99\n",
      "54.765098, 56.064899   Уфа   0\n",
      "sleep 100\n",
      "55.72345600000001, 37.565332   Москва   0\n",
      "sleep 101\n",
      "55.618593, 37.506621   Москва   0\n",
      "sleep 102\n",
      "60.049792, 30.353777   Санкт-Петербург   0\n",
      "sleep 103\n",
      "56.116262, 92.928927   Красноярск   0\n",
      "sleep 104\n",
      "56.023697, 93.015993   Красноярск   0\n",
      "sleep 105\n",
      "59.871149, 30.381172   Санкт-Петербург   0\n",
      "sleep 106\n",
      "59.94211, 30.279244   Санкт-Петербург   0\n"
     ]
    }
   ],
   "source": [
    "overpass_url = \"http://overpass-api.de/api/interpreter?data=[out:json];node(1);out;\"\n",
    "\n",
    "\n",
    "for i in range(begin, len(df)):\n",
    "    \n",
    "    \n",
    "    coord = df['coordinate'][i]\n",
    "    city = df['city'][i]\n",
    "    my_sum = 0\n",
    "    \n",
    "    \n",
    "    print('sleep', i)\n",
    "    \n",
    "    response = requests.get(overpass_url, \n",
    "                        params={'data': str_rental(city, coord)})\n",
    "    \n",
    "    try:\n",
    "        data = response.json()\n",
    "    except:\n",
    "        begin = i\n",
    "        break\n",
    "    \n",
    "    if len(data['elements']) == 0:\n",
    "        n = 0\n",
    "    else:\n",
    "        n = len(data['elements'])\n",
    "    my_sum+=n\n",
    "    \n",
    "    time.sleep(5)    \n",
    "    response = requests.get(overpass_url, \n",
    "                        params={'data': str_sharing(city, coord)})\n",
    "    \n",
    "    try:\n",
    "        data = response.json()\n",
    "    except:\n",
    "        begin = i\n",
    "        break\n",
    "    \n",
    "    if len(data['elements']) == 0:\n",
    "        n = 0\n",
    "    else:\n",
    "        n = len(data['elements'])\n",
    "    my_sum+=n\n",
    "    \n",
    "    \n",
    "    number.append(my_sum)\n",
    "    print(coord, ' ', city, ' ', my_sum)\n",
    "    time.sleep(10)"
   ]
  },
  {
   "cell_type": "code",
   "execution_count": 60,
   "metadata": {},
   "outputs": [],
   "source": [
    "df['num_car_shar'] = number\n",
    "#108 133 81 193 237 239 256 317 343 373 380 411\n",
    "# r   r  s   r   r  r    r   r  r    r   r   r"
   ]
  },
  {
   "cell_type": "code",
   "execution_count": 35,
   "metadata": {},
   "outputs": [
    {
     "name": "stdout",
     "output_type": "stream",
     "text": [
      "1\n"
     ]
    },
    {
     "data": {
      "text/plain": [
       "{'version': 0.6,\n",
       " 'generator': 'Overpass API 0.7.56.7 b85c4387',\n",
       " 'osm3s': {'timestamp_osm_base': '2020-12-03T09:10:02Z',\n",
       "  'timestamp_areas_base': '2020-12-03T08:55:03Z',\n",
       "  'copyright': 'The data included in this document is from www.openstreetmap.org. The data is made available under ODbL.'},\n",
       " 'elements': [{'type': 'node',\n",
       "   'id': 4929838676,\n",
       "   'lat': 59.924827,\n",
       "   'lon': 30.3577378,\n",
       "   'tags': {'amenity': 'car_rental',\n",
       "    'contact:vk': 'https://vk.com/luxeavtocom',\n",
       "    'name': 'ЛюксАвто',\n",
       "    'opening_hours': '10:00-13:00,14:00-19:00',\n",
       "    'website': 'http://luxeavto-spb.ru/'}}]}"
      ]
     },
     "execution_count": 35,
     "metadata": {},
     "output_type": "execute_result"
    }
   ],
   "source": [
    "i = 411\n",
    "coord = df['coordinate'][i]\n",
    "city = df['city'][i]\n",
    "\n",
    "response = requests.get(overpass_url, \n",
    "                        params={'data': str_rental(city, coord)})\n",
    "\n",
    "data = response.json()\n",
    "print(df['num_car_shar'][i])\n",
    "data"
   ]
  },
  {
   "cell_type": "code",
   "execution_count": 12,
   "metadata": {},
   "outputs": [],
   "source": [
    "#df.to_csv('data/trainDf')"
   ]
  },
  {
   "cell_type": "code",
   "execution_count": 61,
   "metadata": {},
   "outputs": [],
   "source": [
    "#df.to_csv('data/testDf')"
   ]
  },
  {
   "cell_type": "code",
   "execution_count": 36,
   "metadata": {},
   "outputs": [],
   "source": [
    "def str_food(city, coord):\n",
    "    overpass_query = \"\"\"\n",
    "    [out:json];\n",
    "    area[name=\"{}\"];\n",
    "    nwr(area)[amenity=fast_food](around:600.0,{});\n",
    "    out;\n",
    "    \"\"\".format(city, coord)\n",
    "    \n",
    "    return overpass_query"
   ]
  },
  {
   "cell_type": "code",
   "execution_count": 37,
   "metadata": {},
   "outputs": [],
   "source": [
    "begin = 0\n",
    "number = []"
   ]
  },
  {
   "cell_type": "code",
   "execution_count": 41,
   "metadata": {},
   "outputs": [
    {
     "name": "stdout",
     "output_type": "stream",
     "text": [
      "sleep 413\n",
      "59.83404, 30.204863   Санкт-Петербург   3\n",
      "sleep 414\n",
      "55.613216, 37.743868   Москва   6\n",
      "sleep 415\n",
      "56.869249, 60.554713   Екатеринбург   0\n",
      "sleep 416\n",
      "53.187213, 50.121798   Самара   4\n",
      "sleep 417\n",
      "55.870102, 37.664267   Москва   6\n",
      "sleep 418\n",
      "55.056951, 82.976488   Новосибирск   3\n",
      "sleep 419\n",
      "59.931738, 30.362055   Санкт-Петербург   68\n",
      "sleep 420\n",
      "55.740664, 37.628765   Москва   14\n",
      "sleep 421\n",
      "55.794233, 37.586825   Москва   26\n",
      "sleep 422\n",
      "55.77291, 37.67879   Москва   28\n",
      "sleep 423\n",
      "55.61964, 37.75213   Москва   4\n",
      "sleep 424\n",
      "55.78295, 37.70577   Москва   15\n"
     ]
    }
   ],
   "source": [
    "overpass_url = \"http://overpass-api.de/api/interpreter?data=[out:json];node(1);out;\"\n",
    "\n",
    "\n",
    "for i in range(begin, len(df)):\n",
    "    \n",
    "    \n",
    "    coord = df['coordinate'][i]\n",
    "    city = df['city'][i]\n",
    "    my_sum = 0\n",
    "    \n",
    "    \n",
    "    print('sleep', i)\n",
    "    \n",
    "    response = requests.get(overpass_url, \n",
    "                        params={'data': str_food(city, coord)})\n",
    "    \n",
    "    try:\n",
    "        data = response.json()\n",
    "    except:\n",
    "        begin = i\n",
    "        break\n",
    "    \n",
    "    if len(data['elements']) == 0:\n",
    "        n = 0\n",
    "    else:\n",
    "        n = len(data['elements'])\n",
    "    my_sum+=n\n",
    "    \n",
    "    \n",
    "    number.append(my_sum)\n",
    "    print(coord, ' ', city, ' ', my_sum)\n",
    "    time.sleep(5)"
   ]
  },
  {
   "cell_type": "code",
   "execution_count": 42,
   "metadata": {},
   "outputs": [],
   "source": [
    "df['num_food'] = number"
   ]
  },
  {
   "cell_type": "code",
   "execution_count": 43,
   "metadata": {},
   "outputs": [],
   "source": [
    "#df.to_csv('data/trainDf')"
   ]
  },
  {
   "cell_type": "code",
   "execution_count": 110,
   "metadata": {},
   "outputs": [],
   "source": [
    "#df.to_csv('data/testDf')"
   ]
  },
  {
   "cell_type": "code",
   "execution_count": 44,
   "metadata": {},
   "outputs": [],
   "source": [
    "def str_attraction(city, coord):\n",
    "    overpass_query = \"\"\"\n",
    "    [out:json];\n",
    "    area[name=\"{}\"];\n",
    "    nwr(area)[tourism=attraction](around:600.0,{});\n",
    "    out;\n",
    "    \"\"\".format(city, coord)\n",
    "    \n",
    "    return overpass_query"
   ]
  },
  {
   "cell_type": "code",
   "execution_count": 45,
   "metadata": {},
   "outputs": [],
   "source": [
    "begin = 0\n",
    "number = []"
   ]
  },
  {
   "cell_type": "code",
   "execution_count": 51,
   "metadata": {},
   "outputs": [
    {
     "name": "stdout",
     "output_type": "stream",
     "text": [
      "sleep 403\n",
      "56.86539200000001, 60.5324   Екатеринбург   0\n",
      "sleep 404\n",
      "53.25928100000001, 50.225666   Самара   0\n",
      "sleep 405\n",
      "55.801912, 37.531968   Москва   1\n",
      "sleep 406\n",
      "55.75524, 37.660183   Москва   2\n",
      "sleep 407\n",
      "59.850762, 30.268333   Санкт-Петербург   0\n",
      "sleep 408\n",
      "55.717847, 37.681473   Москва   3\n",
      "sleep 409\n",
      "59.867776, 30.260932   Санкт-Петербург   1\n",
      "sleep 410\n",
      "55.85578, 37.477381   Москва   0\n",
      "sleep 411\n",
      "59.921134, 30.355126   Санкт-Петербург   1\n",
      "sleep 412\n",
      "59.833301, 30.391599   Санкт-Петербург   0\n",
      "sleep 413\n",
      "59.83404, 30.204863   Санкт-Петербург   0\n",
      "sleep 414\n",
      "55.613216, 37.743868   Москва   0\n",
      "sleep 415\n",
      "56.869249, 60.554713   Екатеринбург   0\n",
      "sleep 416\n",
      "53.187213, 50.121798   Самара   1\n",
      "sleep 417\n",
      "55.870102, 37.664267   Москва   0\n",
      "sleep 418\n",
      "55.056951, 82.976488   Новосибирск   0\n",
      "sleep 419\n",
      "59.931738, 30.362055   Санкт-Петербург   4\n",
      "sleep 420\n",
      "55.740664, 37.628765   Москва   2\n",
      "sleep 421\n",
      "55.794233, 37.586825   Москва   0\n",
      "sleep 422\n",
      "55.77291, 37.67879   Москва   2\n",
      "sleep 423\n",
      "55.61964, 37.75213   Москва   0\n",
      "sleep 424\n",
      "55.78295, 37.70577   Москва   1\n"
     ]
    }
   ],
   "source": [
    "overpass_url = \"http://overpass-api.de/api/interpreter?data=[out:json];node(1);out;\"\n",
    "\n",
    "for i in range(begin, len(df)):\n",
    "    \n",
    "    \n",
    "    coord = df['coordinate'][i]\n",
    "    city = df['city'][i]\n",
    "    my_sum = 0\n",
    "    \n",
    "    print('sleep', i)\n",
    "    \n",
    "    response = requests.get(overpass_url, \n",
    "                        params={'data': str_attraction(city, coord)})\n",
    "    \n",
    "    try:\n",
    "        data = response.json()\n",
    "    except:\n",
    "        begin = i\n",
    "        break\n",
    "    \n",
    "    if len(data['elements']) == 0:\n",
    "        n = 0\n",
    "    else:\n",
    "        n = len(data['elements'])\n",
    "    my_sum+=n\n",
    "    \n",
    "    \n",
    "    number.append(my_sum)\n",
    "    print(coord, ' ', city, ' ', my_sum)\n",
    "    time.sleep(10)"
   ]
  },
  {
   "cell_type": "code",
   "execution_count": 52,
   "metadata": {},
   "outputs": [],
   "source": [
    "df['num_attraction'] = number"
   ]
  },
  {
   "cell_type": "code",
   "execution_count": 53,
   "metadata": {},
   "outputs": [],
   "source": [
    "#df.to_csv('data/trainDf')"
   ]
  },
  {
   "cell_type": "code",
   "execution_count": 130,
   "metadata": {},
   "outputs": [],
   "source": [
    "#df.to_csv('data/testDf')"
   ]
  },
  {
   "cell_type": "markdown",
   "metadata": {},
   "source": [
    "Можно вычислить расстояние от цента с помощью координат, которые были найдены ранее."
   ]
  },
  {
   "cell_type": "code",
   "execution_count": 380,
   "metadata": {},
   "outputs": [],
   "source": [
    "#df = pd.read_csv('data/trainDf').drop('Unnamed: 0', axis = 1)"
   ]
  },
  {
   "cell_type": "code",
   "execution_count": null,
   "metadata": {},
   "outputs": [],
   "source": [
    "#df = pd.read_csv('data/testDf').drop('Unnamed: 0', axis = 1)"
   ]
  },
  {
   "cell_type": "code",
   "execution_count": 66,
   "metadata": {},
   "outputs": [],
   "source": [
    "# Для начала посчитаем расстояние от центра.\n",
    "# Теперь добавим признаки, характеризующие расстояния.\n",
    "from geopy import distance\n",
    "dist = []\n",
    "for i in range(len(df)):\n",
    "    a = (float(df['lat'][i]), float(df['lon'][i]))\n",
    "    b = (float(df['lat_center'][i]), float(df['lon_center'][i]))\n",
    "    d = distance.geodesic(a, b).km\n",
    "    dist.append(d)"
   ]
  },
  {
   "cell_type": "code",
   "execution_count": 67,
   "metadata": {},
   "outputs": [],
   "source": [
    "df['dist_center'] = dist"
   ]
  },
  {
   "cell_type": "code",
   "execution_count": 69,
   "metadata": {},
   "outputs": [],
   "source": [
    "#df.to_csv('data/trainDf')"
   ]
  },
  {
   "cell_type": "code",
   "execution_count": null,
   "metadata": {},
   "outputs": [],
   "source": [
    "#df.to_csv('data/testDf')"
   ]
  },
  {
   "cell_type": "markdown",
   "metadata": {},
   "source": [
    "Выгрузим данные по rail, hotel, hostel, repair, rental, food, attraction отдельно для каждого города, а не по окрестности вокруг координаты. Это очень долго.  \n",
    "Таким образом тоже можно посчитать окрестность вокруг магазина на расстоянии 600 метров, однако из-за того, что у многих элементов отсутствуют указанные координаты, значения могут отличаться."
   ]
  },
  {
   "cell_type": "code",
   "execution_count": 2,
   "metadata": {},
   "outputs": [],
   "source": [
    "df = pd.read_csv('data/trainDf').drop('Unnamed: 0', axis = 1)"
   ]
  },
  {
   "cell_type": "code",
   "execution_count": null,
   "metadata": {},
   "outputs": [],
   "source": [
    "#df = pd.read_csv('data/testDf').drop('Unnamed: 0', axis = 1)"
   ]
  },
  {
   "cell_type": "code",
   "execution_count": 3,
   "metadata": {},
   "outputs": [],
   "source": [
    "towns = list(set(df['city']))\n",
    "overpass_url = \"http://overpass-api.de/api/interpreter?data=[out:json];node(1);out;\""
   ]
  },
  {
   "cell_type": "code",
   "execution_count": 4,
   "metadata": {},
   "outputs": [
    {
     "data": {
      "text/plain": [
       "11"
      ]
     },
     "execution_count": 4,
     "metadata": {},
     "output_type": "execute_result"
    }
   ],
   "source": [
    "len(towns)"
   ]
  },
  {
   "cell_type": "code",
   "execution_count": 24,
   "metadata": {},
   "outputs": [],
   "source": [
    "\n",
    "# Приезжие могут купить телефон на станции\n",
    "\n",
    "overpass_rail = \"\"\"\n",
    "[out:json];\n",
    "area[name=\"{}\"];\n",
    "nwr(area)[railway=station];\n",
    "out;\n",
    "\"\"\"\n",
    "\n",
    "# Приезжие могут купить телефон у гостиницы, поэтому проверим эти точки тоже\n",
    "\n",
    "overpass_hotel = \"\"\"\n",
    "[out:json];\n",
    "area[name=\"{}\"];\n",
    "nwr(area)[tourism=hotel];\n",
    "out;\n",
    "\"\"\"\n",
    "\n",
    "overpass_guest = \"\"\"\n",
    "[out:json];\n",
    "area[name=\"{}\"];\n",
    "nwr(area)[tourism=guest_house];\n",
    "out;\n",
    "\"\"\"\n",
    "\n",
    "# Отдельно можно рассмотреть хостулы, так как их можно отнести к более низкому ценовому сегменту\n",
    "overpass_hostel = \"\"\"\n",
    "[out:json];\n",
    "area[name=\"{}\"];\n",
    "nwr(area)[tourism=hostel];\n",
    "out;\n",
    "\"\"\"\n",
    "\n",
    "# Посмотрим так же автомойки и починку автомобилей. Рабочим может быть удобнее пользоваться кнопочными телефонами\n",
    "# Рассчитываем на текучку кадров и нечистые махинации :)\n",
    "overpass_wash = \"\"\"\n",
    "[out:json];\n",
    "area[name=\"{}\"];\n",
    "nwr(area)[shop=car_wash];\n",
    "out;\n",
    "\"\"\"\n",
    "\n",
    "overpass_repair = \"\"\"\n",
    "[out:json];\n",
    "area[name=\"{}\"];\n",
    "nwr(area)[shop=car_repair];\n",
    "out;\n",
    "\"\"\"\n",
    "\n",
    "# Есть всего несколько точек, где можно взять автомобиль напрокат. Это актуально для приезжих.\n",
    "overpass_rental = \"\"\"\n",
    "[out:json];\n",
    "area[name=\"{}\"];\n",
    "nwr(area)[amenity=car_rental];\n",
    "out;\n",
    "\"\"\"\n",
    "\n",
    "overpass_sharing = \"\"\"\n",
    "[out:json];\n",
    "area[name=\"{}\"];\n",
    "nwr(area)[amenity=car_sharing];\n",
    "out;\n",
    "\"\"\"\n",
    "# Там где много еды - оживленный район и много рабочих.\n",
    "overpass_food = \"\"\"\n",
    "[out:json];\n",
    "area[name=\"{}\"];\n",
    "nwr(area)[amenity=fast_food];\n",
    "out;\n",
    "\"\"\"\n",
    "# Достопримечательности - популярное место у туристов.\n",
    "overpass_attraction = \"\"\"\n",
    "[out:json];\n",
    "area[name=\"{}\"];\n",
    "nwr(area)[tourism=attraction];\n",
    "out;\n",
    "\"\"\"   \n",
    "\n",
    "#aeroway=aerodrome\n",
    "\n",
    "overpass_air = \"\"\"\n",
    "[out:json];\n",
    "area[name=\"{}\"];\n",
    "nwr(area)[aeroway=aerodrome];\n",
    "out;\n",
    "\"\"\"   "
   ]
  },
  {
   "cell_type": "code",
   "execution_count": 5,
   "metadata": {},
   "outputs": [],
   "source": [
    "def Response_str(city, overpass_str, overpass_url):\n",
    "    \n",
    "    response = requests.get(overpass_url, \n",
    "                        params={'data': overpass_str.format(city)})\n",
    "        \n",
    "    try:\n",
    "        data = response.json()\n",
    "    except:\n",
    "        print('sleep')\n",
    "        time.sleep(10)\n",
    "            \n",
    "        response = requests.get(overpass_url, \n",
    "                        params={'data': overpass_str.format(city)})\n",
    "        data = response.json()\n",
    "            \n",
    "    if len(data['elements']) == 0:\n",
    "        dff = pd.DataFrame(data = [])\n",
    "    else:\n",
    "        dff = pd.json_normalize(data['elements'])\n",
    "    return dff"
   ]
  },
  {
   "cell_type": "code",
   "execution_count": 6,
   "metadata": {},
   "outputs": [],
   "source": [
    "\n",
    "def Return_dict_amenity (towns, overpass_str1 = '', overpass_str2 = ''):\n",
    "    \n",
    "    overpass_url = \"http://overpass-api.de/api/interpreter?data=[out:json];node(1);out;\"\n",
    "    \n",
    "    dict_x = {}\n",
    "\n",
    "    for i in range(len(towns)):\n",
    "        print('sleep', i)\n",
    "        city = towns[i]\n",
    "        my_sum = 0\n",
    "        \n",
    "        if (len(overpass_str1)!=0 and  len(overpass_str2)!=0):\n",
    "            dff1 = Response_str(city, overpass_str1, overpass_url)\n",
    "            dff2 = Response_str(city, overpass_str2, overpass_url)\n",
    "            dff = pd.concat([dff1, dff2], axis = 0)\n",
    "            columns = dff.columns\n",
    "            dff = pd.concat([dff1, dff2], axis = 0, ignore_index=True)\n",
    "            dff.columns = columns\n",
    "        elif len(overpass_str1)!=0:\n",
    "            dff = Response_str(city, overpass_str1, overpass_url)\n",
    "        elif len(overpass_str2)!=0:\n",
    "            dff = Response_str(city, overpass_str2, overpass_url)\n",
    "        \n",
    "        dict_x[towns[i]]= dff\n",
    "        \n",
    "        print(city, ' ', len(dff))\n",
    "        time.sleep(5)\n",
    "    return dict_x"
   ]
  },
  {
   "cell_type": "code",
   "execution_count": 7,
   "metadata": {},
   "outputs": [
    {
     "name": "stdout",
     "output_type": "stream",
     "text": [
      "sleep 0\n",
      "Екатеринбург   27\n",
      "sleep 1\n",
      "Самара   20\n",
      "sleep 2\n",
      "sleep\n",
      "Санкт-Петербург   124\n",
      "sleep 3\n",
      "Уфа   11\n",
      "sleep 4\n",
      "sleep\n",
      "Красноярск   12\n",
      "sleep 5\n",
      "Ростов-на-Дону   12\n",
      "sleep 6\n",
      "sleep\n",
      "Москва   304\n",
      "sleep 7\n",
      "Балашиха   2\n",
      "sleep 8\n",
      "Казань   23\n",
      "sleep 9\n",
      "Нижний Новгород   25\n",
      "sleep 10\n",
      "Новосибирск   37\n"
     ]
    }
   ],
   "source": [
    "dict_rail = Return_dict_amenity (towns,  overpass_rail)"
   ]
  },
  {
   "cell_type": "code",
   "execution_count": 10,
   "metadata": {},
   "outputs": [
    {
     "name": "stdout",
     "output_type": "stream",
     "text": [
      "sleep 0\n",
      "sleep\n",
      "sleep\n",
      "Екатеринбург   102\n",
      "sleep 1\n",
      "Самара   69\n",
      "sleep 2\n",
      "sleep\n",
      "Санкт-Петербург   853\n",
      "sleep 3\n",
      "Уфа   32\n",
      "sleep 4\n",
      "Красноярск   56\n",
      "sleep 5\n",
      "Ростов-на-Дону   83\n",
      "sleep 6\n",
      "Москва   705\n",
      "sleep 7\n",
      "sleep\n",
      "Балашиха   20\n",
      "sleep 8\n",
      "sleep\n",
      "Казань   127\n",
      "sleep 9\n",
      "Нижний Новгород   103\n",
      "sleep 10\n",
      "Новосибирск   65\n"
     ]
    }
   ],
   "source": [
    "dict_hotel = Return_dict_amenity (towns,  overpass_hotel, overpass_guest)"
   ]
  },
  {
   "cell_type": "code",
   "execution_count": 11,
   "metadata": {},
   "outputs": [
    {
     "name": "stdout",
     "output_type": "stream",
     "text": [
      "sleep 0\n",
      "Екатеринбург   28\n",
      "sleep 1\n",
      "Самара   6\n",
      "sleep 2\n",
      "Санкт-Петербург   218\n",
      "sleep 3\n",
      "Уфа   9\n",
      "sleep 4\n",
      "Красноярск   22\n",
      "sleep 5\n",
      "Ростов-на-Дону   8\n",
      "sleep 6\n",
      "Москва   324\n",
      "sleep 7\n",
      "Балашиха   1\n",
      "sleep 8\n",
      "Казань   31\n",
      "sleep 9\n",
      "Нижний Новгород   17\n",
      "sleep 10\n",
      "Новосибирск   18\n"
     ]
    }
   ],
   "source": [
    "dict_hostel = Return_dict_amenity (towns,  overpass_hostel)"
   ]
  },
  {
   "cell_type": "code",
   "execution_count": 12,
   "metadata": {},
   "outputs": [
    {
     "name": "stdout",
     "output_type": "stream",
     "text": [
      "sleep 0\n",
      "Екатеринбург   273\n",
      "sleep 1\n",
      "Самара   95\n",
      "sleep 2\n",
      "Санкт-Петербург   903\n",
      "sleep 3\n",
      "Уфа   99\n",
      "sleep 4\n",
      "Красноярск   72\n",
      "sleep 5\n",
      "Ростов-на-Дону   98\n",
      "sleep 6\n",
      "Москва   1398\n",
      "sleep 7\n",
      "Балашиха   147\n",
      "sleep 8\n",
      "Казань   192\n",
      "sleep 9\n",
      "Нижний Новгород   193\n",
      "sleep 10\n",
      "Новосибирск   255\n"
     ]
    }
   ],
   "source": [
    "dict_repair = Return_dict_amenity (towns,  overpass_repair, overpass_wash)"
   ]
  },
  {
   "cell_type": "code",
   "execution_count": 13,
   "metadata": {},
   "outputs": [
    {
     "name": "stdout",
     "output_type": "stream",
     "text": [
      "sleep 0\n",
      "Екатеринбург   4\n",
      "sleep 1\n",
      "Самара   1\n",
      "sleep 2\n",
      "Санкт-Петербург   19\n",
      "sleep 3\n",
      "Уфа   0\n",
      "sleep 4\n",
      "Красноярск   3\n",
      "sleep 5\n",
      "Ростов-на-Дону   2\n",
      "sleep 6\n",
      "Москва   23\n",
      "sleep 7\n",
      "Балашиха   0\n",
      "sleep 8\n",
      "Казань   2\n",
      "sleep 9\n",
      "Нижний Новгород   1\n",
      "sleep 10\n",
      "Новосибирск   9\n"
     ]
    }
   ],
   "source": [
    "dict_rental = Return_dict_amenity (towns,  overpass_rental, overpass_sharing)"
   ]
  },
  {
   "cell_type": "code",
   "execution_count": 14,
   "metadata": {},
   "outputs": [
    {
     "name": "stdout",
     "output_type": "stream",
     "text": [
      "sleep 0\n",
      "Екатеринбург   306\n",
      "sleep 1\n",
      "Самара   68\n",
      "sleep 2\n",
      "Санкт-Петербург   1772\n",
      "sleep 3\n",
      "Уфа   73\n",
      "sleep 4\n",
      "Красноярск   54\n",
      "sleep 5\n",
      "Ростов-на-Дону   77\n",
      "sleep 6\n",
      "Москва   2742\n",
      "sleep 7\n",
      "Балашиха   110\n",
      "sleep 8\n",
      "Казань   209\n",
      "sleep 9\n",
      "Нижний Новгород   140\n",
      "sleep 10\n",
      "Новосибирск   198\n"
     ]
    }
   ],
   "source": [
    "dict_food = Return_dict_amenity(towns,  overpass_food)"
   ]
  },
  {
   "cell_type": "code",
   "execution_count": 15,
   "metadata": {},
   "outputs": [
    {
     "name": "stdout",
     "output_type": "stream",
     "text": [
      "sleep 0\n",
      "Екатеринбург   52\n",
      "sleep 1\n",
      "Самара   17\n",
      "sleep 2\n",
      "Санкт-Петербург   614\n",
      "sleep 3\n",
      "Уфа   21\n",
      "sleep 4\n",
      "Красноярск   9\n",
      "sleep 5\n",
      "Ростов-на-Дону   107\n",
      "sleep 6\n",
      "Москва   748\n",
      "sleep 7\n",
      "Балашиха   19\n",
      "sleep 8\n",
      "Казань   86\n",
      "sleep 9\n",
      "Нижний Новгород   486\n",
      "sleep 10\n",
      "Новосибирск   110\n"
     ]
    }
   ],
   "source": [
    "dict_attraction = Return_dict_amenity(towns,  overpass_attraction)"
   ]
  },
  {
   "cell_type": "code",
   "execution_count": 25,
   "metadata": {},
   "outputs": [
    {
     "name": "stdout",
     "output_type": "stream",
     "text": [
      "sleep 0\n",
      "Екатеринбург   1\n",
      "sleep 1\n",
      "Самара   4\n",
      "sleep 2\n",
      "Санкт-Петербург   7\n",
      "sleep 3\n",
      "Уфа   2\n",
      "sleep 4\n",
      "Красноярск   0\n",
      "sleep 5\n",
      "Ростов-на-Дону   2\n",
      "sleep 6\n",
      "Москва   2\n",
      "sleep 7\n",
      "Балашиха   1\n",
      "sleep 8\n",
      "Казань   2\n",
      "sleep 9\n",
      "Нижний Новгород   2\n",
      "sleep 10\n",
      "Новосибирск   2\n"
     ]
    }
   ],
   "source": [
    "dict_air = Return_dict_amenity(towns,  overpass_air)"
   ]
  },
  {
   "cell_type": "code",
   "execution_count": 41,
   "metadata": {},
   "outputs": [],
   "source": [
    "def Dist_Search_for(df, dict_x):\n",
    "    \n",
    "    dist = []\n",
    "    buf = []\n",
    "    B = 0.3\n",
    "    \n",
    "    for i in range(len(df)):\n",
    "        \n",
    "        buffer = 0\n",
    "        \n",
    "        a = (float(df['lat'][i]), float(df['lon'][i]))\n",
    "        city = df['city'][i]\n",
    "        flag= 0\n",
    "        \n",
    "        dff = dict_x[city]\n",
    "        \n",
    "        if ('lat' in list(dff)) and ('lon' in list(dff)):\n",
    "            df_new = dff[['lat', 'lon']].copy()\n",
    "            df_new = df_new.dropna()\n",
    "        else:\n",
    "            min_dist = -1\n",
    "            dist.append(min_dist)\n",
    "            buf.append(buffer)\n",
    "            continue\n",
    "        \n",
    "\n",
    "        for j in df_new.index:\n",
    "        \n",
    "            b = (float(df_new['lat'][j]), float(df_new['lon'][j]) )\n",
    "            d = distance.geodesic(a, b).km\n",
    "            \n",
    "            if flag==0:\n",
    "                min_dist = d\n",
    "                flag = 1\n",
    "            elif min_dist > d:\n",
    "                min_dist = d\n",
    "            \n",
    "            if d<= B:\n",
    "                buffer+=1\n",
    "        \n",
    "        dist.append(min_dist)\n",
    "        buf.append(buffer)\n",
    "        print(i, ' ', city, ' ', min_dist, ' ', buffer)\n",
    "        \n",
    "    return dist, buf"
   ]
  },
  {
   "cell_type": "code",
   "execution_count": 8,
   "metadata": {},
   "outputs": [],
   "source": [
    "dist_rail, buf_rail = Dist_Search_for(df, dict_rail)"
   ]
  },
  {
   "cell_type": "code",
   "execution_count": 9,
   "metadata": {},
   "outputs": [],
   "source": [
    "dist_hotel, buf_hotel = Dist_Search_for(df, dict_hotel)"
   ]
  },
  {
   "cell_type": "code",
   "execution_count": 10,
   "metadata": {},
   "outputs": [],
   "source": [
    "dist_hostel, buf_hostel = Dist_Search_for(df, dict_hostel)"
   ]
  },
  {
   "cell_type": "code",
   "execution_count": 11,
   "metadata": {},
   "outputs": [],
   "source": [
    "dist_repair, buf_repair = Dist_Search_for(df, dict_repair)"
   ]
  },
  {
   "cell_type": "code",
   "execution_count": 12,
   "metadata": {},
   "outputs": [],
   "source": [
    "dist_rental, buf_rental = Dist_Search_for(df, dict_rental)"
   ]
  },
  {
   "cell_type": "code",
   "execution_count": 13,
   "metadata": {},
   "outputs": [],
   "source": [
    "dist_food, buf_food = Dist_Search_for(df, dict_food)"
   ]
  },
  {
   "cell_type": "code",
   "execution_count": 14,
   "metadata": {},
   "outputs": [],
   "source": [
    "dist_attraction, buf_attraction = Dist_Search_for(df, dict_attraction)"
   ]
  },
  {
   "cell_type": "code",
   "execution_count": 15,
   "metadata": {},
   "outputs": [],
   "source": [
    "dist_air, buf_air = Dist_Search_for(df, dict_air)"
   ]
  },
  {
   "cell_type": "code",
   "execution_count": 57,
   "metadata": {},
   "outputs": [],
   "source": [
    "df['dist_rail'] = dist_rail\n",
    "df['dist_hotel']  = dist_hotel\n",
    "df['dist_hostel'] = dist_hostel\n",
    "df['dist_repair'] = dist_repair\n",
    "df['dist_rental'] = dist_rental\n",
    "df['dist_food'] = dist_food\n",
    "df['dist_attraction'] = dist_attraction\n",
    "df['dist_air'] = dist_air"
   ]
  },
  {
   "cell_type": "code",
   "execution_count": 58,
   "metadata": {},
   "outputs": [],
   "source": [
    "df['300_buf_rail'] = buf_rail\n",
    "df['300_buf_hotel']  = buf_hotel\n",
    "df['300_buf_hostel'] = buf_hostel\n",
    "df['300_buf_repair'] = buf_repair\n",
    "df['300_buf_rental'] = buf_rental\n",
    "df['300_buf_food'] = buf_food\n",
    "df['300_buf_attraction'] = buf_attraction\n",
    "df['300_buf_air'] = buf_air"
   ]
  },
  {
   "cell_type": "code",
   "execution_count": null,
   "metadata": {},
   "outputs": [],
   "source": []
  },
  {
   "cell_type": "code",
   "execution_count": 47,
   "metadata": {},
   "outputs": [],
   "source": [
    "#df.to_csv('data/trainDf')"
   ]
  },
  {
   "cell_type": "code",
   "execution_count": 59,
   "metadata": {},
   "outputs": [],
   "source": [
    "#df.to_csv('data/testDf')"
   ]
  },
  {
   "cell_type": "markdown",
   "metadata": {},
   "source": [
    "4. **Сделайте визуализации**: постройте 2-3 карты для какого нибудь из городов - как распределен в пространстве таргет, где находятся объекты, полученные вами из OSM. Можете использовать любой инструмент - обычный `plot()`, `folium`, `keplergl`. Если выберете Кеплер, обязательно сохраните в файл конфиг карты, чтобы ее можно было воспроизвести. Сделать это можно вот так:\n",
    "\n",
    "```python\n",
    "import json\n",
    "json_data = kepler_map.config\n",
    "with open('kepler_config.json', 'w') as outfile:\n",
    "    json.dump(json_data, outfile)\n",
    "```\n"
   ]
  },
  {
   "cell_type": "code",
   "execution_count": 2,
   "metadata": {},
   "outputs": [],
   "source": [
    "#df = pd.read_csv('data/trainDf').drop('Unnamed: 0', axis = 1)"
   ]
  },
  {
   "cell_type": "code",
   "execution_count": 48,
   "metadata": {},
   "outputs": [],
   "source": [
    "#df = pd.read_csv('data/testDf').drop('Unnamed: 0', axis = 1)"
   ]
  },
  {
   "cell_type": "code",
   "execution_count": 337,
   "metadata": {},
   "outputs": [
    {
     "data": {
      "image/png": "[encoded data removed]",
      "text/plain": [
       "<Figure size 432x288 with 1 Axes>"
      ]
     },
     "metadata": {
      "needs_background": "light"
     },
     "output_type": "display_data"
    }
   ],
   "source": [
    "from shapely.geometry import Point\n",
    "import numpy as np\n",
    "\n",
    "x = df['lat'].astype(float)\n",
    "y = df['lon'].astype(float)\n",
    "\n",
    "p = []\n",
    "for i in range(len(x)):\n",
    "    p.append(Point(x[i],y[i]))\n",
    "    \n",
    "empire = gpd.GeoDataFrame( geometry=p, crs={'init': 'epsg:4326'})\n",
    "empire.plot();"
   ]
  },
  {
   "cell_type": "code",
   "execution_count": 338,
   "metadata": {},
   "outputs": [
    {
     "data": {
      "text/plain": [
       "<matplotlib.collections.PathCollection at 0x1b6fa17ff88>"
      ]
     },
     "execution_count": 338,
     "metadata": {},
     "output_type": "execute_result"
    },
    {
     "data": {
      "image/png": "[encoded data removed]",
      "text/plain": [
       "<Figure size 432x288 with 1 Axes>"
      ]
     },
     "metadata": {
      "needs_background": "light"
     },
     "output_type": "display_data"
    }
   ],
   "source": [
    "from matplotlib import pyplot as plt\n",
    "\n",
    "plt.scatter(df['lat'], df['lon'])"
   ]
  },
  {
   "cell_type": "code",
   "execution_count": 4,
   "metadata": {},
   "outputs": [],
   "source": [
    "import folium\n",
    "from folium.plugins import HeatMap"
   ]
  },
  {
   "cell_type": "code",
   "execution_count": 5,
   "metadata": {},
   "outputs": [
    {
     "data": {
      "text/html": [
       "<div style=\"width:100%;\"><div style=\"position:relative;width:100%;height:0;padding-bottom:60%;\"><span style=\"color:#565656\">Make this Notebook Trusted to load map: File -> Trust Notebook</span><iframe src=\"about:blank\" style=\"position:absolute;width:100%;height:100%;left:0;top:0;border:none !important;\" data-html=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 onload=\"this.contentDocument.open();this.contentDocument.write(atob(this.getAttribute('data-html')));this.contentDocument.close();\" allowfullscreen webkitallowfullscreen mozallowfullscreen></iframe></div></div>"
      ],
      "text/plain": [
       "<folium.folium.Map at 0x1e574802d88>"
      ]
     },
     "execution_count": 5,
     "metadata": {},
     "output_type": "execute_result"
    }
   ],
   "source": [
    "m = folium.Map(location=[55, 60 ], zoom_start=4, tiles='cartodbpositron')\n",
    "\n",
    "#heat_data = [[row['lat'],row['lon']] for index, row in df.iterrows()]\n",
    "\n",
    "heat_data = [[row['lat'],row['lon']] for index, row in df.iterrows()]\n",
    "HeatMap(heat_data, radius=15).add_to(m)\n",
    "m.save(\"map_Russia.html\")\n",
    "m"
   ]
  },
  {
   "cell_type": "code",
   "execution_count": 400,
   "metadata": {},
   "outputs": [
    {
     "name": "stdout",
     "output_type": "stream",
     "text": [
      "Москва   55.7504461   37.6174943\n"
     ]
    }
   ],
   "source": [
    "city = df['city'][3]\n",
    "lat_center = df['lat_center'][3]\n",
    "lon_center = df['lon_center'][3]\n",
    "print(city, ' ', lat_center, ' ', lon_center)"
   ]
  },
  {
   "cell_type": "code",
   "execution_count": 16,
   "metadata": {},
   "outputs": [],
   "source": [
    "data_rail = dict_rail[city]\n",
    "data_rail = data_rail[['lat', 'lon']].copy()\n",
    "data_rail = data_rail.dropna()\n",
    "\n",
    "m = folium.Map(location=[lat_center, lon_center], zoom_start=11, tiles='cartodbpositron')\n",
    "\n",
    "#heat_data = [[row['lat'],row['lon']] for index, row in df.iterrows()]\n",
    "\n",
    "heat_data = [[row['lat'],row['lon']] for index, row in data_rail.iterrows()]\n",
    "HeatMap(heat_data, radius=7).add_to(m)\n",
    "m.save(\"map_rail_Moscow.html\")\n",
    "m"
   ]
  },
  {
   "cell_type": "code",
   "execution_count": 17,
   "metadata": {},
   "outputs": [],
   "source": [
    "data_hotel = dict_hotel[city]\n",
    "data_hotel = data_hotel[['lat', 'lon']].copy()\n",
    "data_hotel = data_hotel.dropna()\n",
    "\n",
    "m = folium.Map(location=[lat_center, lon_center], zoom_start=11, tiles='cartodbpositron')\n",
    "\n",
    "#heat_data = [[row['lat'],row['lon']] for index, row in df.iterrows()]\n",
    "\n",
    "heat_data = [[row['lat'],row['lon']] for index, row in data_hotel.iterrows()]\n",
    "HeatMap(heat_data, radius=15).add_to(m)\n",
    "m.save(\"map_hotel_Moscow.html\")\n",
    "m"
   ]
  },
  {
   "cell_type": "markdown",
   "metadata": {},
   "source": [
    "5. Задание не ограничено приведенными выше пунктами, попробуйте нагенерировать интересных признаков, найти в интернете дополнительные данные (в таком случае в комментарии к коду укажите ссылку на ресурс, откуда взяли данные)\n",
    "\n",
    "6. Это довольно сложная задача - датасет очень маленький, данные по своей природе довольно случайны. Поэтому место и скор на Kaggle не будут играть решающую роль в оценке, но позволят заработать дополнительные баллы"
   ]
  },
  {
   "cell_type": "markdown",
   "metadata": {},
   "source": [
    "### Read data"
   ]
  },
  {
   "cell_type": "code",
   "execution_count": 23,
   "metadata": {},
   "outputs": [],
   "source": [
    "#train = pd.read_csv('data/mf_geo_train.csv')\n",
    "#test = pd.read_csv('data/mf_geo_test.csv')"
   ]
  },
  {
   "cell_type": "code",
   "execution_count": 60,
   "metadata": {},
   "outputs": [],
   "source": [
    "dr = ['Unnamed: 0', 'lon', 'lat', 'coordinate', 'lat_center', 'lon_center', 'city']\n",
    "train = pd.read_csv('data/trainDf').drop(dr, axis = 1)\n",
    "test = pd.read_csv('data/testDf').drop(dr, axis = 1)"
   ]
  },
  {
   "cell_type": "code",
   "execution_count": 61,
   "metadata": {},
   "outputs": [
    {
     "data": {
      "text/html": [
       "<div>\n",
       "<style scoped>\n",
       "    .dataframe tbody tr th:only-of-type {\n",
       "        vertical-align: middle;\n",
       "    }\n",
       "\n",
       "    .dataframe tbody tr th {\n",
       "        vertical-align: top;\n",
       "    }\n",
       "\n",
       "    .dataframe thead th {\n",
       "        text-align: right;\n",
       "    }\n",
       "</style>\n",
       "<table border=\"1\" class=\"dataframe\">\n",
       "  <thead>\n",
       "    <tr style=\"text-align: right;\">\n",
       "      <th></th>\n",
       "      <th>point_id</th>\n",
       "      <th>target</th>\n",
       "      <th>Number_of_rs</th>\n",
       "      <th>Number_of_tourism</th>\n",
       "      <th>num_rail</th>\n",
       "      <th>num_tourism</th>\n",
       "      <th>num_car_rep</th>\n",
       "      <th>num_car_shar</th>\n",
       "      <th>num_food</th>\n",
       "      <th>num_attraction</th>\n",
       "      <th>...</th>\n",
       "      <th>dist_attraction</th>\n",
       "      <th>dist_air</th>\n",
       "      <th>300_buf_rail</th>\n",
       "      <th>300_buf_hotel</th>\n",
       "      <th>300_buf_hostel</th>\n",
       "      <th>300_buf_repair</th>\n",
       "      <th>300_buf_rental</th>\n",
       "      <th>300_buf_food</th>\n",
       "      <th>300_buf_attraction</th>\n",
       "      <th>300_buf_air</th>\n",
       "    </tr>\n",
       "  </thead>\n",
       "  <tbody>\n",
       "    <tr>\n",
       "      <th>0</th>\n",
       "      <td>ommNZCUV</td>\n",
       "      <td>-0.348157</td>\n",
       "      <td>96</td>\n",
       "      <td>1028</td>\n",
       "      <td>2</td>\n",
       "      <td>5</td>\n",
       "      <td>5</td>\n",
       "      <td>0</td>\n",
       "      <td>9</td>\n",
       "      <td>3</td>\n",
       "      <td>...</td>\n",
       "      <td>1.900017</td>\n",
       "      <td>-1.0</td>\n",
       "      <td>2</td>\n",
       "      <td>1</td>\n",
       "      <td>0</td>\n",
       "      <td>1</td>\n",
       "      <td>0</td>\n",
       "      <td>1</td>\n",
       "      <td>0</td>\n",
       "      <td>0</td>\n",
       "    </tr>\n",
       "    <tr>\n",
       "      <th>1</th>\n",
       "      <td>nMe2LHPb</td>\n",
       "      <td>1.294206</td>\n",
       "      <td>96</td>\n",
       "      <td>1028</td>\n",
       "      <td>1</td>\n",
       "      <td>0</td>\n",
       "      <td>2</td>\n",
       "      <td>0</td>\n",
       "      <td>14</td>\n",
       "      <td>0</td>\n",
       "      <td>...</td>\n",
       "      <td>2.438806</td>\n",
       "      <td>-1.0</td>\n",
       "      <td>1</td>\n",
       "      <td>0</td>\n",
       "      <td>0</td>\n",
       "      <td>1</td>\n",
       "      <td>0</td>\n",
       "      <td>9</td>\n",
       "      <td>0</td>\n",
       "      <td>0</td>\n",
       "    </tr>\n",
       "  </tbody>\n",
       "</table>\n",
       "<p>2 rows × 27 columns</p>\n",
       "</div>"
      ],
      "text/plain": [
       "   point_id    target  Number_of_rs  Number_of_tourism  num_rail  num_tourism  \\\n",
       "0  ommNZCUV -0.348157            96               1028         2            5   \n",
       "1  nMe2LHPb  1.294206            96               1028         1            0   \n",
       "\n",
       "   num_car_rep  num_car_shar  num_food  num_attraction  ...  dist_attraction  \\\n",
       "0            5             0         9               3  ...         1.900017   \n",
       "1            2             0        14               0  ...         2.438806   \n",
       "\n",
       "   dist_air  300_buf_rail  300_buf_hotel  300_buf_hostel  300_buf_repair  \\\n",
       "0      -1.0             2              1               0               1   \n",
       "1      -1.0             1              0               0               1   \n",
       "\n",
       "   300_buf_rental  300_buf_food  300_buf_attraction  300_buf_air  \n",
       "0               0             1                   0            0  \n",
       "1               0             9                   0            0  \n",
       "\n",
       "[2 rows x 27 columns]"
      ]
     },
     "execution_count": 61,
     "metadata": {},
     "output_type": "execute_result"
    }
   ],
   "source": [
    "train.head(2)"
   ]
  },
  {
   "cell_type": "code",
   "execution_count": 62,
   "metadata": {},
   "outputs": [
    {
     "data": {
      "text/html": [
       "<div>\n",
       "<style scoped>\n",
       "    .dataframe tbody tr th:only-of-type {\n",
       "        vertical-align: middle;\n",
       "    }\n",
       "\n",
       "    .dataframe tbody tr th {\n",
       "        vertical-align: top;\n",
       "    }\n",
       "\n",
       "    .dataframe thead th {\n",
       "        text-align: right;\n",
       "    }\n",
       "</style>\n",
       "<table border=\"1\" class=\"dataframe\">\n",
       "  <thead>\n",
       "    <tr style=\"text-align: right;\">\n",
       "      <th></th>\n",
       "      <th>point_id</th>\n",
       "      <th>target</th>\n",
       "      <th>Number_of_rs</th>\n",
       "      <th>Number_of_tourism</th>\n",
       "      <th>num_rail</th>\n",
       "      <th>num_tourism</th>\n",
       "      <th>num_car_rep</th>\n",
       "      <th>num_car_shar</th>\n",
       "      <th>num_food</th>\n",
       "      <th>num_attraction</th>\n",
       "      <th>...</th>\n",
       "      <th>dist_attraction</th>\n",
       "      <th>dist_air</th>\n",
       "      <th>300_buf_rail</th>\n",
       "      <th>300_buf_hotel</th>\n",
       "      <th>300_buf_hostel</th>\n",
       "      <th>300_buf_repair</th>\n",
       "      <th>300_buf_rental</th>\n",
       "      <th>300_buf_food</th>\n",
       "      <th>300_buf_attraction</th>\n",
       "      <th>300_buf_air</th>\n",
       "    </tr>\n",
       "  </thead>\n",
       "  <tbody>\n",
       "    <tr>\n",
       "      <th>0</th>\n",
       "      <td>F4lXR1cG</td>\n",
       "      <td>0.0091</td>\n",
       "      <td>96</td>\n",
       "      <td>1028</td>\n",
       "      <td>3</td>\n",
       "      <td>5</td>\n",
       "      <td>5</td>\n",
       "      <td>0</td>\n",
       "      <td>19</td>\n",
       "      <td>1</td>\n",
       "      <td>...</td>\n",
       "      <td>1.648046</td>\n",
       "      <td>-1.0</td>\n",
       "      <td>2</td>\n",
       "      <td>0</td>\n",
       "      <td>2</td>\n",
       "      <td>1</td>\n",
       "      <td>0</td>\n",
       "      <td>17</td>\n",
       "      <td>0</td>\n",
       "      <td>0</td>\n",
       "    </tr>\n",
       "    <tr>\n",
       "      <th>1</th>\n",
       "      <td>4LJu4GTf</td>\n",
       "      <td>0.0091</td>\n",
       "      <td>18</td>\n",
       "      <td>130</td>\n",
       "      <td>0</td>\n",
       "      <td>0</td>\n",
       "      <td>1</td>\n",
       "      <td>0</td>\n",
       "      <td>5</td>\n",
       "      <td>0</td>\n",
       "      <td>...</td>\n",
       "      <td>2.600928</td>\n",
       "      <td>-1.0</td>\n",
       "      <td>0</td>\n",
       "      <td>0</td>\n",
       "      <td>0</td>\n",
       "      <td>0</td>\n",
       "      <td>0</td>\n",
       "      <td>5</td>\n",
       "      <td>0</td>\n",
       "      <td>0</td>\n",
       "    </tr>\n",
       "  </tbody>\n",
       "</table>\n",
       "<p>2 rows × 27 columns</p>\n",
       "</div>"
      ],
      "text/plain": [
       "   point_id  target  Number_of_rs  Number_of_tourism  num_rail  num_tourism  \\\n",
       "0  F4lXR1cG  0.0091            96               1028         3            5   \n",
       "1  4LJu4GTf  0.0091            18                130         0            0   \n",
       "\n",
       "   num_car_rep  num_car_shar  num_food  num_attraction  ...  dist_attraction  \\\n",
       "0            5             0        19               1  ...         1.648046   \n",
       "1            1             0         5               0  ...         2.600928   \n",
       "\n",
       "   dist_air  300_buf_rail  300_buf_hotel  300_buf_hostel  300_buf_repair  \\\n",
       "0      -1.0             2              0               2               1   \n",
       "1      -1.0             0              0               0               0   \n",
       "\n",
       "   300_buf_rental  300_buf_food  300_buf_attraction  300_buf_air  \n",
       "0               0            17                   0            0  \n",
       "1               0             5                   0            0  \n",
       "\n",
       "[2 rows x 27 columns]"
      ]
     },
     "execution_count": 62,
     "metadata": {},
     "output_type": "execute_result"
    }
   ],
   "source": [
    "test.head(2)"
   ]
  },
  {
   "cell_type": "markdown",
   "metadata": {},
   "source": [
    "### Fit model"
   ]
  },
  {
   "cell_type": "code",
   "execution_count": 69,
   "metadata": {},
   "outputs": [],
   "source": [
    "X_train, X_valid, y_train, y_valid = train_test_split(train.drop('target', axis=1), train[['target']])\n",
    "model = LinearRegression().fit(X_train.drop('point_id', axis=1), y_train)"
   ]
  },
  {
   "cell_type": "code",
   "execution_count": 70,
   "metadata": {},
   "outputs": [
    {
     "data": {
      "text/plain": [
       "0.5032088164725891"
      ]
     },
     "execution_count": 70,
     "metadata": {},
     "output_type": "execute_result"
    }
   ],
   "source": [
    "y_predict = model.predict(X_valid.drop('point_id', axis=1))\n",
    "mean_absolute_error(y_valid, y_predict)"
   ]
  },
  {
   "cell_type": "code",
   "execution_count": 76,
   "metadata": {},
   "outputs": [],
   "source": [
    "X_train, y_train = train.drop('target', axis=1), train[['target']]\n",
    "model = LinearRegression().fit(X_train.drop('point_id', axis=1), y_train)"
   ]
  },
  {
   "cell_type": "code",
   "execution_count": null,
   "metadata": {},
   "outputs": [],
   "source": [
    "# 0.5896087308315079\n",
    "# 0.6829291814484125\n",
    "# 0.7155210087935402\n",
    "# 0.740531431840494"
   ]
  },
  {
   "cell_type": "code",
   "execution_count": 11,
   "metadata": {},
   "outputs": [],
   "source": [
    "def Mean(train):\n",
    "    X_train, X_valid, y_train, y_valid = train_test_split(train.drop('target', axis=1), train[['target']])\n",
    "    model = LinearRegression().fit(X_train.drop('point_id', axis=1), y_train)\n",
    "    y_predict = model.predict(X_valid.drop('point_id', axis=1))\n",
    "    return mean_absolute_error(y_valid, y_predict)"
   ]
  },
  {
   "cell_type": "code",
   "execution_count": 241,
   "metadata": {},
   "outputs": [
    {
     "name": "stdout",
     "output_type": "stream",
     "text": [
      "Mean  0.6716402291582831\n"
     ]
    }
   ],
   "source": [
    "N = 10\n",
    "x = 0\n",
    "for i in range(N):\n",
    "    x+=Mean(train)\n",
    "print('Mean ', x/N)"
   ]
  },
  {
   "cell_type": "code",
   "execution_count": 22,
   "metadata": {},
   "outputs": [],
   "source": [
    "import shap\n",
    "X = shap.sample(X_valid.drop('point_id', axis=1), 10)"
   ]
  },
  {
   "cell_type": "code",
   "execution_count": 23,
   "metadata": {},
   "outputs": [
    {
     "data": {
      "image/png": "[encoded data removed]",
      "text/plain": [
       "<Figure size 576x568.8 with 2 Axes>"
      ]
     },
     "metadata": {
      "needs_background": "light"
     },
     "output_type": "display_data"
    }
   ],
   "source": [
    "shap_values = shap.LinearExplainer(model, X).shap_values(X)\n",
    "shap.summary_plot(shap_values, X,\n",
    "                      max_display=25, auto_size_plot=True)"
   ]
  },
  {
   "cell_type": "markdown",
   "metadata": {},
   "source": [
    "1) Feature importance: Variables are ranked in descending order.  \n",
    "2) Impact: The horizontal location shows whether the effect of that value is associated with a higher or lower prediction.  \n",
    "3) Original value: Color shows whether that variable is high (in red) or low (in blue) for that observation.  \n",
    "4) Correlation: A high level of the “alcohol” content has a high and positive impact on the quality rating.   \n",
    "    The “high” comes from the red color, and the “positive” impact is shown on the X-axis.   \n",
    "    Similarly, we will say “volatile acidity” is negatively correlated with the target variable.  "
   ]
  },
  {
   "cell_type": "markdown",
   "metadata": {},
   "source": [
    "1) Важность признаков сверху вниз.  \n",
    "2) На горизонтали показано влияние значение признака на величину прогноза.  \n",
    "3) Красный цвет показывает высокое влияние на наблюдение, синий цвет низкое влияние на наблюдение.  \n",
    "4) Высокое позитивное влияние - это если справа много красных точек.  "
   ]
  },
  {
   "cell_type": "code",
   "execution_count": 24,
   "metadata": {},
   "outputs": [
    {
     "data": {
      "image/png": "[encoded data removed]",
      "text/plain": [
       "<Figure size 540x360 with 2 Axes>"
      ]
     },
     "metadata": {
      "needs_background": "light"
     },
     "output_type": "display_data"
    }
   ],
   "source": [
    "shap.dependence_plot(\"num_food\", shap_values, X)"
   ]
  },
  {
   "cell_type": "code",
   "execution_count": 25,
   "metadata": {},
   "outputs": [
    {
     "data": {
      "image/png": "[encoded data removed]",
      "text/plain": [
       "<Figure size 540x360 with 2 Axes>"
      ]
     },
     "metadata": {
      "needs_background": "light"
     },
     "output_type": "display_data"
    }
   ],
   "source": [
    "shap.dependence_plot(\"dist_repair\", shap_values, X)"
   ]
  },
  {
   "cell_type": "markdown",
   "metadata": {},
   "source": [
    "### Make submission"
   ]
  },
  {
   "cell_type": "code",
   "execution_count": 77,
   "metadata": {},
   "outputs": [],
   "source": [
    "submission = pd.read_csv('data/sample_submission.csv')\n",
    "submission['target'] = model.predict(X_valid.drop('point_id', axis=1))\n",
    "submission.to_csv('data/MaryIzo_submission_4.csv', index=False)"
   ]
  },
  {
   "cell_type": "code",
   "execution_count": 79,
   "metadata": {},
   "outputs": [
    {
     "data": {
      "text/html": [
       "<div>\n",
       "<style scoped>\n",
       "    .dataframe tbody tr th:only-of-type {\n",
       "        vertical-align: middle;\n",
       "    }\n",
       "\n",
       "    .dataframe tbody tr th {\n",
       "        vertical-align: top;\n",
       "    }\n",
       "\n",
       "    .dataframe thead th {\n",
       "        text-align: right;\n",
       "    }\n",
       "</style>\n",
       "<table border=\"1\" class=\"dataframe\">\n",
       "  <thead>\n",
       "    <tr style=\"text-align: right;\">\n",
       "      <th></th>\n",
       "      <th>point_id</th>\n",
       "      <th>target</th>\n",
       "    </tr>\n",
       "  </thead>\n",
       "  <tbody>\n",
       "    <tr>\n",
       "      <th>0</th>\n",
       "      <td>F4lXR1cG</td>\n",
       "      <td>0.141668</td>\n",
       "    </tr>\n",
       "    <tr>\n",
       "      <th>1</th>\n",
       "      <td>4LJu4GTf</td>\n",
       "      <td>0.301788</td>\n",
       "    </tr>\n",
       "    <tr>\n",
       "      <th>2</th>\n",
       "      <td>kLuAAN3s</td>\n",
       "      <td>-0.261720</td>\n",
       "    </tr>\n",
       "    <tr>\n",
       "      <th>3</th>\n",
       "      <td>OxQHvaNu</td>\n",
       "      <td>-0.696787</td>\n",
       "    </tr>\n",
       "    <tr>\n",
       "      <th>4</th>\n",
       "      <td>paQsTa1K</td>\n",
       "      <td>0.464877</td>\n",
       "    </tr>\n",
       "    <tr>\n",
       "      <th>5</th>\n",
       "      <td>7x7uZwPc</td>\n",
       "      <td>-0.237026</td>\n",
       "    </tr>\n",
       "    <tr>\n",
       "      <th>6</th>\n",
       "      <td>tiPNVf91</td>\n",
       "      <td>-0.095353</td>\n",
       "    </tr>\n",
       "    <tr>\n",
       "      <th>7</th>\n",
       "      <td>OMCMewkC</td>\n",
       "      <td>0.479572</td>\n",
       "    </tr>\n",
       "    <tr>\n",
       "      <th>8</th>\n",
       "      <td>yCrOWDXH</td>\n",
       "      <td>-0.400662</td>\n",
       "    </tr>\n",
       "    <tr>\n",
       "      <th>9</th>\n",
       "      <td>eek3uK7b</td>\n",
       "      <td>-0.003002</td>\n",
       "    </tr>\n",
       "    <tr>\n",
       "      <th>10</th>\n",
       "      <td>OouVT4Zr</td>\n",
       "      <td>0.160837</td>\n",
       "    </tr>\n",
       "    <tr>\n",
       "      <th>11</th>\n",
       "      <td>QquqDdRl</td>\n",
       "      <td>-0.138189</td>\n",
       "    </tr>\n",
       "    <tr>\n",
       "      <th>12</th>\n",
       "      <td>1ndpxE65</td>\n",
       "      <td>0.378386</td>\n",
       "    </tr>\n",
       "    <tr>\n",
       "      <th>13</th>\n",
       "      <td>Ah6sXXfa</td>\n",
       "      <td>0.133936</td>\n",
       "    </tr>\n",
       "    <tr>\n",
       "      <th>14</th>\n",
       "      <td>MRwaez8q</td>\n",
       "      <td>-0.806521</td>\n",
       "    </tr>\n",
       "    <tr>\n",
       "      <th>15</th>\n",
       "      <td>xoC8SVZ6</td>\n",
       "      <td>-0.426152</td>\n",
       "    </tr>\n",
       "    <tr>\n",
       "      <th>16</th>\n",
       "      <td>6Q7KBAoT</td>\n",
       "      <td>0.858037</td>\n",
       "    </tr>\n",
       "    <tr>\n",
       "      <th>17</th>\n",
       "      <td>plGMM2CY</td>\n",
       "      <td>-0.382138</td>\n",
       "    </tr>\n",
       "    <tr>\n",
       "      <th>18</th>\n",
       "      <td>AJ47SPyN</td>\n",
       "      <td>-0.612103</td>\n",
       "    </tr>\n",
       "    <tr>\n",
       "      <th>19</th>\n",
       "      <td>RucPRBbc</td>\n",
       "      <td>-0.217214</td>\n",
       "    </tr>\n",
       "  </tbody>\n",
       "</table>\n",
       "</div>"
      ],
      "text/plain": [
       "    point_id    target\n",
       "0   F4lXR1cG  0.141668\n",
       "1   4LJu4GTf  0.301788\n",
       "2   kLuAAN3s -0.261720\n",
       "3   OxQHvaNu -0.696787\n",
       "4   paQsTa1K  0.464877\n",
       "5   7x7uZwPc -0.237026\n",
       "6   tiPNVf91 -0.095353\n",
       "7   OMCMewkC  0.479572\n",
       "8   yCrOWDXH -0.400662\n",
       "9   eek3uK7b -0.003002\n",
       "10  OouVT4Zr  0.160837\n",
       "11  QquqDdRl -0.138189\n",
       "12  1ndpxE65  0.378386\n",
       "13  Ah6sXXfa  0.133936\n",
       "14  MRwaez8q -0.806521\n",
       "15  xoC8SVZ6 -0.426152\n",
       "16  6Q7KBAoT  0.858037\n",
       "17  plGMM2CY -0.382138\n",
       "18  AJ47SPyN -0.612103\n",
       "19  RucPRBbc -0.217214"
      ]
     },
     "execution_count": 79,
     "metadata": {},
     "output_type": "execute_result"
    }
   ],
   "source": [
    "my_submission = pd.read_csv('data/MaryIzo_submission_4x.csv')\n",
    "my_submission[:20]"
   ]
  },
  {
   "cell_type": "code",
   "execution_count": 81,
   "metadata": {},
   "outputs": [
    {
     "data": {
      "text/html": [
       "<div>\n",
       "<style scoped>\n",
       "    .dataframe tbody tr th:only-of-type {\n",
       "        vertical-align: middle;\n",
       "    }\n",
       "\n",
       "    .dataframe tbody tr th {\n",
       "        vertical-align: top;\n",
       "    }\n",
       "\n",
       "    .dataframe thead th {\n",
       "        text-align: right;\n",
       "    }\n",
       "</style>\n",
       "<table border=\"1\" class=\"dataframe\">\n",
       "  <thead>\n",
       "    <tr style=\"text-align: right;\">\n",
       "      <th></th>\n",
       "      <th>point_id</th>\n",
       "      <th>target</th>\n",
       "    </tr>\n",
       "  </thead>\n",
       "  <tbody>\n",
       "    <tr>\n",
       "      <th>0</th>\n",
       "      <td>F4lXR1cG</td>\n",
       "      <td>-0.335979</td>\n",
       "    </tr>\n",
       "    <tr>\n",
       "      <th>1</th>\n",
       "      <td>4LJu4GTf</td>\n",
       "      <td>0.381474</td>\n",
       "    </tr>\n",
       "    <tr>\n",
       "      <th>2</th>\n",
       "      <td>kLuAAN3s</td>\n",
       "      <td>-0.491240</td>\n",
       "    </tr>\n",
       "    <tr>\n",
       "      <th>3</th>\n",
       "      <td>OxQHvaNu</td>\n",
       "      <td>-0.590162</td>\n",
       "    </tr>\n",
       "    <tr>\n",
       "      <th>4</th>\n",
       "      <td>paQsTa1K</td>\n",
       "      <td>0.123625</td>\n",
       "    </tr>\n",
       "    <tr>\n",
       "      <th>5</th>\n",
       "      <td>7x7uZwPc</td>\n",
       "      <td>0.097686</td>\n",
       "    </tr>\n",
       "    <tr>\n",
       "      <th>6</th>\n",
       "      <td>tiPNVf91</td>\n",
       "      <td>0.217830</td>\n",
       "    </tr>\n",
       "    <tr>\n",
       "      <th>7</th>\n",
       "      <td>OMCMewkC</td>\n",
       "      <td>-0.405423</td>\n",
       "    </tr>\n",
       "    <tr>\n",
       "      <th>8</th>\n",
       "      <td>yCrOWDXH</td>\n",
       "      <td>0.267192</td>\n",
       "    </tr>\n",
       "    <tr>\n",
       "      <th>9</th>\n",
       "      <td>eek3uK7b</td>\n",
       "      <td>0.257826</td>\n",
       "    </tr>\n",
       "    <tr>\n",
       "      <th>10</th>\n",
       "      <td>OouVT4Zr</td>\n",
       "      <td>0.082108</td>\n",
       "    </tr>\n",
       "    <tr>\n",
       "      <th>11</th>\n",
       "      <td>QquqDdRl</td>\n",
       "      <td>-0.067049</td>\n",
       "    </tr>\n",
       "    <tr>\n",
       "      <th>12</th>\n",
       "      <td>1ndpxE65</td>\n",
       "      <td>3.107230</td>\n",
       "    </tr>\n",
       "    <tr>\n",
       "      <th>13</th>\n",
       "      <td>Ah6sXXfa</td>\n",
       "      <td>-0.557377</td>\n",
       "    </tr>\n",
       "    <tr>\n",
       "      <th>14</th>\n",
       "      <td>MRwaez8q</td>\n",
       "      <td>-0.069961</td>\n",
       "    </tr>\n",
       "    <tr>\n",
       "      <th>15</th>\n",
       "      <td>xoC8SVZ6</td>\n",
       "      <td>0.189173</td>\n",
       "    </tr>\n",
       "    <tr>\n",
       "      <th>16</th>\n",
       "      <td>6Q7KBAoT</td>\n",
       "      <td>0.044359</td>\n",
       "    </tr>\n",
       "    <tr>\n",
       "      <th>17</th>\n",
       "      <td>plGMM2CY</td>\n",
       "      <td>0.666523</td>\n",
       "    </tr>\n",
       "    <tr>\n",
       "      <th>18</th>\n",
       "      <td>AJ47SPyN</td>\n",
       "      <td>0.353198</td>\n",
       "    </tr>\n",
       "    <tr>\n",
       "      <th>19</th>\n",
       "      <td>RucPRBbc</td>\n",
       "      <td>-0.089093</td>\n",
       "    </tr>\n",
       "  </tbody>\n",
       "</table>\n",
       "</div>"
      ],
      "text/plain": [
       "    point_id    target\n",
       "0   F4lXR1cG -0.335979\n",
       "1   4LJu4GTf  0.381474\n",
       "2   kLuAAN3s -0.491240\n",
       "3   OxQHvaNu -0.590162\n",
       "4   paQsTa1K  0.123625\n",
       "5   7x7uZwPc  0.097686\n",
       "6   tiPNVf91  0.217830\n",
       "7   OMCMewkC -0.405423\n",
       "8   yCrOWDXH  0.267192\n",
       "9   eek3uK7b  0.257826\n",
       "10  OouVT4Zr  0.082108\n",
       "11  QquqDdRl -0.067049\n",
       "12  1ndpxE65  3.107230\n",
       "13  Ah6sXXfa -0.557377\n",
       "14  MRwaez8q -0.069961\n",
       "15  xoC8SVZ6  0.189173\n",
       "16  6Q7KBAoT  0.044359\n",
       "17  plGMM2CY  0.666523\n",
       "18  AJ47SPyN  0.353198\n",
       "19  RucPRBbc -0.089093"
      ]
     },
     "execution_count": 81,
     "metadata": {},
     "output_type": "execute_result"
    }
   ],
   "source": [
    "my_submission = pd.read_csv('data/MaryIzo_submission_3.csv')\n",
    "my_submission[:20]"
   ]
  },
  {
   "cell_type": "code",
   "execution_count": null,
   "metadata": {},
   "outputs": [],
   "source": []
  }
 ],
 "metadata": {
  "kernelspec": {
   "display_name": "Python 3",
   "language": "python",
   "name": "python3"
  },
  "language_info": {
   "codemirror_mode": {
    "name": "ipython",
    "version": 3
   },
   "file_extension": ".py",
   "mimetype": "text/x-python",
   "name": "python",
   "nbconvert_exporter": "python",
   "pygments_lexer": "ipython3",
   "version": "3.7.9"
  }
 },
 "nbformat": 4,
 "nbformat_minor": 4
}
