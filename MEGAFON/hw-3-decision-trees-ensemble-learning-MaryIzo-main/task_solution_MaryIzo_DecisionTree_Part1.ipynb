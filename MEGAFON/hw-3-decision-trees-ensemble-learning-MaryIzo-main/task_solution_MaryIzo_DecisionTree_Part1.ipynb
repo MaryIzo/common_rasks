{
 "cells": [
  {
   "cell_type": "markdown",
   "metadata": {},
   "source": [
    "# Homework 3. \n",
    "# I. Decision Tree."
   ]
  },
  {
   "cell_type": "markdown",
   "metadata": {
    "id": "Q93E5pIdPetF",
    "toc": true
   },
   "source": [
    "<h1>Table of Contents<span class=\"tocSkip\"></span></h1>\n",
    "<div class=\"toc\"><ul class=\"toc-item\"><li><span><a href=\"#Подготовка-данных\" data-toc-modified-id=\"Подготовка-данных-1\"><span class=\"toc-item-num\">1&nbsp;&nbsp;</span>Подготовка данных</a></span></li><li><span><a href=\"#Разделение-на-train,-test\" data-toc-modified-id=\"Разделение-на-train,-test-2\"><span class=\"toc-item-num\">2&nbsp;&nbsp;</span>Разделение на train, test</a></span></li><li><span><a href=\"#Fit-MyDecisionTree\" data-toc-modified-id=\"Fit-MyDecisionTree-3\"><span class=\"toc-item-num\">3&nbsp;&nbsp;</span>Fit MyDecisionTree</a></span></li><li><span><a href=\"#Predict-MyDecisionTree\" data-toc-modified-id=\"Predict-MyDecisionTree-4\"><span class=\"toc-item-num\">4&nbsp;&nbsp;</span>Predict MyDecisionTree</a></span></li><li><span><a href=\"#Train-with-sklearn\" data-toc-modified-id=\"Train-with-sklearn-5\"><span class=\"toc-item-num\">5&nbsp;&nbsp;</span>Train with sklearn</a></span></li><li><span><a href=\"#Сравнение-метрик\" data-toc-modified-id=\"Сравнение-метрик-6\"><span class=\"toc-item-num\">6&nbsp;&nbsp;</span>Сравнение метрик</a></span></li></ul></div>"
   ]
  },
  {
   "cell_type": "markdown",
   "metadata": {
    "id": "WstusuN4PetG"
   },
   "source": [
    "# Задание  \n",
    "\n",
    "1. Напишите свой алгоритм построения дерева решений для задачи бинарной классификации.  \n",
    "    - критерий информативности - Энтропия Шеннона\n",
    "    - критерии останова - максимальная глубина, кол-во элементов в листе, прирост энтропии < x\n",
    "2. Сравните результат работы своего алгоритма с sklearn    "
   ]
  },
  {
   "cell_type": "markdown",
   "metadata": {
    "id": "Ia9gyoKsPetI"
   },
   "source": [
    "## Подготовка данных\n",
    "Рассмотрим задачу \"Титаник\" https://www.kaggle.com/c/titanic/data. Необходимо предсказать выживет пассажир или нет."
   ]
  },
  {
   "cell_type": "code",
   "execution_count": 1,
   "metadata": {
    "id": "1ieX27epPetK"
   },
   "outputs": [],
   "source": [
    "import numpy as np\n",
    "import pandas as pd\n",
    "\n",
    "from sklearn.metrics import roc_auc_score, accuracy_score, confusion_matrix "
   ]
  },
  {
   "cell_type": "code",
   "execution_count": 2,
   "metadata": {
    "id": "RqAcv2K0PetQ"
   },
   "outputs": [],
   "source": [
    "# считаем данные из файла в pandas DataFrame\n",
    "df = pd.read_csv(\"train.csv\")\n",
    "\n",
    "# зафиксируем целевую переменную и удалим ее из данных\n",
    "y = df['Survived']\n",
    "df.drop('Survived', axis=1, inplace=True)"
   ]
  },
  {
   "cell_type": "code",
   "execution_count": 3,
   "metadata": {
    "id": "DiLLm5CfPetV"
   },
   "outputs": [],
   "source": [
    "# удалим признаки PassengerId, Name, Ticket и Cabin из данных\n",
    "df.drop(['PassengerId', 'Name', 'Ticket', 'Cabin'], axis=1, inplace=True)\n",
    "\n",
    "# заполним пропуски в признаке Age обучающей выборки медианным значением\n",
    "df['Age'].fillna(df['Age'].median(), inplace=True)\n",
    "\n",
    "#заполним пропуски в признаке Embarked обучающей выборки самыми частыми значениями этого признака\n",
    "df['Embarked'].fillna(df['Embarked'].value_counts().idxmax(), inplace=True)\n",
    "\n",
    "#заменим категориальные признаки, используя One-Hot-Encoding\n",
    "categorical = ['Pclass', 'Sex', 'SibSp', 'Parch', 'Embarked']\n",
    "df = pd.concat([df, pd.get_dummies(df[categorical], columns=categorical, drop_first=True)],axis=1)\n",
    "\n",
    "df.drop(categorical, axis=1, inplace=True)"
   ]
  },
  {
   "cell_type": "code",
   "execution_count": 4,
   "metadata": {
    "id": "wdiCsMyMPeta",
    "scrolled": true
   },
   "outputs": [
    {
     "data": {
      "text/html": [
       "<div>\n",
       "<style scoped>\n",
       "    .dataframe tbody tr th:only-of-type {\n",
       "        vertical-align: middle;\n",
       "    }\n",
       "\n",
       "    .dataframe tbody tr th {\n",
       "        vertical-align: top;\n",
       "    }\n",
       "\n",
       "    .dataframe thead th {\n",
       "        text-align: right;\n",
       "    }\n",
       "</style>\n",
       "<table border=\"1\" class=\"dataframe\">\n",
       "  <thead>\n",
       "    <tr style=\"text-align: right;\">\n",
       "      <th></th>\n",
       "      <th>Age</th>\n",
       "      <th>Fare</th>\n",
       "      <th>Pclass_2</th>\n",
       "      <th>Pclass_3</th>\n",
       "      <th>Sex_male</th>\n",
       "      <th>SibSp_1</th>\n",
       "      <th>SibSp_2</th>\n",
       "      <th>SibSp_3</th>\n",
       "      <th>SibSp_4</th>\n",
       "      <th>SibSp_5</th>\n",
       "      <th>SibSp_8</th>\n",
       "      <th>Parch_1</th>\n",
       "      <th>Parch_2</th>\n",
       "      <th>Parch_3</th>\n",
       "      <th>Parch_4</th>\n",
       "      <th>Parch_5</th>\n",
       "      <th>Parch_6</th>\n",
       "      <th>Embarked_Q</th>\n",
       "      <th>Embarked_S</th>\n",
       "    </tr>\n",
       "  </thead>\n",
       "  <tbody>\n",
       "    <tr>\n",
       "      <th>0</th>\n",
       "      <td>22.0</td>\n",
       "      <td>7.2500</td>\n",
       "      <td>0</td>\n",
       "      <td>1</td>\n",
       "      <td>1</td>\n",
       "      <td>1</td>\n",
       "      <td>0</td>\n",
       "      <td>0</td>\n",
       "      <td>0</td>\n",
       "      <td>0</td>\n",
       "      <td>0</td>\n",
       "      <td>0</td>\n",
       "      <td>0</td>\n",
       "      <td>0</td>\n",
       "      <td>0</td>\n",
       "      <td>0</td>\n",
       "      <td>0</td>\n",
       "      <td>0</td>\n",
       "      <td>1</td>\n",
       "    </tr>\n",
       "    <tr>\n",
       "      <th>1</th>\n",
       "      <td>38.0</td>\n",
       "      <td>71.2833</td>\n",
       "      <td>0</td>\n",
       "      <td>0</td>\n",
       "      <td>0</td>\n",
       "      <td>1</td>\n",
       "      <td>0</td>\n",
       "      <td>0</td>\n",
       "      <td>0</td>\n",
       "      <td>0</td>\n",
       "      <td>0</td>\n",
       "      <td>0</td>\n",
       "      <td>0</td>\n",
       "      <td>0</td>\n",
       "      <td>0</td>\n",
       "      <td>0</td>\n",
       "      <td>0</td>\n",
       "      <td>0</td>\n",
       "      <td>0</td>\n",
       "    </tr>\n",
       "    <tr>\n",
       "      <th>2</th>\n",
       "      <td>26.0</td>\n",
       "      <td>7.9250</td>\n",
       "      <td>0</td>\n",
       "      <td>1</td>\n",
       "      <td>0</td>\n",
       "      <td>0</td>\n",
       "      <td>0</td>\n",
       "      <td>0</td>\n",
       "      <td>0</td>\n",
       "      <td>0</td>\n",
       "      <td>0</td>\n",
       "      <td>0</td>\n",
       "      <td>0</td>\n",
       "      <td>0</td>\n",
       "      <td>0</td>\n",
       "      <td>0</td>\n",
       "      <td>0</td>\n",
       "      <td>0</td>\n",
       "      <td>1</td>\n",
       "    </tr>\n",
       "    <tr>\n",
       "      <th>3</th>\n",
       "      <td>35.0</td>\n",
       "      <td>53.1000</td>\n",
       "      <td>0</td>\n",
       "      <td>0</td>\n",
       "      <td>0</td>\n",
       "      <td>1</td>\n",
       "      <td>0</td>\n",
       "      <td>0</td>\n",
       "      <td>0</td>\n",
       "      <td>0</td>\n",
       "      <td>0</td>\n",
       "      <td>0</td>\n",
       "      <td>0</td>\n",
       "      <td>0</td>\n",
       "      <td>0</td>\n",
       "      <td>0</td>\n",
       "      <td>0</td>\n",
       "      <td>0</td>\n",
       "      <td>1</td>\n",
       "    </tr>\n",
       "    <tr>\n",
       "      <th>4</th>\n",
       "      <td>35.0</td>\n",
       "      <td>8.0500</td>\n",
       "      <td>0</td>\n",
       "      <td>1</td>\n",
       "      <td>1</td>\n",
       "      <td>0</td>\n",
       "      <td>0</td>\n",
       "      <td>0</td>\n",
       "      <td>0</td>\n",
       "      <td>0</td>\n",
       "      <td>0</td>\n",
       "      <td>0</td>\n",
       "      <td>0</td>\n",
       "      <td>0</td>\n",
       "      <td>0</td>\n",
       "      <td>0</td>\n",
       "      <td>0</td>\n",
       "      <td>0</td>\n",
       "      <td>1</td>\n",
       "    </tr>\n",
       "  </tbody>\n",
       "</table>\n",
       "</div>"
      ],
      "text/plain": [
       "    Age     Fare  Pclass_2  Pclass_3  Sex_male  SibSp_1  SibSp_2  SibSp_3  \\\n",
       "0  22.0   7.2500         0         1         1        1        0        0   \n",
       "1  38.0  71.2833         0         0         0        1        0        0   \n",
       "2  26.0   7.9250         0         1         0        0        0        0   \n",
       "3  35.0  53.1000         0         0         0        1        0        0   \n",
       "4  35.0   8.0500         0         1         1        0        0        0   \n",
       "\n",
       "   SibSp_4  SibSp_5  SibSp_8  Parch_1  Parch_2  Parch_3  Parch_4  Parch_5  \\\n",
       "0        0        0        0        0        0        0        0        0   \n",
       "1        0        0        0        0        0        0        0        0   \n",
       "2        0        0        0        0        0        0        0        0   \n",
       "3        0        0        0        0        0        0        0        0   \n",
       "4        0        0        0        0        0        0        0        0   \n",
       "\n",
       "   Parch_6  Embarked_Q  Embarked_S  \n",
       "0        0           0           1  \n",
       "1        0           0           0  \n",
       "2        0           0           1  \n",
       "3        0           0           1  \n",
       "4        0           0           1  "
      ]
     },
     "execution_count": 4,
     "metadata": {},
     "output_type": "execute_result"
    }
   ],
   "source": [
    "df.head()"
   ]
  },
  {
   "cell_type": "markdown",
   "metadata": {
    "id": "gc6pS7ysPetf"
   },
   "source": [
    "## Разделение на train, test"
   ]
  },
  {
   "cell_type": "code",
   "execution_count": 5,
   "metadata": {
    "id": "NFgjTbFaPetg"
   },
   "outputs": [],
   "source": [
    "from sklearn.model_selection import train_test_split\n",
    "\n",
    "X_train, X_test, y_train, y_test = train_test_split(df, y, test_size = 0.1, random_state = 13)"
   ]
  },
  {
   "cell_type": "code",
   "execution_count": 6,
   "metadata": {
    "id": "Pi2vrBpTPetk"
   },
   "outputs": [
    {
     "name": "stdout",
     "output_type": "stream",
     "text": [
      "Train: 801\n",
      "Test: 90\n"
     ]
    }
   ],
   "source": [
    "print ('Train: ' + str(len(X_train)))\n",
    "print ('Test: ' + str(len(X_test)))"
   ]
  },
  {
   "cell_type": "code",
   "execution_count": 7,
   "metadata": {},
   "outputs": [
    {
     "name": "stdout",
     "output_type": "stream",
     "text": [
      "248\n",
      "2\n"
     ]
    }
   ],
   "source": [
    "print(len(df['Fare'].value_counts()) )\n",
    "print( len(df['Pclass_2'].value_counts()) )"
   ]
  },
  {
   "cell_type": "markdown",
   "metadata": {
    "id": "LAwFQ_ozPetp"
   },
   "source": [
    "## Fit MyDecisionTree  \n",
    "Напишите свою функцию построения дерева.\n",
    "\n",
    "Структуру дерева можно задать, например, словарем следующего вида:  \n",
    "```python\n",
    "{'feature_name': 'Age', # название фичи \n",
    "'threshold': 20, # порог разбиения\n",
    "'left': 0,  # ссылка на левое поддерево, задан доминирующий класс\n",
    "'right': 1} # ссылка на правое поддерево, задан доминирующий класс\n",
    "```"
   ]
  },
  {
   "cell_type": "code",
   "execution_count": 8,
   "metadata": {},
   "outputs": [],
   "source": [
    "def get_target(target):\n",
    "    \"\"\"\n",
    "        Функция ищет доминирующий класс во входном DataFrame\n",
    "        Input - DataFrame\n",
    "        Output - 0 или 1\n",
    "        \n",
    "        Например, в исходных данных 490 нулей и 311 единиц.\n",
    "        Функция должна вернуть 0.\n",
    "    \"\"\" \n",
    "    x = target.value_counts().index[0]\n",
    "    return x"
   ]
  },
  {
   "cell_type": "code",
   "execution_count": 9,
   "metadata": {},
   "outputs": [],
   "source": [
    "def get_entropy(data):\n",
    "    \"\"\"\n",
    "        Функция считает энтропию заданного множества.\n",
    "        Input - таргет (тип - pandas.core.series.Series)\n",
    "        \n",
    "        Output - значение энтропии (тип - float)\n",
    "    \"\"\"\n",
    "    # YOUR CODE HERE\n",
    "    \n",
    "    target = data['target'].copy() # Подсчет вероятностей для разных классов в target\n",
    "    \n",
    "    entropy = 0 \n",
    "    \n",
    "    p = np.unique(target, return_counts = True)[1]/len(target)\n",
    "    entropy = (-(p*np.log2(p))).sum()\n",
    "    \n",
    "    return entropy"
   ]
  },
  {
   "cell_type": "code",
   "execution_count": 10,
   "metadata": {},
   "outputs": [],
   "source": [
    "def feature_separation(X, f_name):\n",
    "    \"\"\"\n",
    "        Функция ищет лучшее разбиение для данной фичи.\n",
    "        Input - df: DataFrame с 2 атрибутами (feature, target), \n",
    "                f_name: название фичи (для которой ищем разбиение)\n",
    "                \n",
    "        Output - прирост энтропии, порог разбиения\n",
    "    \"\"\"\n",
    "    \n",
    "    # YOUR CODE HERE\n",
    "    \n",
    "    # Сортируем датафрейм\n",
    "    data = X.sort_values(f_name, ascending = False)\n",
    "    # Находим энтропию всей выборки\n",
    "    s_0 = get_entropy(X)\n",
    "    \n",
    "    delta_entropy = 0\n",
    "    threshold = 0\n",
    "    \n",
    "    n = len(X['target'])\n",
    "    \n",
    "    # Ищем разбиение с максимальным значением энтропии\n",
    "    for i in range(n - 1):\n",
    "        s_1 = data[:i + 1]\n",
    "        s_2 = data[i + 1:]\n",
    "        n_1 = len(data.target[:i + 1])\n",
    "        n_2 = len(data.target[i + 1:])\n",
    "            \n",
    "        IG = s_0 - (n_1/n*get_entropy(s_1) + n_2/n*get_entropy(s_2) )\n",
    "        \n",
    "        # Случай, когда признак не бинарный\n",
    "        if len(data[f_name].value_counts())!=2:\n",
    "            if IG > delta_entropy:\n",
    "                delta_entropy = IG\n",
    "                threshold = data[f_name][i+1:i+2].values[0]\n",
    "        \n",
    "        # Когда признак бинарный нужно делить по границе нулей и единиц.\n",
    "        elif (data[f_name][i:i+1].values[0] > data[f_name][i+1:i+2].values[0]) :\n",
    "                delta_entropy = IG\n",
    "                threshold = 0          \n",
    "            \n",
    "    print(f' Max {f_name}  thr =   {threshold}    entr = {round(delta_entropy, 4)}' )\n",
    "    return (delta_entropy, threshold)"
   ]
  },
  {
   "cell_type": "code",
   "execution_count": 11,
   "metadata": {},
   "outputs": [],
   "source": [
    "def best_separation(X):\n",
    "    \"\"\"\n",
    "        Функция выбирает фичу для разбиения, которая даст максимальный прирост энтропии.\n",
    "        Input - исходный DataFrame\n",
    "        \n",
    "        Output - словарь следующиего вида\n",
    "        {'feature_name': sep_feature, 'threshold': threshold, 'groups': groups}\n",
    "        \n",
    "            sep_feature - название фичи для разбиения (тип - String)\n",
    "            threshold - порог разбиения (тип - float)\n",
    "            groups - tuple из двух поддеревьев (df_left, df_right)\n",
    "    \"\"\"\n",
    "    \n",
    "    sep_feature, threshold, groups = None, None, X\n",
    "    all_features = [c for c in df.columns.tolist() if c != 'target']\n",
    "\n",
    "    max_entropy = 0\n",
    "    \n",
    "    for f in all_features:\n",
    "        # YOUR CODE HERE\n",
    "        # Определяем границу разбиения\n",
    "        entropy, thr = feature_separation(X, f)\n",
    "        \n",
    "        if ( max_entropy < entropy):\n",
    "            max_entropy = entropy\n",
    "            # Разделяем по границе не бинарного признака\n",
    "            if len(X[f].value_counts())!=2:\n",
    "                sep_feature, threshold, groups = f, thr, (X[X[f] < thr], X[X[f]>=thr ])\n",
    "            else:\n",
    "                sep_feature, threshold, groups = f, thr, (X[X[f] == thr], X[X[f] != thr ])\n",
    "            \n",
    "    print('best feature = ', sep_feature)\n",
    "    return {'feature_name': sep_feature, 'threshold': threshold, 'groups': groups}"
   ]
  },
  {
   "cell_type": "code",
   "execution_count": 12,
   "metadata": {
    "id": "b2hZgn-TPetq"
   },
   "outputs": [],
   "source": [
    "def split(node, max_depth, depth):\n",
    "    \"\"\"\n",
    "        Рекурсивная функция для построения дерева\n",
    "        Input - node: корень дерева\n",
    "                max_depth: максимальная глубина дерева\n",
    "                depth: текущая глубина дерева\n",
    "    \"\"\"\n",
    "    \n",
    "    df_left, df_right = node['groups']\n",
    "    sep_feature = node['feature_name']\n",
    "    del(node['groups'])\n",
    "    \n",
    "    # проверяем, есть ли разбиение\n",
    "    if len(df_left) == 0 or len(df_right) == 0:\n",
    "        node['left'] = node['right'] = None  # YOUR CODE HERE\n",
    "        return\n",
    "    \n",
    "    # проверяем максимальную глубину\n",
    "    if depth >= max_depth:\n",
    "        # Ставим самые частые значения\n",
    "        node['left'], node['right'] = get_target(df_left['target']), get_target(df_right['target'])\n",
    "        return\n",
    "    \n",
    "    else:\n",
    "        \n",
    "        \n",
    "        node['left'] = best_separation(df_left) #ставим ссылку на поддерево\n",
    "        split(node['left'], max_depth, depth + 1)\n",
    "        \n",
    "\n",
    "        node['right'] = best_separation(df_right) # ставим ссылку на поддерево\n",
    "        split(node['right'], max_depth, depth + 1)"
   ]
  },
  {
   "cell_type": "code",
   "execution_count": 13,
   "metadata": {},
   "outputs": [],
   "source": [
    "def fit_my_tree(X, max_depth):\n",
    "    \"\"\"\n",
    "        Функция для обучения дерева\n",
    "        Input - df: DataFrame\n",
    "                max_depth: максимальная глубина дерева\n",
    "    \"\"\"    \n",
    "    root = best_separation(X)\n",
    "    split(root, max_depth, 1)\n",
    "\n",
    "    return root"
   ]
  },
  {
   "cell_type": "code",
   "execution_count": 19,
   "metadata": {},
   "outputs": [
    {
     "name": "stdout",
     "output_type": "stream",
     "text": [
      " Max Age  thr =   6.0    entr = 0.0149\n",
      " Max Fare  thr =   15.5    entr = 0.0618\n",
      " Max Pclass_2  thr =   0    entr = 0.0031\n",
      " Max Pclass_3  thr =   0    entr = 0.0692\n",
      " Max Sex_male  thr =   0    entr = 0.212\n",
      " Max SibSp_1  thr =   0    entr = 0.0224\n",
      " Max SibSp_2  thr =   0    entr = 0.0009\n",
      " Max SibSp_3  thr =   0    entr = 0.0018\n",
      " Max SibSp_4  thr =   0    entr = 0.0039\n",
      " Max SibSp_5  thr =   0    entr = 0.0036\n",
      " Max SibSp_8  thr =   0    entr = 0.0062\n",
      " Max Parch_1  thr =   0    entr = 0.0107\n",
      " Max Parch_2  thr =   0    entr = 0.0026\n",
      " Max Parch_3  thr =   0    entr = 0.002\n",
      " Max Parch_4  thr =   0    entr = 0.0036\n",
      " Max Parch_5  thr =   0    entr = 0.0007\n",
      " Max Parch_6  thr =   0    entr = 0.0078\n",
      " Max Embarked_Q  thr =   0    entr = 0.0004\n",
      " Max Embarked_S  thr =   0    entr = 0.0205\n",
      "best feature =  Sex_male\n",
      " Max Age  thr =   28.0    entr = 0.0211\n",
      " Max Fare  thr =   46.9    entr = 0.0753\n",
      " Max Pclass_2  thr =   0    entr = 0.033\n",
      " Max Pclass_3  thr =   0    entr = 0.1867\n",
      " Max Sex_male  thr =   0    entr = 0.0135\n",
      " Max SibSp_1  thr =   0    entr = 0.0002\n",
      " Max SibSp_2  thr =   0    entr = 0.0015\n",
      " Max SibSp_3  thr =   0    entr = 0.0231\n",
      " Max SibSp_4  thr =   0    entr = 0.0117\n",
      " Max SibSp_5  thr =   0    entr = 0.007\n",
      " Max SibSp_8  thr =   0    entr = 0.0212\n",
      " Max Parch_1  thr =   0    entr = 0.0001\n",
      " Max Parch_2  thr =   0    entr = 0.0164\n",
      " Max Parch_3  thr =   0    entr = 0.0046\n",
      " Max Parch_4  thr =   0    entr = 0.0141\n",
      " Max Parch_5  thr =   0    entr = 0.0111\n",
      " Max Parch_6  thr =   0    entr = 0.0135\n",
      " Max Embarked_Q  thr =   0    entr = 0.0002\n",
      " Max Embarked_S  thr =   0    entr = 0.0235\n",
      "best feature =  Pclass_3\n",
      " Max Age  thr =   2.0    entr = 0.0147\n",
      " Max Fare  thr =   28.7125    entr = 0.0277\n",
      " Max Pclass_2  thr =   0    entr = 0.0117\n",
      " Max Pclass_3  thr =   0    entr = 0.0125\n",
      " Max Sex_male  thr =   0    entr = 0.0125\n",
      " Max SibSp_1  thr =   0    entr = 0.0052\n",
      " Max SibSp_2  thr =   0    entr = 0.0035\n",
      " Max SibSp_3  thr =   0    entr = 0.0018\n",
      " Max SibSp_4  thr =   0    entr = 0.0125\n",
      " Max SibSp_5  thr =   0    entr = 0.0125\n",
      " Max SibSp_8  thr =   0    entr = 0.0125\n",
      " Max Parch_1  thr =   0    entr = 0.0028\n",
      " Max Parch_2  thr =   0    entr = 0.0046\n",
      " Max Parch_3  thr =   0    entr = 0.0012\n",
      " Max Parch_4  thr =   0    entr = 0.0125\n",
      " Max Parch_5  thr =   0    entr = 0.0125\n",
      " Max Parch_6  thr =   0    entr = 0.0125\n",
      " Max Embarked_Q  thr =   0    entr = 0.0012\n",
      " Max Embarked_S  thr =   0    entr = 0.011\n",
      "best feature =  Fare\n",
      " Max Age  thr =   24.0    entr = 0.0494\n",
      " Max Fare  thr =   26.0    entr = 0.0196\n",
      " Max Pclass_2  thr =   0    entr = 0.0109\n",
      " Max Pclass_3  thr =   0    entr = 0.0609\n",
      " Max Sex_male  thr =   0    entr = 0.0609\n",
      " Max SibSp_1  thr =   0    entr = 0.0195\n",
      " Max SibSp_2  thr =   0    entr = 0.0053\n",
      " Max SibSp_3  thr =   0    entr = 0.0026\n",
      " Max SibSp_4  thr =   0    entr = 0.0609\n",
      " Max SibSp_5  thr =   0    entr = 0.0609\n",
      " Max SibSp_8  thr =   0    entr = 0.0609\n",
      " Max Parch_1  thr =   0    entr = 0.0002\n",
      " Max Parch_2  thr =   0    entr = 0.0109\n",
      " Max Parch_3  thr =   0    entr = 0.0053\n",
      " Max Parch_4  thr =   0    entr = 0.0609\n",
      " Max Parch_5  thr =   0    entr = 0.0609\n",
      " Max Parch_6  thr =   0    entr = 0.0609\n",
      " Max Embarked_Q  thr =   0    entr = 0.0026\n",
      " Max Embarked_S  thr =   0    entr = 0.0137\n",
      "best feature =  Pclass_3\n",
      " Max Age  thr =   2.0    entr = 0.0561\n",
      " Max Fare  thr =   28.7125    entr = 0.0561\n",
      " Max Pclass_2  thr =   0    entr = 0.0043\n",
      " Max Pclass_3  thr =   0    entr = 0.0193\n",
      " Max Sex_male  thr =   0    entr = 0.0193\n",
      " Max SibSp_1  thr =   0    entr = 0.0041\n",
      " Max SibSp_2  thr =   0    entr = 0.0021\n",
      " Max SibSp_3  thr =   0    entr = 0.001\n",
      " Max SibSp_4  thr =   0    entr = 0.0193\n",
      " Max SibSp_5  thr =   0    entr = 0.0193\n",
      " Max SibSp_8  thr =   0    entr = 0.0193\n",
      " Max Parch_1  thr =   0    entr = 0.0115\n",
      " Max Parch_2  thr =   0    entr = 0.0356\n",
      " Max Parch_3  thr =   0    entr = 0.0193\n",
      " Max Parch_4  thr =   0    entr = 0.0193\n",
      " Max Parch_5  thr =   0    entr = 0.0193\n",
      " Max Parch_6  thr =   0    entr = 0.0193\n",
      " Max Embarked_Q  thr =   0    entr = 0.0005\n",
      " Max Embarked_S  thr =   0    entr = 0.0019\n",
      "best feature =  Age\n",
      " Max Age  thr =   38.0    entr = 0.0389\n",
      " Max Fare  thr =   24.15    entr = 0.1006\n",
      " Max Pclass_2  thr =   0    entr = 0.0245\n",
      " Max Pclass_3  thr =   1    entr = 0.0245\n",
      " Max Sex_male  thr =   0    entr = 0.0245\n",
      " Max SibSp_1  thr =   0    entr = 0.0033\n",
      " Max SibSp_2  thr =   0    entr = 0.0035\n",
      " Max SibSp_3  thr =   0    entr = 0.0585\n",
      " Max SibSp_4  thr =   0    entr = 0.0045\n",
      " Max SibSp_5  thr =   0    entr = 0.0081\n",
      " Max SibSp_8  thr =   0    entr = 0.0245\n",
      " Max Parch_1  thr =   0    entr = 0.0019\n",
      " Max Parch_2  thr =   0    entr = 0.017\n",
      " Max Parch_3  thr =   0    entr = 0.0075\n",
      " Max Parch_4  thr =   0    entr = 0.0162\n",
      " Max Parch_5  thr =   0    entr = 0.0066\n",
      " Max Parch_6  thr =   0    entr = 0.0245\n",
      " Max Embarked_Q  thr =   0    entr = 0.0562\n",
      " Max Embarked_S  thr =   0    entr = 0.0947\n",
      "best feature =  Fare\n",
      " Max Age  thr =   28.0    entr = 0.0752\n",
      " Max Fare  thr =   7.8792    entr = 0.0478\n",
      " Max Pclass_2  thr =   0    entr = 0.0368\n",
      " Max Pclass_3  thr =   1    entr = 0.0368\n",
      " Max Sex_male  thr =   0    entr = 0.0368\n",
      " Max SibSp_1  thr =   0    entr = 0.0207\n",
      " Max SibSp_2  thr =   0    entr = 0.0071\n",
      " Max SibSp_3  thr =   0    entr = 0.0243\n",
      " Max SibSp_4  thr =   0    entr = 0.0072\n",
      " Max SibSp_5  thr =   0    entr = 0.0368\n",
      " Max SibSp_8  thr =   0    entr = 0.0368\n",
      " Max Parch_1  thr =   0    entr = 0.0025\n",
      " Max Parch_2  thr =   0    entr = 0.0039\n",
      " Max Parch_3  thr =   0    entr = 0.0072\n",
      " Max Parch_4  thr =   0    entr = 0.0121\n",
      " Max Parch_5  thr =   0    entr = 0.0368\n",
      " Max Parch_6  thr =   0    entr = 0.0368\n",
      " Max Embarked_Q  thr =   0    entr = 0.0385\n",
      " Max Embarked_S  thr =   0    entr = 0.0578\n",
      "best feature =  Age\n",
      " Max Age  thr =   26.0    entr = 0.054\n",
      " Max Fare  thr =   7.75    entr = 0.0659\n",
      " Max Pclass_2  thr =   0    entr = 0.1298\n",
      " Max Pclass_3  thr =   1    entr = 0.1298\n",
      " Max Sex_male  thr =   0    entr = 0.1298\n",
      " Max SibSp_1  thr =   0    entr = 0.0293\n",
      " Max SibSp_2  thr =   0    entr = 0.005\n",
      " Max SibSp_3  thr =   0    entr = 0.0496\n",
      " Max SibSp_4  thr =   0    entr = 0.013\n",
      " Max SibSp_5  thr =   0    entr = 0.1298\n",
      " Max SibSp_8  thr =   0    entr = 0.1298\n",
      " Max Parch_1  thr =   0    entr = 0.0005\n",
      " Max Parch_2  thr =   0    entr = 0.0683\n",
      " Max Parch_3  thr =   0    entr = 0.013\n",
      " Max Parch_4  thr =   0    entr = 0.1298\n",
      " Max Parch_5  thr =   0    entr = 0.1298\n",
      " Max Parch_6  thr =   0    entr = 0.1298\n",
      " Max Embarked_Q  thr =   0    entr = 0.0051\n",
      " Max Embarked_S  thr =   0    entr = 0.0355\n",
      "best feature =  Pclass_2\n",
      " Max Age  thr =   31.0    entr = 0.0772\n",
      " Max Fare  thr =   7.8792    entr = 0.0796\n",
      " Max Pclass_2  thr =   0    entr = 0.0542\n",
      " Max Pclass_3  thr =   1    entr = 0.0542\n",
      " Max Sex_male  thr =   0    entr = 0.0542\n",
      " Max SibSp_1  thr =   0    entr = 0.0127\n",
      " Max SibSp_2  thr =   0    entr = 0.0162\n",
      " Max SibSp_3  thr =   0    entr = 0.0542\n",
      " Max SibSp_4  thr =   0    entr = 0.0542\n",
      " Max SibSp_5  thr =   0    entr = 0.0542\n",
      " Max SibSp_8  thr =   0    entr = 0.0542\n",
      " Max Parch_1  thr =   0    entr = 0.0091\n",
      " Max Parch_2  thr =   0    entr = 0.009\n",
      " Max Parch_3  thr =   0    entr = 0.0542\n",
      " Max Parch_4  thr =   0    entr = 0.0242\n",
      " Max Parch_5  thr =   0    entr = 0.0542\n",
      " Max Parch_6  thr =   0    entr = 0.0542\n",
      " Max Embarked_Q  thr =   0    entr = 0.115\n",
      " Max Embarked_S  thr =   0    entr = 0.1134\n",
      "best feature =  Embarked_Q\n",
      " Max Age  thr =   28.0    entr = 0.0789\n",
      " Max Fare  thr =   24.15    entr = 0.1415\n",
      " Max Pclass_2  thr =   0    entr = 0.152\n",
      " Max Pclass_3  thr =   1    entr = 0.152\n",
      " Max Sex_male  thr =   0    entr = 0.152\n",
      " Max SibSp_1  thr =   0    entr = 0.1396\n",
      " Max SibSp_2  thr =   0    entr = 0.0099\n",
      " Max SibSp_3  thr =   0    entr = 0.0551\n",
      " Max SibSp_4  thr =   0    entr = 0.0068\n",
      " Max SibSp_5  thr =   0    entr = 0.0099\n",
      " Max SibSp_8  thr =   0    entr = 0.0312\n",
      " Max Parch_1  thr =   0    entr = 0.0312\n",
      " Max Parch_2  thr =   0    entr = 0.0308\n",
      " Max Parch_3  thr =   0    entr = 0.152\n",
      " Max Parch_4  thr =   0    entr = 0.0099\n",
      " Max Parch_5  thr =   0    entr = 0.0154\n",
      " Max Parch_6  thr =   0    entr = 0.152\n",
      " Max Embarked_Q  thr =   0    entr = 0.0574\n",
      " Max Embarked_S  thr =   0    entr = 0.0574\n",
      "best feature =  Pclass_2\n",
      " Max Age  thr =   12.0    entr = 0.0383\n",
      " Max Fare  thr =   26.25    entr = 0.0401\n",
      " Max Pclass_2  thr =   0    entr = 0.0017\n"
     ]
    },
    {
     "name": "stdout",
     "output_type": "stream",
     "text": [
      " Max Pclass_3  thr =   0    entr = 0.0199\n",
      " Max Sex_male  thr =   1    entr = 0.0179\n",
      " Max SibSp_1  thr =   0    entr = 0.0175\n",
      " Max SibSp_2  thr =   0    entr = 0.0\n",
      " Max SibSp_3  thr =   0    entr = 0.0024\n",
      " Max SibSp_4  thr =   0    entr = 0.0017\n",
      " Max SibSp_5  thr =   0    entr = 0.0018\n",
      " Max SibSp_8  thr =   0    entr = 0.0024\n",
      " Max Parch_1  thr =   0    entr = 0.0077\n",
      " Max Parch_2  thr =   0    entr = 0.0058\n",
      " Max Parch_3  thr =   0    entr = 0.0006\n",
      " Max Parch_4  thr =   0    entr = 0.0012\n",
      " Max Parch_5  thr =   0    entr = 0.0006\n",
      " Max Parch_6  thr =   0    entr = 0.0179\n",
      " Max Embarked_Q  thr =   0    entr = 0.0044\n",
      " Max Embarked_S  thr =   0    entr = 0.004\n",
      "best feature =  Fare\n",
      " Max Age  thr =   12.0    entr = 0.079\n",
      " Max Fare  thr =   7.8958    entr = 0.0134\n",
      " Max Pclass_2  thr =   0    entr = 0.0001\n",
      " Max Pclass_3  thr =   0    entr = 0.0002\n",
      " Max Sex_male  thr =   1    entr = 0.0187\n",
      " Max SibSp_1  thr =   0    entr = 0.0221\n",
      " Max SibSp_2  thr =   0    entr = 0.0001\n",
      " Max SibSp_3  thr =   0    entr = 0.0011\n",
      " Max SibSp_4  thr =   0    entr = 0.0187\n",
      " Max SibSp_5  thr =   0    entr = 0.0187\n",
      " Max SibSp_8  thr =   0    entr = 0.0187\n",
      " Max Parch_1  thr =   0    entr = 0.0325\n",
      " Max Parch_2  thr =   0    entr = 0.0044\n",
      " Max Parch_3  thr =   0    entr = 0.0187\n",
      " Max Parch_4  thr =   0    entr = 0.0187\n",
      " Max Parch_5  thr =   0    entr = 0.0187\n",
      " Max Parch_6  thr =   0    entr = 0.0187\n",
      " Max Embarked_Q  thr =   0    entr = 0.0005\n",
      " Max Embarked_S  thr =   0    entr = 0.0026\n",
      "best feature =  Age\n",
      " Max Age  thr =   9.0    entr = 0.2374\n",
      " Max Fare  thr =   18.75    entr = 0.1956\n",
      " Max Pclass_2  thr =   0    entr = 0.0903\n",
      " Max Pclass_3  thr =   0    entr = 0.0903\n",
      " Max Sex_male  thr =   1    entr = 0.1546\n",
      " Max SibSp_1  thr =   0    entr = 0.2459\n",
      " Max SibSp_2  thr =   0    entr = 0.1546\n",
      " Max SibSp_3  thr =   0    entr = 0.2374\n",
      " Max SibSp_4  thr =   0    entr = 0.1546\n",
      " Max SibSp_5  thr =   0    entr = 0.1546\n",
      " Max SibSp_8  thr =   0    entr = 0.1546\n",
      " Max Parch_1  thr =   0    entr = 0.0467\n",
      " Max Parch_2  thr =   0    entr = 0.0406\n",
      " Max Parch_3  thr =   0    entr = 0.1546\n",
      " Max Parch_4  thr =   0    entr = 0.1546\n",
      " Max Parch_5  thr =   0    entr = 0.1546\n",
      " Max Parch_6  thr =   0    entr = 0.1546\n",
      " Max Embarked_Q  thr =   0    entr = 0.1546\n",
      " Max Embarked_S  thr =   0    entr = 0.0937\n",
      "best feature =  SibSp_1\n",
      " Max Age  thr =   9.0    entr = 0.3219\n",
      " Max Fare  thr =   12.475    entr = 0.42\n",
      " Max Pclass_2  thr =   0    entr = 0.971\n",
      " Max Pclass_3  thr =   1    entr = 0.971\n",
      " Max Sex_male  thr =   1    entr = 0.971\n",
      " Max SibSp_1  thr =   0    entr = 0.971\n",
      " Max SibSp_2  thr =   0    entr = 0.971\n",
      " Max SibSp_3  thr =   0    entr = 0.3219\n",
      " Max SibSp_4  thr =   0    entr = 0.971\n",
      " Max SibSp_5  thr =   0    entr = 0.971\n",
      " Max SibSp_8  thr =   0    entr = 0.971\n",
      " Max Parch_1  thr =   0    entr = 0.02\n",
      " Max Parch_2  thr =   0    entr = 0.171\n",
      " Max Parch_3  thr =   0    entr = 0.971\n",
      " Max Parch_4  thr =   0    entr = 0.971\n",
      " Max Parch_5  thr =   0    entr = 0.971\n",
      " Max Parch_6  thr =   0    entr = 0.971\n",
      " Max Embarked_Q  thr =   0    entr = 0.971\n",
      " Max Embarked_S  thr =   0    entr = 0.02\n",
      "best feature =  Pclass_2\n",
      " Max Age  thr =   0    entr = 0\n",
      " Max Fare  thr =   0    entr = 0\n",
      " Max Pclass_2  thr =   0    entr = 0.0\n",
      " Max Pclass_3  thr =   0    entr = 0.0\n",
      " Max Sex_male  thr =   0    entr = 0\n",
      " Max SibSp_1  thr =   0    entr = 0\n",
      " Max SibSp_2  thr =   0    entr = 0\n",
      " Max SibSp_3  thr =   0    entr = 0\n",
      " Max SibSp_4  thr =   0    entr = 0\n",
      " Max SibSp_5  thr =   0    entr = 0\n",
      " Max SibSp_8  thr =   0    entr = 0\n",
      " Max Parch_1  thr =   0    entr = 0.0\n",
      " Max Parch_2  thr =   0    entr = 0.0\n",
      " Max Parch_3  thr =   0    entr = 0\n",
      " Max Parch_4  thr =   0    entr = 0\n",
      " Max Parch_5  thr =   0    entr = 0\n",
      " Max Parch_6  thr =   0    entr = 0\n",
      " Max Embarked_Q  thr =   0    entr = 0\n",
      " Max Embarked_S  thr =   0    entr = 0\n",
      "best feature =  None\n"
     ]
    },
    {
     "ename": "ValueError",
     "evalue": "too many values to unpack (expected 2)",
     "output_type": "error",
     "traceback": [
      "\u001b[1;31m---------------------------------------------------------------------------\u001b[0m",
      "\u001b[1;31mValueError\u001b[0m                                Traceback (most recent call last)",
      "\u001b[1;32m<ipython-input-19-de54b1401bda>\u001b[0m in \u001b[0;36m<module>\u001b[1;34m\u001b[0m\n\u001b[0;32m      1\u001b[0m \u001b[0mX\u001b[0m \u001b[1;33m=\u001b[0m \u001b[0mX_train\u001b[0m\u001b[1;33m.\u001b[0m\u001b[0mcopy\u001b[0m\u001b[1;33m(\u001b[0m\u001b[1;33m)\u001b[0m\u001b[1;33m\u001b[0m\u001b[1;33m\u001b[0m\u001b[0m\n\u001b[0;32m      2\u001b[0m \u001b[0mX\u001b[0m\u001b[1;33m[\u001b[0m\u001b[1;34m'target'\u001b[0m\u001b[1;33m]\u001b[0m\u001b[1;33m=\u001b[0m\u001b[0my_train\u001b[0m \u001b[1;31m# Возвращаем на место таргет\u001b[0m\u001b[1;33m\u001b[0m\u001b[1;33m\u001b[0m\u001b[0m\n\u001b[1;32m----> 3\u001b[1;33m \u001b[0mmy_tree\u001b[0m \u001b[1;33m=\u001b[0m \u001b[0mfit_my_tree\u001b[0m\u001b[1;33m(\u001b[0m\u001b[0mX\u001b[0m\u001b[1;33m,\u001b[0m \u001b[1;36m5\u001b[0m\u001b[1;33m)\u001b[0m\u001b[1;33m\u001b[0m\u001b[1;33m\u001b[0m\u001b[0m\n\u001b[0m",
      "\u001b[1;32m<ipython-input-13-4bf8b5cebc5e>\u001b[0m in \u001b[0;36mfit_my_tree\u001b[1;34m(X, max_depth)\u001b[0m\n\u001b[0;32m      6\u001b[0m     \"\"\"    \n\u001b[0;32m      7\u001b[0m     \u001b[0mroot\u001b[0m \u001b[1;33m=\u001b[0m \u001b[0mbest_separation\u001b[0m\u001b[1;33m(\u001b[0m\u001b[0mX\u001b[0m\u001b[1;33m)\u001b[0m\u001b[1;33m\u001b[0m\u001b[1;33m\u001b[0m\u001b[0m\n\u001b[1;32m----> 8\u001b[1;33m     \u001b[0msplit\u001b[0m\u001b[1;33m(\u001b[0m\u001b[0mroot\u001b[0m\u001b[1;33m,\u001b[0m \u001b[0mmax_depth\u001b[0m\u001b[1;33m,\u001b[0m \u001b[1;36m1\u001b[0m\u001b[1;33m)\u001b[0m\u001b[1;33m\u001b[0m\u001b[1;33m\u001b[0m\u001b[0m\n\u001b[0m\u001b[0;32m      9\u001b[0m \u001b[1;33m\u001b[0m\u001b[0m\n\u001b[0;32m     10\u001b[0m     \u001b[1;32mreturn\u001b[0m \u001b[0mroot\u001b[0m\u001b[1;33m\u001b[0m\u001b[1;33m\u001b[0m\u001b[0m\n",
      "\u001b[1;32m<ipython-input-12-b949c9fe101c>\u001b[0m in \u001b[0;36msplit\u001b[1;34m(node, max_depth, depth)\u001b[0m\n\u001b[0;32m     30\u001b[0m \u001b[1;33m\u001b[0m\u001b[0m\n\u001b[0;32m     31\u001b[0m         \u001b[0mnode\u001b[0m\u001b[1;33m[\u001b[0m\u001b[1;34m'right'\u001b[0m\u001b[1;33m]\u001b[0m \u001b[1;33m=\u001b[0m \u001b[0mbest_separation\u001b[0m\u001b[1;33m(\u001b[0m\u001b[0mdf_right\u001b[0m\u001b[1;33m)\u001b[0m \u001b[1;31m# ставим ссылку на поддерево\u001b[0m\u001b[1;33m\u001b[0m\u001b[1;33m\u001b[0m\u001b[0m\n\u001b[1;32m---> 32\u001b[1;33m         \u001b[0msplit\u001b[0m\u001b[1;33m(\u001b[0m\u001b[0mnode\u001b[0m\u001b[1;33m[\u001b[0m\u001b[1;34m'right'\u001b[0m\u001b[1;33m]\u001b[0m\u001b[1;33m,\u001b[0m \u001b[0mmax_depth\u001b[0m\u001b[1;33m,\u001b[0m \u001b[0mdepth\u001b[0m \u001b[1;33m+\u001b[0m \u001b[1;36m1\u001b[0m\u001b[1;33m)\u001b[0m\u001b[1;33m\u001b[0m\u001b[1;33m\u001b[0m\u001b[0m\n\u001b[0m",
      "\u001b[1;32m<ipython-input-12-b949c9fe101c>\u001b[0m in \u001b[0;36msplit\u001b[1;34m(node, max_depth, depth)\u001b[0m\n\u001b[0;32m     26\u001b[0m \u001b[1;33m\u001b[0m\u001b[0m\n\u001b[0;32m     27\u001b[0m         \u001b[0mnode\u001b[0m\u001b[1;33m[\u001b[0m\u001b[1;34m'left'\u001b[0m\u001b[1;33m]\u001b[0m \u001b[1;33m=\u001b[0m \u001b[0mbest_separation\u001b[0m\u001b[1;33m(\u001b[0m\u001b[0mdf_left\u001b[0m\u001b[1;33m)\u001b[0m \u001b[1;31m#ставим ссылку на поддерево\u001b[0m\u001b[1;33m\u001b[0m\u001b[1;33m\u001b[0m\u001b[0m\n\u001b[1;32m---> 28\u001b[1;33m         \u001b[0msplit\u001b[0m\u001b[1;33m(\u001b[0m\u001b[0mnode\u001b[0m\u001b[1;33m[\u001b[0m\u001b[1;34m'left'\u001b[0m\u001b[1;33m]\u001b[0m\u001b[1;33m,\u001b[0m \u001b[0mmax_depth\u001b[0m\u001b[1;33m,\u001b[0m \u001b[0mdepth\u001b[0m \u001b[1;33m+\u001b[0m \u001b[1;36m1\u001b[0m\u001b[1;33m)\u001b[0m\u001b[1;33m\u001b[0m\u001b[1;33m\u001b[0m\u001b[0m\n\u001b[0m\u001b[0;32m     29\u001b[0m \u001b[1;33m\u001b[0m\u001b[0m\n\u001b[0;32m     30\u001b[0m \u001b[1;33m\u001b[0m\u001b[0m\n",
      "\u001b[1;32m<ipython-input-12-b949c9fe101c>\u001b[0m in \u001b[0;36msplit\u001b[1;34m(node, max_depth, depth)\u001b[0m\n\u001b[0;32m     26\u001b[0m \u001b[1;33m\u001b[0m\u001b[0m\n\u001b[0;32m     27\u001b[0m         \u001b[0mnode\u001b[0m\u001b[1;33m[\u001b[0m\u001b[1;34m'left'\u001b[0m\u001b[1;33m]\u001b[0m \u001b[1;33m=\u001b[0m \u001b[0mbest_separation\u001b[0m\u001b[1;33m(\u001b[0m\u001b[0mdf_left\u001b[0m\u001b[1;33m)\u001b[0m \u001b[1;31m#ставим ссылку на поддерево\u001b[0m\u001b[1;33m\u001b[0m\u001b[1;33m\u001b[0m\u001b[0m\n\u001b[1;32m---> 28\u001b[1;33m         \u001b[0msplit\u001b[0m\u001b[1;33m(\u001b[0m\u001b[0mnode\u001b[0m\u001b[1;33m[\u001b[0m\u001b[1;34m'left'\u001b[0m\u001b[1;33m]\u001b[0m\u001b[1;33m,\u001b[0m \u001b[0mmax_depth\u001b[0m\u001b[1;33m,\u001b[0m \u001b[0mdepth\u001b[0m \u001b[1;33m+\u001b[0m \u001b[1;36m1\u001b[0m\u001b[1;33m)\u001b[0m\u001b[1;33m\u001b[0m\u001b[1;33m\u001b[0m\u001b[0m\n\u001b[0m\u001b[0;32m     29\u001b[0m \u001b[1;33m\u001b[0m\u001b[0m\n\u001b[0;32m     30\u001b[0m \u001b[1;33m\u001b[0m\u001b[0m\n",
      "\u001b[1;32m<ipython-input-12-b949c9fe101c>\u001b[0m in \u001b[0;36msplit\u001b[1;34m(node, max_depth, depth)\u001b[0m\n\u001b[0;32m     30\u001b[0m \u001b[1;33m\u001b[0m\u001b[0m\n\u001b[0;32m     31\u001b[0m         \u001b[0mnode\u001b[0m\u001b[1;33m[\u001b[0m\u001b[1;34m'right'\u001b[0m\u001b[1;33m]\u001b[0m \u001b[1;33m=\u001b[0m \u001b[0mbest_separation\u001b[0m\u001b[1;33m(\u001b[0m\u001b[0mdf_right\u001b[0m\u001b[1;33m)\u001b[0m \u001b[1;31m# ставим ссылку на поддерево\u001b[0m\u001b[1;33m\u001b[0m\u001b[1;33m\u001b[0m\u001b[0m\n\u001b[1;32m---> 32\u001b[1;33m         \u001b[0msplit\u001b[0m\u001b[1;33m(\u001b[0m\u001b[0mnode\u001b[0m\u001b[1;33m[\u001b[0m\u001b[1;34m'right'\u001b[0m\u001b[1;33m]\u001b[0m\u001b[1;33m,\u001b[0m \u001b[0mmax_depth\u001b[0m\u001b[1;33m,\u001b[0m \u001b[0mdepth\u001b[0m \u001b[1;33m+\u001b[0m \u001b[1;36m1\u001b[0m\u001b[1;33m)\u001b[0m\u001b[1;33m\u001b[0m\u001b[1;33m\u001b[0m\u001b[0m\n\u001b[0m",
      "\u001b[1;32m<ipython-input-12-b949c9fe101c>\u001b[0m in \u001b[0;36msplit\u001b[1;34m(node, max_depth, depth)\u001b[0m\n\u001b[0;32m      7\u001b[0m     \"\"\"\n\u001b[0;32m      8\u001b[0m \u001b[1;33m\u001b[0m\u001b[0m\n\u001b[1;32m----> 9\u001b[1;33m     \u001b[0mdf_left\u001b[0m\u001b[1;33m,\u001b[0m \u001b[0mdf_right\u001b[0m \u001b[1;33m=\u001b[0m \u001b[0mnode\u001b[0m\u001b[1;33m[\u001b[0m\u001b[1;34m'groups'\u001b[0m\u001b[1;33m]\u001b[0m\u001b[1;33m\u001b[0m\u001b[1;33m\u001b[0m\u001b[0m\n\u001b[0m\u001b[0;32m     10\u001b[0m     \u001b[0msep_feature\u001b[0m \u001b[1;33m=\u001b[0m \u001b[0mnode\u001b[0m\u001b[1;33m[\u001b[0m\u001b[1;34m'feature_name'\u001b[0m\u001b[1;33m]\u001b[0m\u001b[1;33m\u001b[0m\u001b[1;33m\u001b[0m\u001b[0m\n\u001b[0;32m     11\u001b[0m     \u001b[1;32mdel\u001b[0m\u001b[1;33m(\u001b[0m\u001b[0mnode\u001b[0m\u001b[1;33m[\u001b[0m\u001b[1;34m'groups'\u001b[0m\u001b[1;33m]\u001b[0m\u001b[1;33m)\u001b[0m\u001b[1;33m\u001b[0m\u001b[1;33m\u001b[0m\u001b[0m\n",
      "\u001b[1;31mValueError\u001b[0m: too many values to unpack (expected 2)"
     ]
    }
   ],
   "source": [
    "X = X_train.copy()\n",
    "X['target']=y_train # Возвращаем на место таргет\n",
    "my_tree = fit_my_tree(X, 5)"
   ]
  },
  {
   "cell_type": "markdown",
   "metadata": {
    "id": "StlWI8UQPet1"
   },
   "source": [
    "## Predict MyDecisionTree  "
   ]
  },
  {
   "cell_type": "code",
   "execution_count": 20,
   "metadata": {
    "id": "amdgbKiNPet1"
   },
   "outputs": [],
   "source": [
    "def predict_raw(row, tree):\n",
    "    \"\"\"\n",
    "        Функция предсказывает класс для 1 строки DataFrame.\n",
    "        \n",
    "        Input - row: строка DataFrame\n",
    "                tree: обученное дерево на предыдущем шаге (тип - dict)\n",
    "    \"\"\"    \n",
    "    if row[tree['feature_name']] <= tree['threshold']:\n",
    "        if type(tree['left']) == dict:\n",
    "            return predict_raw(row, tree['left'])\n",
    "        else:\n",
    "            return tree['left']\n",
    "    else:\n",
    "        if type(tree['right']) == dict:\n",
    "            return predict_raw(row, tree['right'])\n",
    "        else:\n",
    "            return tree['right']\n",
    "    \n",
    "    \n",
    "def predict_my_tree(df, tree):\n",
    "    \"\"\"\n",
    "        Функция предсказывает класс для исходного DataFrame.\n",
    "        \n",
    "        Input - df: исходный DataFrame\n",
    "                tree: обученное дерево на предыдущем шаге (тип - dict)\n",
    "                \n",
    "        Output - предсказанные классы (тип - pandas.core.series.Series)\n",
    "    \"\"\"      \n",
    "    predict = pd.Series()   \n",
    "    for index, row in df.iterrows():\n",
    "        prediction = pd.Series(predict_raw(row, my_tree), [index])\n",
    "        predict = predict.append(prediction)    \n",
    "        \n",
    "    return predict"
   ]
  },
  {
   "cell_type": "code",
   "execution_count": 21,
   "metadata": {
    "id": "RTvqVMq5Pet4"
   },
   "outputs": [
    {
     "ename": "NameError",
     "evalue": "name 'my_tree' is not defined",
     "output_type": "error",
     "traceback": [
      "\u001b[1;31m---------------------------------------------------------------------------\u001b[0m",
      "\u001b[1;31mNameError\u001b[0m                                 Traceback (most recent call last)",
      "\u001b[1;32m<ipython-input-21-57523164f333>\u001b[0m in \u001b[0;36m<module>\u001b[1;34m\u001b[0m\n\u001b[1;32m----> 1\u001b[1;33m \u001b[0mmy_pred_test\u001b[0m \u001b[1;33m=\u001b[0m \u001b[0mpredict_my_tree\u001b[0m\u001b[1;33m(\u001b[0m\u001b[0mX_test\u001b[0m\u001b[1;33m,\u001b[0m \u001b[0mmy_tree\u001b[0m\u001b[1;33m)\u001b[0m\u001b[1;33m\u001b[0m\u001b[1;33m\u001b[0m\u001b[0m\n\u001b[0m\u001b[0;32m      2\u001b[0m \u001b[0mmy_pred_train\u001b[0m \u001b[1;33m=\u001b[0m \u001b[0mpredict_my_tree\u001b[0m\u001b[1;33m(\u001b[0m\u001b[0mX_train\u001b[0m\u001b[1;33m,\u001b[0m \u001b[0mmy_tree\u001b[0m\u001b[1;33m)\u001b[0m\u001b[1;33m\u001b[0m\u001b[1;33m\u001b[0m\u001b[0m\n\u001b[0;32m      3\u001b[0m \u001b[0mmy_pred_train\u001b[0m\u001b[1;33m.\u001b[0m\u001b[0mvalue_counts\u001b[0m\u001b[1;33m(\u001b[0m\u001b[1;33m)\u001b[0m\u001b[1;33m\u001b[0m\u001b[1;33m\u001b[0m\u001b[0m\n",
      "\u001b[1;31mNameError\u001b[0m: name 'my_tree' is not defined"
     ]
    }
   ],
   "source": [
    "my_pred_test = predict_my_tree(X_test, my_tree)\n",
    "my_pred_train = predict_my_tree(X_train, my_tree)\n",
    "my_pred_train.value_counts()"
   ]
  },
  {
   "cell_type": "markdown",
   "metadata": {
    "id": "q7ywEJyuPet8"
   },
   "source": [
    "## Train with sklearn \n",
    "\n",
    "Обучите дерево, используя библиотеку sklearn. Задайте те же параметры, что и при обучении своего дерева.  \n",
    "\n",
    "Сравните метрики и попробуйте улучшить ваше дерево."
   ]
  },
  {
   "cell_type": "code",
   "execution_count": 31,
   "metadata": {
    "id": "vHf0AvUaPet9"
   },
   "outputs": [],
   "source": [
    "from sklearn.tree import DecisionTreeClassifier"
   ]
  },
  {
   "cell_type": "code",
   "execution_count": 32,
   "metadata": {
    "id": "DRDjiZtmPeuA"
   },
   "outputs": [],
   "source": [
    "clf_tree = DecisionTreeClassifier(criterion='entropy', max_depth= 5, random_state=0)\n",
    "\n",
    "# обучаем дерево\n",
    "clf_tree.fit(X_train, y_train)\n",
    "\n",
    "# предсказание на тестовой и обучающей выборках\n",
    "y_pred_test = clf_tree.predict(X_test)\n",
    "y_pred_train = clf_tree.predict(X_train)"
   ]
  },
  {
   "cell_type": "code",
   "execution_count": 49,
   "metadata": {
    "id": "sDDlAapiUcyZ"
   },
   "outputs": [
    {
     "data": {
      "image/png": "[encoded data removed]",
      "text/plain": [
       "<Figure size 1200x1200 with 1 Axes>"
      ]
     },
     "metadata": {
      "needs_background": "light"
     },
     "output_type": "display_data"
    }
   ],
   "source": [
    "import matplotlib.pyplot as plt\n",
    "import sklearn.tree as tree\n",
    "#Отрисовать дерево можно вот так:   \n",
    "fig, axes = plt.subplots(nrows = 1,ncols = 1,figsize = (4,4), dpi=300)\n",
    "tree.plot_tree(clf_tree, feature_names = X_train.columns);"
   ]
  },
  {
   "cell_type": "markdown",
   "metadata": {
    "id": "b2VC_9C_PeuD"
   },
   "source": [
    "## Сравнение метрик"
   ]
  },
  {
   "cell_type": "code",
   "execution_count": 38,
   "metadata": {
    "id": "9x70s9LaPeuE",
    "scrolled": true
   },
   "outputs": [],
   "source": [
    "# метрики при обучении, используя библиотеку sklearn\n",
    "skl_roc_train = roc_auc_score(y_train, y_pred_train)\n",
    "skl_roc_test = roc_auc_score(y_test, y_pred_test)\n",
    "\n",
    "# метрики при обучении, используя собственный алгоритм\n",
    "my_roc_train = roc_auc_score(y_train, my_pred_train)\n",
    "my_roc_test = roc_auc_score(y_test, my_pred_test)"
   ]
  },
  {
   "cell_type": "code",
   "execution_count": 40,
   "metadata": {
    "id": "clOhv57YPeuH"
   },
   "outputs": [],
   "source": [
    "assert abs(my_roc_test - 0.6) >= 0.2"
   ]
  },
  {
   "cell_type": "code",
   "execution_count": 39,
   "metadata": {},
   "outputs": [
    {
     "data": {
      "text/plain": [
       "0.8523783488244943"
      ]
     },
     "execution_count": 39,
     "metadata": {},
     "output_type": "execute_result"
    }
   ],
   "source": [
    "my_roc_test"
   ]
  },
  {
   "cell_type": "code",
   "execution_count": 41,
   "metadata": {},
   "outputs": [
    {
     "data": {
      "text/plain": [
       "0.8261344997266267"
      ]
     },
     "execution_count": 41,
     "metadata": {},
     "output_type": "execute_result"
    }
   ],
   "source": [
    "skl_roc_test"
   ]
  },
  {
   "cell_type": "code",
   "execution_count": 42,
   "metadata": {},
   "outputs": [
    {
     "data": {
      "text/plain": [
       "31"
      ]
     },
     "execution_count": 42,
     "metadata": {},
     "output_type": "execute_result"
    }
   ],
   "source": [
    "y_test.sum()"
   ]
  },
  {
   "cell_type": "code",
   "execution_count": 45,
   "metadata": {},
   "outputs": [
    {
     "data": {
      "text/plain": [
       "37"
      ]
     },
     "execution_count": 45,
     "metadata": {},
     "output_type": "execute_result"
    }
   ],
   "source": [
    "y_pred_test.sum()"
   ]
  },
  {
   "cell_type": "code",
   "execution_count": 46,
   "metadata": {},
   "outputs": [
    {
     "data": {
      "text/plain": [
       "31"
      ]
     },
     "execution_count": 46,
     "metadata": {},
     "output_type": "execute_result"
    }
   ],
   "source": [
    "my_pred_test.sum()"
   ]
  },
  {
   "cell_type": "code",
   "execution_count": null,
   "metadata": {},
   "outputs": [],
   "source": []
  },
  {
   "cell_type": "code",
   "execution_count": null,
   "metadata": {},
   "outputs": [],
   "source": []
  }
 ],
 "metadata": {
  "kernelspec": {
   "display_name": "Python 3",
   "language": "python",
   "name": "python3"
  },
  "language_info": {
   "codemirror_mode": {
    "name": "ipython",
    "version": 3
   },
   "file_extension": ".py",
   "mimetype": "text/x-python",
   "name": "python",
   "nbconvert_exporter": "python",
   "pygments_lexer": "ipython3",
   "version": "3.7.9"
  }
 },
 "nbformat": 4,
 "nbformat_minor": 4
}
