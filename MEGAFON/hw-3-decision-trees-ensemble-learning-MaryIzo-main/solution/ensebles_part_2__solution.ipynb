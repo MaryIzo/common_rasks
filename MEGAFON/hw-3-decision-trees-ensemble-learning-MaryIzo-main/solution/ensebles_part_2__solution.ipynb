{
 "cells": [
  {
   "cell_type": "markdown",
   "metadata": {},
   "source": [
    "# II. Ensembles\n",
    "\n",
    "В задачах нужно корректно реализовать функции, чтобы проходили тесты. "
   ]
  },
  {
   "cell_type": "markdown",
   "metadata": {
    "colab_type": "text",
    "id": "Jvls9GQxWK5O"
   },
   "source": [
    "## 1. Bootstrap."
   ]
  },
  {
   "cell_type": "markdown",
   "metadata": {
    "colab_type": "text",
    "id": "9POKe84XWK6A"
   },
   "source": [
    "### Алгоритм Bootstrap \n",
    "* Равномерно возьмем из выборки $N$ объектов **с возвращением**. То есть мы хотим сгенерировать псевдовыборку, в которой могут повторятся элементы из исходной выборки. \n",
    "\n",
    "* Обозначим новую выборку через $X_1$. Повторяя процедуру $B$ раз, сгенерируем $M$ подвыборок $X_1, \\dots, X_B$. \n",
    "\n",
    "* Посчитаем статистику T от каждой выборки $(T(X_1), \\ldots, T(X_n))$\n",
    "\n",
    "* Найдем итоговую статистику $T(X) = \\frac{1}{B}\\sum^{B}_{i}T(X_i)$\n",
    "\n",
    "На вход массив чисел $X$ и число бутстрепных выборок $B$. Необходимо реализовать свой бутстреп и найти матожидание и стандартную ошибку у бутстрепных выборок.\n"
   ]
  },
  {
   "cell_type": "markdown",
   "metadata": {
    "colab_type": "text",
    "id": "oNTDVikgWK6F"
   },
   "source": [
    "### TASK"
   ]
  },
  {
   "cell_type": "code",
   "execution_count": 2,
   "metadata": {},
   "outputs": [],
   "source": [
    "import numpy as np\n",
    "from scipy.stats import sem # ищет SE среднего\n",
    "\n",
    "def get_stats(X: np.array, B:int)->tuple:\n",
    "    def get_bootstrap_samples(data, n_samples):\n",
    "        indices = np.random.randint(0, len(data), (n_samples, len(data)))\n",
    "        samples = data[indices]\n",
    "        return samples\n",
    "\n",
    "    bootstrap = np.array(get_bootstrap_samples(X, B))\n",
    "\n",
    "\n",
    "    mean = bootstrap.mean(axis=1).mean()\n",
    "    SE  = sem(bootstrap, axis=1).mean()\n",
    "    return mean, SE"
   ]
  },
  {
   "cell_type": "markdown",
   "metadata": {},
   "source": [
    "### Open tests"
   ]
  },
  {
   "cell_type": "code",
   "execution_count": 2,
   "metadata": {},
   "outputs": [],
   "source": [
    "######################################################\n",
    "X = np.array([37,43,38,36,17,40,40,45,41,84])\n",
    "B = 100000\n",
    "\n",
    "mean, se = get_stats(X, B)\n",
    "\n",
    "assert np.abs(mean - 42.1) < 0.05\n",
    "assert np.abs(se - 4.56) < 0.03\n",
    "######################################################"
   ]
  },
  {
   "cell_type": "markdown",
   "metadata": {},
   "source": [
    "# 2. Bagging"
   ]
  },
  {
   "cell_type": "markdown",
   "metadata": {},
   "source": [
    "Необходимо реализовать свой небольшой беггинг на деревьях заданной грубины\n",
    "\n",
    "* бустингом сделать несколько выборок $X_1, \\ldots, X_B$\n",
    "* обучить на этих выборках алгоритмы: $a_1(\\cdot), \\ldots, a_B(\\cdot)$\n",
    "\n",
    "Получить результат беггинга как:\n",
    "$$a(x) = \\frac{1}{B}\\sum_{b=1}^{B}a_b(x)$$\n"
   ]
  },
  {
   "cell_type": "markdown",
   "metadata": {},
   "source": [
    "# TASK"
   ]
  },
  {
   "cell_type": "code",
   "execution_count": 5,
   "metadata": {},
   "outputs": [],
   "source": [
    "import numpy as np\n",
    "import random\n",
    "from sklearn.tree import DecisionTreeRegressor as DTR\n",
    "\n",
    "def _draw_bootstrap_sample(X, y):\n",
    "    sample_indices = np.arange(X.shape[0])\n",
    "    bootstrap_indices = np.random.choice(sample_indices,\n",
    "                                         size=sample_indices.shape[0],\n",
    "                                         replace=True)\n",
    "    return X[bootstrap_indices], y[bootstrap_indices]\n",
    "\n",
    "\n",
    "def bagging(X_train, y_train, X_test, boot_count, depth):\n",
    "    estimators = np.array([DTR(max_depth=depth) for _ in range(boot_count)])\n",
    "    ### ╰( ͡° ͜ʖ ͡° )つ──☆*:YOUR CODE HERE・ﾟ\n",
    "    \n",
    "    all_pred = np.zeros((boot_count, y_test.shape[0]), dtype=np.int)\n",
    "\n",
    "    for i, estimator in enumerate(estimators):\n",
    "        X_boot, y_boot = _draw_bootstrap_sample(X_train, y_train)\n",
    "        pred = estimator.fit(X_boot, y_boot).predict(X_test)\n",
    "        all_pred[i] = pred\n",
    "\n",
    "    y_pred = np.mean(all_pred, axis=0) #average predict for specific point\n",
    "\n",
    "    return y_pred"
   ]
  },
  {
   "cell_type": "code",
   "execution_count": 6,
   "metadata": {},
   "outputs": [
    {
     "name": "stdout",
     "output_type": "stream",
     "text": [
      "14.37613078289474\n",
      "16.349078947368422\n",
      "14.445366282894737\n"
     ]
    }
   ],
   "source": [
    "import numpy as np\n",
    "from numpy.testing import assert_array_equal, assert_array_almost_equal, assert_equal, assert_almost_equal\n",
    "from sklearn.metrics import mean_squared_error\n",
    "from sklearn.model_selection import train_test_split\n",
    "from sklearn.ensemble import RandomForestRegressor\n",
    "\n",
    "######################################################\n",
    "\n",
    "X_train = np.array([[0, 0], [1, 1], [5, 5], [8, 8], [10, 10]])\n",
    "y_train = np.array([0, 1, 5, 8, 10])\n",
    "X_test  = np.array([[4, 4], [6, 6]])\n",
    "y_test  = np.array([4, 6])\n",
    "\n",
    "B = 1000\n",
    "\n",
    "y_pred = bagging(X_train, y_train, X_test, boot_count=B, depth=3)\n",
    "\n",
    "assert_array_almost_equal(y_pred, np.array([4, 6]), decimal=0)\n",
    "\n",
    "######################################################\n",
    "\n",
    "from sklearn.datasets import load_boston\n",
    "X, y = load_boston(return_X_y=True)\n",
    "\n",
    "X_train, X_test, y_train, y_test = train_test_split(X, y,\n",
    "                                                    test_size=0.3,\n",
    "                                                    random_state=123,\n",
    "                                                    shuffle=True)\n",
    "\n",
    "\n",
    "y_pred = bagging(X_train, y_train, X_test, boot_count=200, depth=10)\n",
    "\n",
    "y_dt_pred = DTR().fit(X_train, y_train).predict(X_test)\n",
    "y = RandomForestRegressor().fit(X_train, y_train).predict(X_test)\n",
    "\n",
    "print(mean_squared_error(y, y_test))\n",
    "print(mean_squared_error(y_dt_pred, y_test))\n",
    "print(mean_squared_error(y_pred, y_test))\n",
    "assert mean_squared_error(y_pred, y_test) < 15"
   ]
  },
  {
   "cell_type": "markdown",
   "metadata": {},
   "source": [
    "## 3. X-regression"
   ]
  },
  {
   "cell_type": "markdown",
   "metadata": {},
   "source": [
    "Необходимо найти наилучшие параметры для XGBRegression, обучить модель и вернуть ее. Данные берутся из папки data.\n",
    "\n",
    "Сам гридсерч или нативное исследование необходимо делать вне функции обработки, чтобы не получить TL."
   ]
  },
  {
   "cell_type": "markdown",
   "metadata": {},
   "source": [
    "### TASK"
   ]
  },
  {
   "cell_type": "code",
   "execution_count": 12,
   "metadata": {},
   "outputs": [],
   "source": [
    "def xreg(X_train, y_train):\n",
    "    state_params = {\n",
    "        'silent':1,\n",
    "        'nthread' : 4,\n",
    "        'n_estimators':100,\n",
    "        'max_depth':3,\n",
    "        'learning_rate': 0.015, \n",
    "        'min_child_weight': 7\n",
    "    }\n",
    "    xgb_model  = XGBRegressor(**state_params).fit(X_train, y_train)\n",
    "    return xgb_model"
   ]
  },
  {
   "cell_type": "markdown",
   "metadata": {},
   "source": [
    "### OPEN TESTS"
   ]
  },
  {
   "cell_type": "code",
   "execution_count": null,
   "metadata": {},
   "outputs": [],
   "source": [
    "df = pd.read_csv('data/Financial Distress.csv')\n",
    "\n",
    "X = df.drop('Financial Distress', axis=1)\n",
    "y = df['Financial Distress']\n",
    "\n",
    "X_train, X_test, y_train, y_test = train_test_split(X, y, test_size=0.3, random_state=17)\n",
    "\n",
    "t1 = time.time()\n",
    "xgb_model = xreg(X_train, y_train)\n",
    "t2 = time.time()\n",
    "\n",
    "assert t2 - t1 < 10\n",
    "\n",
    "y_pred = xgb_model.predict(X_test)\n",
    "\n",
    "assert type(xgb_model) == xgboost.sklearn.XGBRegressor\n",
    "assert MSE(y_pred, y_test) < 3\n",
    "print('Well Done')"
   ]
  },
  {
   "cell_type": "markdown",
   "metadata": {},
   "source": [
    "## 4. CatFeatures"
   ]
  },
  {
   "cell_type": "markdown",
   "metadata": {},
   "source": [
    "Обучите модель классификации катбуста на предложенных данных и верните обученную модель. \n",
    "\n",
    "Воспользуйтесь встроенной обработкой категориальных признаков. Не забудьте обработать Nan значения."
   ]
  },
  {
   "cell_type": "markdown",
   "metadata": {},
   "source": [
    "### TASK"
   ]
  },
  {
   "cell_type": "code",
   "execution_count": null,
   "metadata": {},
   "outputs": [],
   "source": [
    "from catboost import Pool\n",
    "\n",
    "def catfeatures(df : pd.DataFrame)-> CatBoostClassifier:\n",
    "    X = df.drop('dep_delayed_15min',axis=1)\n",
    "    y = df['dep_delayed_15min'].map({'N':0, 'Y':1})\n",
    "    \n",
    "    is_cat = (X.dtypes == object)\n",
    "    for feature, feat_is_cat in is_cat.to_dict().items():\n",
    "        if feat_is_cat:\n",
    "            X[feature].fillna(\"NAN\", inplace=True)\n",
    "\n",
    "    cat_features_index = np.where(is_cat)[0]\n",
    "    \n",
    "    train_pool = Pool(data=X, \n",
    "                      label=y, \n",
    "                      cat_features=cat_features_index)\n",
    "    \n",
    "    model = CatBoostClassifier(eval_metric='Accuracy', verbose=False)\n",
    "    model.fit(train_pool, metric_period=100)\n",
    "    \n",
    "    return model"
   ]
  },
  {
   "cell_type": "markdown",
   "metadata": {},
   "source": [
    "### TESTS"
   ]
  },
  {
   "cell_type": "code",
   "execution_count": null,
   "metadata": {},
   "outputs": [],
   "source": [
    "%%time\n",
    "df = pd.read_csv('data/flight_delays_train.csv')\n",
    "df_train = df[:7000]\n",
    "\n",
    "t1 = time.time()\n",
    "model = catfeatures(df_train)\n",
    "t2 = time.time()\n",
    "\n",
    "assert t2 - t1 < 10\n",
    "assert type(model) == catboost.CatBoostClassifier\n",
    "\n",
    "df_test = pd.read_csv('data/flight_catfeature_test.csv')\n",
    "df_test = df_test.drop('Unnamed: 0', axis=1)\n",
    "X_test = df_test.drop('dep_delayed_15min',axis=1)\n",
    "y_test = df_test['dep_delayed_15min']\n",
    "\n",
    "y_pred = model.predict(X_test)\n",
    "assert accuracy_score(y_test, y_pred) > 0.80 \n",
    "print('Well Done')"
   ]
  },
  {
   "cell_type": "markdown",
   "metadata": {},
   "source": [
    "## 5. Производные для регрессии"
   ]
  },
  {
   "cell_type": "markdown",
   "metadata": {},
   "source": [
    "Пусть мы хотим бустить регрессию со стандартной функцией потерь $MSE$:\n",
    "\n",
    "$$\\mathcal{L}(a, x,y) = (a(x_i) - y_i)^2$$\n",
    "\n",
    "Необходимо найти через взятие производных:\n",
    "\n",
    "1. Константный вектор $[f_0]_{i=1}^{N}$\n",
    "$$f_0(x) = \\arg\\min_{ c\\in \\mathbb{R}} \\sum_{i=1}^n \\mathcal{L}(c, y_i)$$ \n",
    "\n",
    "2. Градиенты функции потерь\n",
    "$$g_{i}^{t} = -\\Big[\\frac{\\partial \\mathcal{L}(f_t, x_i, y_i)}{\\partial f_t(x_i)}\\Big]_{i=1}^N$$\n",
    "\n",
    "3. Коэффициенты при композиции \n",
    "$$\\alpha_{t + 1} = \\arg\\min_\\alpha \\sum_{i=1}^N \\mathcal{L}(f_{t}(x_i) + \\alpha b_{t+1}(x_i), y_i)$$"
   ]
  },
  {
   "cell_type": "markdown",
   "metadata": {},
   "source": [
    "### TASK"
   ]
  },
  {
   "cell_type": "code",
   "execution_count": 7,
   "metadata": {},
   "outputs": [],
   "source": [
    "def init(y: np.array) -> float:\n",
    "    f_0 = np.mean(y)\n",
    "    return f_0\n",
    "\n",
    "def grad(f: np.array, y: np.array) -> np.array:\n",
    "    g = 2 * (f - y)\n",
    "    return -g\n",
    "\n",
    "def alpha(f :np.array, b: np.array, y: np.array) -> float:\n",
    "    al = np.sum(b * (f - y)) / np.sum(b*b)\n",
    "    return al"
   ]
  },
  {
   "cell_type": "markdown",
   "metadata": {},
   "source": [
    "### TESTS"
   ]
  },
  {
   "cell_type": "code",
   "execution_count": 8,
   "metadata": {},
   "outputs": [
    {
     "name": "stdout",
     "output_type": "stream",
     "text": [
      "Well Done!\n"
     ]
    }
   ],
   "source": [
    "y = np.array([1, 2, 3])\n",
    "f = np.array([2, 2, 2])\n",
    "b = np.array([0, 2, 4])\n",
    "\n",
    "f_0 = init(y)\n",
    "g = grad(f,y)\n",
    "al = alpha(f,b,y)\n",
    "\n",
    "\n",
    "assert np.abs(f_0 - 2.0)   < 1e-9\n",
    "assert_array_almost_equal(g, np.array([-2, 0, 2]))\n",
    "assert np.abs(al - (-0.2)) < 1e-9\n",
    "######################################################\n",
    "y = np.arange(20)\n",
    "f = np.ones(20) * 10\n",
    "b = np.arange(20) - 1\n",
    "\n",
    "f_0 = init(y)\n",
    "g = grad(f,y)\n",
    "al = alpha(f,b,y)\n",
    "\n",
    "\n",
    "assert np.abs(f_0 - 9.5)   < 1e-2\n",
    "assert_array_almost_equal(g, np.arange(-20,20, 2))\n",
    "assert np.abs(al - (-0.2748)) < 1e-2\n",
    "print('Well Done!')"
   ]
  },
  {
   "cell_type": "markdown",
   "metadata": {},
   "source": [
    "## 6. GradientBoosting"
   ]
  },
  {
   "cell_type": "markdown",
   "metadata": {},
   "source": [
    "Реализуйте градиентный бустинг на решающих деревьях для регрессии с логгированием.Верните модель, которая будет хранить в себе `n_estimatos` обученных деревьев и коэффициенты, чтобы с их помощью потом найти результат предсказания.\n",
    "\n",
    "Также необходимо реализовать логгирование в течение обучения.\n",
    "* `self.estimators` - лист c деревьями\n",
    "* `self.alpha` - лист с коэффициентами альфа\n",
    "* `self.f_list` - лист со значениями комбинаций алгоритма $f_T(x_i) = f_0(x_i) + \\sum_{t=1}^{T}\\alpha_tb_t(x_i)$\n",
    "* `self.g_list` - лист с векторами градиентов на каждой итерации $g_{i}^{t} = -\\Big[\\frac{\\partial \\mathcal{L}(f_t, x_i, y_i)}{\\partial f_t(x_i)}\\Big]_{i=1}^N$\n",
    "* `self.b_list` - лист со значениями базового обучаемого дерева на тренировачной выборке на каждой итерации \n",
    "\n",
    "Примечания:\n",
    "* Обрывать алгоритм не нужно, необходимо обучить все деревья.\n",
    "* Начальный константный вектор из $f_0$ логгировать не нужно, однако не забудьте его добавить в `predict` c нужным количеством объектов!"
   ]
  },
  {
   "cell_type": "markdown",
   "metadata": {},
   "source": [
    "### TASK"
   ]
  },
  {
   "cell_type": "code",
   "execution_count": 9,
   "metadata": {},
   "outputs": [],
   "source": [
    "import numpy as np\n",
    "from sklearn.tree import DecisionTreeClassifier as DTC\n",
    "from sklearn.metrics import mean_squared_error\n",
    "\n",
    "class MyGradBoost():\n",
    "    def __init__(self, n_estimators=10, max_depth=3):\n",
    "        self.n_estimators = n_estimators\n",
    "        self.max_depth = max_depth\n",
    "        self.estimators_ = np.array([DTR(max_depth=self.max_depth) for _ in range(n_estimators)])\n",
    "        self.alpha = []\n",
    "        self.f_list = []\n",
    "        self.b_list = []\n",
    "        self.g_list = []\n",
    "        self.const = None\n",
    "        \n",
    "    def fit(self, X_train: np.array, y_train: np.array): \n",
    "        self.const = np.mean(y_train)\n",
    "        f = np.ones(len(y_train)) * self.const\n",
    "        \n",
    "        for i, estimator in enumerate(self.estimators_):   \n",
    "            g = -2 * (f - y_train)\n",
    "            estimator.fit(X_train, g)\n",
    "            b = estimator.predict(X_train)\n",
    "            al = -np.sum(b * (f - y_train)) / np.sum(b * b)\n",
    "            f = f + al * b\n",
    "            self.alpha.append(al)\n",
    "            self.b_list.append(b)\n",
    "            self.g_list.append(g)\n",
    "            self.f_list.append(f)\n",
    "            \n",
    "        return self\n",
    "        \n",
    "    def predict(self, X_test) -> np.array:\n",
    "        f = np.ones(len(X_test)) * self.const\n",
    "        ar_alpha = np.array(self.alpha)\n",
    "        result = np.array([estimator.predict(X_test) for estimator in self.estimators_])\n",
    "        return f + np.sum(result * ar_alpha[:, np.newaxis], axis=0)\n",
    "    \n",
    "    def score(self, X_test, y_test)-> np.array:\n",
    "        return mean_squared_error(self.predict(X_test), y_test)"
   ]
  },
  {
   "cell_type": "markdown",
   "metadata": {},
   "source": [
    "### TESTS"
   ]
  },
  {
   "cell_type": "code",
   "execution_count": 10,
   "metadata": {},
   "outputs": [
    {
     "name": "stdout",
     "output_type": "stream",
     "text": [
      "Well Done\n"
     ]
    }
   ],
   "source": [
    "n_estimators = 2\n",
    "max_depth=3\n",
    "X_train = np.array([[0], [1], [2], [3], [4]])\n",
    "y_train = np.array([0, 2, 4, 2, 0])\n",
    "X_test  = np.array([[1.2], [2.3]])\n",
    "y_test  = np.array([2.2, 3.7])\n",
    "\n",
    "model = MyGradBoost(n_estimators=n_estimators, max_depth=max_depth).fit(X_train, y_train)\n",
    "assert model.score(X_test, y_test) < 0.2\n",
    "######################################################\n",
    "n_train, n_test, noise = 150, 1000, 0.1\n",
    "# Generate data\n",
    "def f(x):\n",
    "    x = x.ravel()\n",
    "    return np.exp(-x ** 2) + 1.5 * np.exp(-(x - 2) ** 2)\n",
    "\n",
    "def generate(n_samples, noise):\n",
    "    X = np.random.rand(n_samples) * 10 - 5\n",
    "    X = np.sort(X).ravel()\n",
    "    y = np.exp(-X ** 2) + 1.5 * np.exp(-(X - 2) ** 2)\\\n",
    "        + np.random.normal(0.0, noise, n_samples)\n",
    "    X = X.reshape((n_samples, 1))\n",
    "\n",
    "    return X, y\n",
    "\n",
    "X_train, y_train = generate(n_samples=n_train, noise=noise)\n",
    "X_test, y_test = generate(n_samples=n_test, noise=noise)\n",
    "\n",
    "\n",
    "model = MyGradBoost().fit(X_train, y_train)\n",
    "\n",
    "assert model.score(X_test, y_test) < 0.025\n",
    "\n",
    "\n",
    "model = MyGradBoost(n_estimators=100, \n",
    "                    max_depth=1).fit(X_train, y_train)\n",
    "\n",
    "assert model.score(X_test, y_test) < 0.017\n",
    "print('Well Done')"
   ]
  },
  {
   "cell_type": "markdown",
   "metadata": {},
   "source": [
    "# Самопроверка"
   ]
  },
  {
   "cell_type": "code",
   "execution_count": 11,
   "metadata": {},
   "outputs": [
    {
     "data": {
      "image/png": "[encoded data removed]",
      "text/plain": [
       "<Figure size 432x288 with 1 Axes>"
      ]
     },
     "metadata": {
      "needs_background": "light"
     },
     "output_type": "display_data"
    }
   ],
   "source": [
    "import matplotlib.pyplot as plt\n",
    "def predict_and_plot(model, X_test, y_test, title):\n",
    "    y_predict = model.predict(X_test)\n",
    "\n",
    "    plt.plot(X_test, f(X_test), \"b\")\n",
    "    plt.scatter(X_train, y_train, c=\"b\", s=20)\n",
    "    plt.plot(X_test, y_predict, \"g\", lw=2)\n",
    "    plt.xlim([-5, 5])\n",
    "    plt.title(\"{} Loss: {:2f}\".format(title, model.score(X_test, y_test)))\n",
    "    plt.grid()\n",
    "\n",
    "\n",
    "\n",
    "model = MyGradBoost(n_estimators=30, \n",
    "                    max_depth=1).fit(X_train, y_train)\n",
    "\n",
    "ind =  [1,3,5,10,15,30]\n",
    "\n",
    "# GradientBoostingRegressor\n",
    "plt.plot(X_test, f(X_test), \"b\")\n",
    "plt.scatter(X_train, y_train, c=\"b\", s=20)\n",
    "n_est = [1,3,5,10,15,30]\n",
    "f = np.array(model.f_list)\n",
    "for i, n in enumerate(n_est):\n",
    "    colors = ['g', 'r', 'c', 'm', 'y', 'k']\n",
    "    plt.plot(X_train, f[n-1], color=colors[i], label=\"tree count={}\".format(n))\n",
    "\n",
    "plt.xlim([-5, 5])   \n",
    "plt.legend()\n",
    "plt.grid()\n",
    "plt.show()"
   ]
  }
 ],
 "metadata": {
  "kernelspec": {
   "display_name": "Python 3",
   "language": "python",
   "name": "python3"
  },
  "language_info": {
   "codemirror_mode": {
    "name": "ipython",
    "version": 3
   },
   "file_extension": ".py",
   "mimetype": "text/x-python",
   "name": "python",
   "nbconvert_exporter": "python",
   "pygments_lexer": "ipython3",
   "version": "3.7.6"
  }
 },
 "nbformat": 4,
 "nbformat_minor": 4
}
