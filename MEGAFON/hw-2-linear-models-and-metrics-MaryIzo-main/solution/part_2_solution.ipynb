{
 "cells": [
  {
   "cell_type": "code",
   "execution_count": 1,
   "metadata": {
    "ExecuteTime": {
     "end_time": "2020-11-09T19:43:17.521903Z",
     "start_time": "2020-11-09T19:43:15.725374Z"
    }
   },
   "outputs": [],
   "source": [
    "import numpy as np\n",
    "from sklearn import metrics"
   ]
  },
  {
   "cell_type": "code",
   "execution_count": 2,
   "metadata": {
    "ExecuteTime": {
     "end_time": "2020-11-09T19:43:18.190990Z",
     "start_time": "2020-11-09T19:43:18.005369Z"
    }
   },
   "outputs": [],
   "source": [
    "file = np.loadtxt('HW2_labels.txt',  delimiter=',')\n",
    "y_predict, y_true = file[:, :2], file[:, -1]"
   ]
  },
  {
   "cell_type": "code",
   "execution_count": 3,
   "metadata": {
    "ExecuteTime": {
     "end_time": "2020-11-09T19:43:19.340186Z",
     "start_time": "2020-11-09T19:43:19.337941Z"
    }
   },
   "outputs": [],
   "source": [
    "# вставить тело функций студента или импортировать из файла\n",
    "# названия должны строго совпадать. если нет, то можно ставить 0 или дебажить на свое усмотрение\n",
    "#вспомогательные функции\n",
    "\n"
   ]
  },
  {
   "cell_type": "code",
   "execution_count": 4,
   "metadata": {
    "ExecuteTime": {
     "end_time": "2020-11-09T19:43:24.143743Z",
     "start_time": "2020-11-09T19:43:24.141612Z"
    }
   },
   "outputs": [],
   "source": [
    "# accuracy_score\n",
    "assert round(accuracy_score(y_true, y_predict),2) == round(metrics.accuracy_score(y_true=y_true, y_pred=y_predict[:,1]>=.5),2)\n",
    "assert round(accuracy_score(y_true, y_predict, percent=100),2) == round(np.mean(y_true),2)\n",
    "assert round(accuracy_score(y_true, y_predict, percent=30),2) == round(metrics.accuracy_score(y_true=y_true, \n",
    "                                                                                              y_pred=y_predict[:,1] >= np.percentile(y_predict[:,1], 70)),2)\n",
    "assert round(accuracy_score(y_true, y_predict, percent=1),2) == round(metrics.accuracy_score(y_true=y_true, \n",
    "                                                                                             y_pred=y_predict[:,1] >= np.percentile(y_predict[:,1], 99)),2)"
   ]
  },
  {
   "cell_type": "code",
   "execution_count": 5,
   "metadata": {
    "ExecuteTime": {
     "end_time": "2020-11-09T19:43:28.997269Z",
     "start_time": "2020-11-09T19:43:28.995113Z"
    }
   },
   "outputs": [],
   "source": [
    "# precision_score \n",
    "assert round(precision_score(y_true, y_predict),2)== round(metrics.precision_score(y_true=y_true, y_pred=y_predict[:,1]>=.5),2)\n",
    "assert round(precision_score(y_true, y_predict, percent=100),2)== round(metrics.precision_score(y_true=y_true, y_pred=np.ones(y_true.shape)),2)\n",
    "assert round(precision_score(y_true, y_predict, percent=30),2) == round(metrics.precision_score(y_true=y_true,\n",
    "                                                                                                y_pred=y_predict[:,1] >= np.percentile(y_predict[:,1], 70)),2)\n",
    "assert round(precision_score(y_true, y_predict, percent=1),2) == round(metrics.precision_score(y_true=y_true, \n",
    "                                                                                               y_pred=y_predict[:,1] >= np.percentile(y_predict[:,1], 99)),2)"
   ]
  },
  {
   "cell_type": "code",
   "execution_count": 6,
   "metadata": {
    "ExecuteTime": {
     "end_time": "2020-11-09T19:43:33.288228Z",
     "start_time": "2020-11-09T19:43:33.286108Z"
    }
   },
   "outputs": [],
   "source": [
    "# recall_score\n",
    "assert round(recall_score(y_true, y_predict),2)== round(metrics.recall_score(y_true=y_true, y_pred=y_predict[:,1]>=.5),2)\n",
    "assert round(recall_score(y_true, y_predict, percent=100),2)== round(metrics.recall_score(y_true=y_true, y_pred=np.ones(y_true.shape)),2)\n",
    "assert round(recall_score(y_true, y_predict, percent=30),2) == round(metrics.recall_score(y_true=y_true, \n",
    "                                                                                          y_pred=y_predict[:,1] >= np.percentile(y_predict[:,1], 70)),2)\n",
    "assert round(recall_score(y_true, y_predict, percent=1),2) == round(metrics.recall_score(y_true=y_true, \n",
    "                                                                                         y_pred=y_predict[:,1] >= np.percentile(y_predict[:,1], 99)),2)"
   ]
  },
  {
   "cell_type": "code",
   "execution_count": 7,
   "metadata": {
    "ExecuteTime": {
     "end_time": "2020-11-09T19:43:38.106311Z",
     "start_time": "2020-11-09T19:43:38.104003Z"
    }
   },
   "outputs": [],
   "source": [
    "# f1_score\n",
    "assert round(f1_score(y_true, y_predict),2)== round(metrics.f1_score(y_true=y_true, y_pred=y_predict[:,1]>=.5),2)\n",
    "assert round(f1_score(y_true, y_predict, percent=100),2)== round(metrics.f1_score(y_true=y_true, y_pred=np.ones(y_true.shape)),2)\n",
    "assert round(f1_score(y_true, y_predict, percent=30),2) == round(metrics.f1_score(y_true=y_true, \n",
    "                                                                                  y_pred=y_predict[:,1] >= np.percentile(y_predict[:,1], 70)),2)\n",
    "assert round(f1_score(y_true, y_predict, percent=1),2) == round(metrics.f1_score(y_true=y_true, \n",
    "                                                                                 y_pred=y_predict[:,1] >= np.percentile(y_predict[:,1], 99)),2)"
   ]
  },
  {
   "cell_type": "code",
   "execution_count": 8,
   "metadata": {
    "ExecuteTime": {
     "end_time": "2020-11-09T19:43:43.049410Z",
     "start_time": "2020-11-09T19:43:43.047071Z"
    }
   },
   "outputs": [],
   "source": [
    "# lift_score\n",
    "assert round(lift_score(y_true, y_predict),2)== round(np.mean(y_true[y_predict[:,1]>=.5])/np.mean(y_true),2)\n",
    "assert round(lift_score(y_true, y_predict, percent=100),2) == round(np.mean(y_true)/np.mean(y_true),2)\n",
    "assert round(lift_score(y_true, y_predict, percent=30),2) == round(np.mean(y_true[y_predict[:,1] >= np.percentile(y_predict[:,1], 70)])/np.mean(y_true),2)\n",
    "assert round(lift_score(y_true, y_predict, percent=1),2) == round(np.mean(y_true[y_predict[:,1] >= np.percentile(y_predict[:,1], 99)])/np.mean(y_true),2)"
   ]
  },
  {
   "cell_type": "code",
   "execution_count": null,
   "metadata": {},
   "outputs": [],
   "source": []
  }
 ],
 "metadata": {
  "kernelspec": {
   "display_name": "Python 3",
   "language": "python",
   "name": "python3"
  },
  "language_info": {
   "codemirror_mode": {
    "name": "ipython",
    "version": 3
   },
   "file_extension": ".py",
   "mimetype": "text/x-python",
   "name": "python",
   "nbconvert_exporter": "python",
   "pygments_lexer": "ipython3",
   "version": "3.7.3"
  },
  "toc": {
   "base_numbering": 1,
   "nav_menu": {},
   "number_sections": true,
   "sideBar": true,
   "skip_h1_title": false,
   "title_cell": "Table of Contents",
   "title_sidebar": "Contents",
   "toc_cell": false,
   "toc_position": {},
   "toc_section_display": true,
   "toc_window_display": false
  }
 },
 "nbformat": 4,
 "nbformat_minor": 4
}
