{
 "cells": [
  {
   "cell_type": "markdown",
   "metadata": {},
   "source": [
    "# PART 2: Metrics\n",
    "Для второй части ничего из приложения не потребуется.\n",
    "\n",
    "**Постановка задачи**:Необходимо реализовать функции accuracy_score, precision_score, recall_score, lift_score, f1_score (названия функций должны совпадать). \n",
    "Каждая функция должна иметь 3 обязательных параметра def precision_score(y_true, y_predict, percent=None). Добавлять свои параметры нельзя.\n",
    "\n",
    " - Нельзя использовать готовые реализации этих метрик\n",
    " - Если percent=None то метрика должна быть рассчитана по порогу вероятности >=0.5\n",
    " - Если параметр percent принимает значения от 1 до 100 то метрика должна быть рассчитана на соответствующем ТОПе\n",
    " - 1 - верхний 1% выборки\n",
    " - 100 - вся выборка\n",
    " - y_predict - имеет размерность (N_rows; N_classes)\n",
    "\n",
    "**Ожидаемый результат:** файл *.py c реализованными функциями"
   ]
  },
  {
   "cell_type": "code",
   "execution_count": 1,
   "metadata": {},
   "outputs": [],
   "source": [
    "import numpy as np"
   ]
  },
  {
   "cell_type": "code",
   "execution_count": 2,
   "metadata": {},
   "outputs": [
    {
     "name": "stdout",
     "output_type": "stream",
     "text": [
      "(30000, 2) (30000,)\n"
     ]
    }
   ],
   "source": [
    "file = np.loadtxt('HW2_labels.txt', delimiter = ',')\n",
    "y_predict, y_true = file[:,:2], file[:,-1]\n",
    "print(y_predict.shape, y_true.shape)"
   ]
  },
  {
   "cell_type": "markdown",
   "metadata": {},
   "source": [
    "y_predict содержит два столбца:  \n",
    "первый - вероятность принадлежности классу 0, второй - вероятность принадлежности классу 1.  \n",
    "y_predict[:,:1] - вероятность принадлежности классу 0.   \n",
    "y_predict[:,1:] - вероятность принадлежности классу 1."
   ]
  },
  {
   "cell_type": "code",
   "execution_count": 46,
   "metadata": {},
   "outputs": [],
   "source": [
    "def accuracy_score_1(y_true, y_predict, percent=None):\n",
    "    \n",
    "    P_0 = np.hstack(y_predict[:,:1].copy()) # Если вероятность принадлежать 0 < 0.05 относим к единице\n",
    "    P_1 = np.hstack(y_predict[:,1:].copy()) # Если вероятность принадлежать 1 > 0.5 относим к единице\n",
    "    \n",
    "    if (percent == None):\n",
    "        alpha = 0.5 #считаем порог вероятности, если percent = 0\n",
    "    else:\n",
    "        N = int((percent*len(P_1))/100) # считаем чему равен в количестве такой процент топа\n",
    "        \n",
    "        alpha = sorted(P_1, reverse = True)[N-1:N][0] #Как в лекции рассказали, сортируем по вероятности, \n",
    "                                               # выбираем топ percent, и находим порог как самую маленькую в-ть в топе\n",
    "    \n",
    "    # print(alpha)\n",
    "    y = (P_1 > alpha)*1        # переделываем в единички и нули y_predict с учетом порога\n",
    "    \n",
    "    tptn_sum = (((y-y_true)==0)*1).sum()  #tp+tn\n",
    "    \n",
    "    acc = tptn_sum/len(y_true)\n",
    "    \n",
    "    return acc"
   ]
  },
  {
   "cell_type": "code",
   "execution_count": 20,
   "metadata": {},
   "outputs": [],
   "source": [
    "def precision_score(y_true, y_predict, percent=None):\n",
    "    P_0 = np.hstack(y_predict[:,:1].copy()) # Если вероятность принадлежать 0 < 0.05 относим к единице\n",
    "    P_1 = np.hstack(y_predict[:,1:].copy()) # Если вероятность принадлежать 1 > 0.5 относим к единице\n",
    "    \n",
    "    if (percent == None):\n",
    "        alpha = 0.5 #считаем порог вероятности, если percent = 0\n",
    "    else:\n",
    "        N = int((percent*len(P_1))/100) # считаем чему равен в количестве такой процент топа\n",
    "        \n",
    "        alpha = sorted(P_1, reverse = True)[N-1:N][0] #Как в лекции рассказали, сортируем по вероятности, \n",
    "                                               # выбираем топ percent, и находим порог как самую маленькую в-ть в топе\n",
    "    \n",
    "    # print(alpha)\n",
    "    y = (P_1 > alpha)*1        # переделываем в единички и нули y_predict с учетом порога\n",
    "    \n",
    "    \n",
    "    tp = ((((y-y_true)==0)*(y==1))*1).sum()\n",
    "    fp = ((((y-y_true)!=0)*(y==1))*1).sum()\n",
    "    prec = tp/(tp + fp)\n",
    "    \n",
    "    return prec"
   ]
  },
  {
   "cell_type": "code",
   "execution_count": 21,
   "metadata": {},
   "outputs": [],
   "source": [
    "def recall_score(y_true, y_predict, percent=None):\n",
    "    P_0 = np.hstack(y_predict[:,:1].copy()) # Если вероятность принадлежать 0 < 0.05 относим к единице\n",
    "    P_1 = np.hstack(y_predict[:,1:].copy()) # Если вероятность принадлежать 1 > 0.5 относим к единице\n",
    "    \n",
    "    if (percent == None):\n",
    "        alpha = 0.5 #считаем порог вероятности, если percent = 0\n",
    "    else:\n",
    "        N = int((percent*len(P_1))/100) # считаем чему равен в количестве такой процент топа\n",
    "        \n",
    "        alpha = sorted(P_1, reverse = True)[N-1:N][0] #Как в лекции рассказали, сортируем по вероятности, \n",
    "                                               # выбираем топ percent, и находим порог как самую маленькую в-ть в топе\n",
    "    \n",
    "    # print(alpha)\n",
    "    y = (P_1 > alpha)*1        # переделываем в единички и нули y_predict с учетом порога\n",
    "    \n",
    "    \n",
    "    tp = ((((y-y_true)==0)*(y==1))*1).sum()\n",
    "    fn = ((((y-y_true)!=0)*(y==0))*1).sum()\n",
    "    rec = tp/(tp + fn)\n",
    "    \n",
    "    return rec"
   ]
  },
  {
   "cell_type": "code",
   "execution_count": 22,
   "metadata": {},
   "outputs": [],
   "source": [
    "def lift_score(y_true, y_predict, percent=None):\n",
    "    \n",
    "    P_0 = np.hstack(y_predict[:,:1].copy()) # Если вероятность принадлежать 0 < 0.05 относим к единице\n",
    "    P_1 = np.hstack(y_predict[:,1:].copy()) # Если вероятность принадлежать 1 > 0.5 относим к единице\n",
    "    \n",
    "    if (percent == None):\n",
    "        alpha = 0.5 #считаем порог вероятности, если percent = 0\n",
    "    else:\n",
    "        N = int((percent*len(P_1))/100) # считаем чему равен в количестве такой процент топа\n",
    "        \n",
    "        alpha = sorted(P_1, reverse = True)[N-1:N][0] #Как в лекции рассказали, сортируем по вероятности, \n",
    "                                               # выбираем топ percent, и находим порог как самую маленькую в-ть в топе\n",
    "    \n",
    "    # print(alpha)\n",
    "    y = (P_1 > alpha)*1        # переделываем в единички и нули y_predict с учетом порога\n",
    "    \n",
    "    tp = ((((y-y_true)==0)*(y==1))*1).sum() \n",
    "    #tn = ((((y-y_true)==0)*(y==0))*1).sum() \n",
    "    fp = ((((y-y_true)!=0)*(y==1))*1).sum()\n",
    "    fn = ((((y-y_true)!=0)*(y==0))*1).sum()\n",
    "    \n",
    "    prec = tp/(tp + fp)\n",
    "    lift = prec/( (tp+fn)/len(y_true) )\n",
    "    \n",
    "    return lift"
   ]
  },
  {
   "cell_type": "code",
   "execution_count": 85,
   "metadata": {},
   "outputs": [],
   "source": [
    "def f1_score(y_true, y_predict, percent=None):\n",
    "    \n",
    "    P_0 = np.hstack(y_predict[:,:1].copy()) # Если вероятность принадлежать 0 < 0.05 относим к единице\n",
    "    P_1 = np.hstack(y_predict[:,1:].copy()) # Если вероятность принадлежать 1 > 0.5 относим к единице\n",
    "    \n",
    "    if (percent == None):\n",
    "        alpha = 0.5 #считаем порог вероятности, если percent = 0\n",
    "    else:\n",
    "        N = int((percent*len(P_1))/100) # считаем чему равен в количестве такой процент топа\n",
    "        \n",
    "        alpha = sorted(P_1, reverse = True)[N-1:N][0] #Как в лекции рассказали, сортируем по вероятности, \n",
    "                                               # выбираем топ percent, и находим порог как самую маленькую в-ть в топе\n",
    "    \n",
    "    # print(alpha)\n",
    "    y = (P_1 > alpha)*1        # переделываем в единички и нули y_predict с учетом порога\n",
    "    \n",
    "    tp = ((((y-y_true)==0)*(y==1))*1).sum() \n",
    "    tn = ((((y-y_true)==0)*(y==0))*1).sum() \n",
    "    fp = ((((y-y_true)!=0)*(y==1))*1).sum()\n",
    "    fn = ((((y-y_true)!=0)*(y==0))*1).sum()\n",
    "    print('fp = ', fp)\n",
    "    print('fn = ', fn)\n",
    "    print('tp = ', tp)\n",
    "    print('tn = ', tn)\n",
    "    \n",
    "    \n",
    "    prec = tp/(tp + fp)\n",
    "    rec = tp/(tp + fn)\n",
    "    \n",
    "    f1 = 2*( (prec*rec)/(prec+rec) )\n",
    "    \n",
    "    return f1"
   ]
  },
  {
   "cell_type": "code",
   "execution_count": 89,
   "metadata": {},
   "outputs": [
    {
     "data": {
      "text/plain": [
       "0.2624"
      ]
     },
     "execution_count": 89,
     "metadata": {},
     "output_type": "execute_result"
    }
   ],
   "source": [
    "accuracy_score_1(y_true, y_predict, percent=100)"
   ]
  },
  {
   "cell_type": "code",
   "execution_count": 91,
   "metadata": {},
   "outputs": [
    {
     "data": {
      "text/plain": [
       "0.2624"
      ]
     },
     "execution_count": 91,
     "metadata": {},
     "output_type": "execute_result"
    }
   ],
   "source": [
    "accuracy_score_0(y_true, y_predict, percent=100)"
   ]
  },
  {
   "cell_type": "code",
   "execution_count": 35,
   "metadata": {},
   "outputs": [
    {
     "data": {
      "text/plain": [
       "1.0"
      ]
     },
     "execution_count": 35,
     "metadata": {},
     "output_type": "execute_result"
    }
   ],
   "source": [
    "precision_score(y_true, y_predict, percent=None)"
   ]
  },
  {
   "cell_type": "code",
   "execution_count": 32,
   "metadata": {},
   "outputs": [
    {
     "data": {
      "text/plain": [
       "1.0"
      ]
     },
     "execution_count": 32,
     "metadata": {},
     "output_type": "execute_result"
    }
   ],
   "source": [
    "recall_score(y_true, y_predict, percent=None)"
   ]
  },
  {
   "cell_type": "code",
   "execution_count": 37,
   "metadata": {},
   "outputs": [
    {
     "data": {
      "text/plain": [
       "3.811459789099225"
      ]
     },
     "execution_count": 37,
     "metadata": {},
     "output_type": "execute_result"
    }
   ],
   "source": [
    "lift_score(y_true, y_predict, percent=None)"
   ]
  },
  {
   "cell_type": "code",
   "execution_count": 86,
   "metadata": {},
   "outputs": [
    {
     "name": "stdout",
     "output_type": "stream",
     "text": [
      "fp =  19128\n",
      "fn =  0\n",
      "tp =  7871\n",
      "tn =  3001\n"
     ]
    },
    {
     "data": {
      "text/plain": [
       "0.45144823630628045"
      ]
     },
     "execution_count": 86,
     "metadata": {},
     "output_type": "execute_result"
    }
   ],
   "source": [
    "f1_score(y_true, y_predict, percent=90)"
   ]
  },
  {
   "cell_type": "code",
   "execution_count": 90,
   "metadata": {},
   "outputs": [],
   "source": [
    "def accuracy_score_0(y_true, y_predict, percent=None):\n",
    "    \n",
    "    P_0 = np.hstack(y_predict[:,:1].copy()) # Если вероятность принадлежать 0 < 0.05 относим к единице\n",
    "    P_1 = np.hstack(y_predict[:,1:].copy()) # Если вероятность принадлежать 1 > 0.5 относим к единице\n",
    "    \n",
    "    if (percent == None):\n",
    "        alpha = 0.5 #считаем порог вероятности, если percent = 0\n",
    "    else:\n",
    "        N = int((percent*len(P_0))/100) # считаем чему равен в количестве такой процент топа\n",
    "        \n",
    "        #alpha = sorted(P_0, reverse = True)[N-1:N][0] #Как в лекции рассказали, сортируем по вероятности, \n",
    "        alpha = sorted(P_0)[N-1:N][0]\n",
    "                                               # выбираем топ percent, и находим порог как самую маленькую в-ть в топе\n",
    "    \n",
    "    # print(alpha)\n",
    "    y = (P_0 < alpha)*1        # переделываем в единички и нули y_predict с учетом порога\n",
    "    \n",
    "    tptn_sum = (((y-y_true)==0)*1).sum()  #tp+tn\n",
    "    \n",
    "    acc = tptn_sum/len(y_true)\n",
    "    \n",
    "    return acc"
   ]
  },
  {
   "cell_type": "code",
   "execution_count": null,
   "metadata": {},
   "outputs": [],
   "source": []
  }
 ],
 "metadata": {
  "kernelspec": {
   "display_name": "Python 3",
   "language": "python",
   "name": "python3"
  },
  "language_info": {
   "codemirror_mode": {
    "name": "ipython",
    "version": 3
   },
   "file_extension": ".py",
   "mimetype": "text/x-python",
   "name": "python",
   "nbconvert_exporter": "python",
   "pygments_lexer": "ipython3",
   "version": "3.7.9"
  }
 },
 "nbformat": 4,
 "nbformat_minor": 2
}
