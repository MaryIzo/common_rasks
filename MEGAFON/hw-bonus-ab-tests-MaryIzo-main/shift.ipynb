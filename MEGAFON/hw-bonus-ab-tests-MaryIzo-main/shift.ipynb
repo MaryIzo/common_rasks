{
 "cells": [
  {
   "cell_type": "code",
   "execution_count": 1,
   "metadata": {},
   "outputs": [],
   "source": [
    "import numpy as np"
   ]
  },
  {
   "cell_type": "code",
   "execution_count": 52,
   "metadata": {},
   "outputs": [
    {
     "name": "stdout",
     "output_type": "stream",
     "text": [
      "x0 =  0.5193086485239405\n",
      "z =  0.33930864852394055\n",
      "x0 new:  0.17999999999999988\n",
      "min:  -0.3350902630242459\n",
      "max:  0.6440564688386772\n"
     ]
    }
   ],
   "source": [
    "scores_sample = np.random.random_sample(100)\n",
    "x0 = np.mean(scores_sample)\n",
    "print('x0 = ', x0)\n",
    "x1 = 0.18\n",
    "z = x0-x1\n",
    "print('z = ', z)\n",
    "scores_sample_shifted = scores_sample - z\n",
    "print('x0 new: ',  np.mean(scores_sample_shifted))\n",
    "print('min: ',  min(scores_sample_shifted))\n",
    "print('max: ',  max(scores_sample_shifted))"
   ]
  },
  {
   "cell_type": "code",
   "execution_count": 53,
   "metadata": {},
   "outputs": [
    {
     "name": "stdout",
     "output_type": "stream",
     "text": [
      "x0 new:  0.5260603403580134\n"
     ]
    }
   ],
   "source": [
    "max_value = max(scores_sample_shifted)\n",
    "min_value = min(scores_sample_shifted)\n",
    "scores_sample_shifted = (scores_sample_shifted - min_value)/(max_value - min_value)\n",
    "print('x0 new: ',  np.mean(scores_sample_shifted))"
   ]
  },
  {
   "cell_type": "code",
   "execution_count": null,
   "metadata": {},
   "outputs": [],
   "source": []
  }
 ],
 "metadata": {
  "kernelspec": {
   "display_name": "Python 3",
   "language": "python",
   "name": "python3"
  },
  "language_info": {
   "codemirror_mode": {
    "name": "ipython",
    "version": 3
   },
   "file_extension": ".py",
   "mimetype": "text/x-python",
   "name": "python",
   "nbconvert_exporter": "python",
   "pygments_lexer": "ipython3",
   "version": "3.7.9"
  }
 },
 "nbformat": 4,
 "nbformat_minor": 4
}
