{
 "cells": [
  {
   "cell_type": "markdown",
   "metadata": {},
   "source": [
    "## AB Tests"
   ]
  },
  {
   "cell_type": "markdown",
   "metadata": {},
   "source": [
    "### 1. Оценка результатов AB теста"
   ]
  },
  {
   "cell_type": "markdown",
   "metadata": {},
   "source": [
    "В данном задании вам требуется оценить результаты AB теста. Даны результаты на контрольной и тестовой группе после проведения AB теста.\n",
    "Помимо показателей целевой переменной, вам даны также несколько фичей, которые являются характеристиками объектов. Даны целевые показатели (y) и принадлежность к целевой группе (W).\n",
    "\n",
    "</u>Задача:</u>\n",
    "1. Проверьте подходящую для данных гипотезу о равенстве средних в выборках\n",
    "2. Каков treatment effect нашего воздействия? (ATE) \n",
    "3. Примените известные вам методы оценки ATE с учетом особенностей данных.\n",
    "4. Проанализируйте, сравните результаты применения различных методов.\n",
    "5. В явном виде выпишите выводы.\n",
    "\n",
    "</i>Примечание: предположения о рандомизированном эксперименте нуждаются в проверке - независимость treatment от объектов не гарантирована. Все предположения выписывайте явно.</i> \n",
    "\n",
    "Для данной задачи используется dataset:  dataset_part1_students.csv"
   ]
  },
  {
   "cell_type": "code",
   "execution_count": 11,
   "metadata": {},
   "outputs": [],
   "source": [
    "import pandas as pd\n",
    "import numpy as np\n",
    "import scipy as st\n",
    "import seaborn as sns\n",
    "import matplotlib.pyplot as plt\n",
    "\n",
    "import scipy\n",
    "from scipy.stats import normaltest\n",
    "from scipy.stats import ttest_ind\n",
    "\n",
    "from sklearn.model_selection import train_test_split\n",
    "from sklearn.linear_model import LogisticRegression\n",
    "from sklearn.ensemble import RandomForestClassifier\n",
    "\n",
    "from sklearn.metrics import classification_report\n",
    "\n",
    "from sklearn.linear_model import LinearRegression\n",
    "from statsmodels.regression.linear_model import OLS\n",
    "\n",
    "from sklearn.tree import DecisionTreeClassifier"
   ]
  },
  {
   "cell_type": "code",
   "execution_count": 12,
   "metadata": {},
   "outputs": [],
   "source": [
    "data1 = pd.read_csv('data/dataset_part1_students.csv', sep = '\\t')"
   ]
  },
  {
   "cell_type": "code",
   "execution_count": 4,
   "metadata": {},
   "outputs": [],
   "source": [
    "# Разные объекты  - не связанные выборки y. "
   ]
  },
  {
   "cell_type": "code",
   "execution_count": 13,
   "metadata": {},
   "outputs": [],
   "source": [
    "# Выборка размера 20000 объектов, следовательно, нужно брать уровень значимости порядка 0.0001\n",
    "\n",
    "def H_check(Sample1, Sample2, name):\n",
    "    alpha = 0.0001\n",
    "    \n",
    "    stat, p = normaltest(Sample1[name])\n",
    "    \n",
    "    print('stat = ', stat, 'p = ', p)\n",
    "    if (p>alpha):\n",
    "        print('Accept norm')\n",
    "    else: \n",
    "        print('Reject norm')\n",
    "    \n",
    "    stat, p = normaltest(Sample2[name])\n",
    "    print('stat = ', stat, 'p = ', p)\n",
    "    if (p>alpha):\n",
    "        print('Accept norm')\n",
    "    else: \n",
    "        print('Reject norm')\n",
    "        # p-value > alpha можно также проверить F-тест (Фишер) о равенстве дисперсий, который чувствителен к не нормальности.\n",
    "    Fst = np.var(Sample1[name])/np.var(Sample2[name])\n",
    "    \n",
    "    power1, power2 = len(Sample1[name])-1, len(Sample2[name])-1\n",
    "    \n",
    "    # T критерий чувствиетельнее, если истинные дисперсии выборок равны\n",
    "    p = scipy.stats.f.cdf(Fst, power1, power2)\n",
    "    print('stat = ', Fst, 'p = ', p)\n",
    "    if (p>alpha):\n",
    "        print('Accept var == var')\n",
    "        equal_var=True\n",
    "    else:\n",
    "        print('Reject var == var')\n",
    "        equal_var=False\n",
    "    \n",
    "    # Выборки из нормального распределения, можно использовать t-критерий, хотя он относительно устойчив к не нормальности.\n",
    "    stat, p = ttest_ind(Sample1[name], Sample2[name], equal_var=equal_var)\n",
    "    print('stat = ', stat, 'p = ', p)\n",
    "    \n",
    "    if (p>alpha):\n",
    "        print('Accept mean == mean')\n",
    "    else:\n",
    "        print('Reject mean==mean')\n",
    "# При таком альфа p-value < alpha, значит, нулевая гипотеза отклоняется, средние в выборках не равны. "
   ]
  },
  {
   "cell_type": "code",
   "execution_count": 14,
   "metadata": {},
   "outputs": [
    {
     "name": "stdout",
     "output_type": "stream",
     "text": [
      "stat =  1.340089439214199 p =  0.511685694891655\n",
      "Accept norm\n",
      "stat =  0.06178545963522806 p =  0.9695795744755934\n",
      "Accept norm\n",
      "stat =  1.0010068251589588 p =  0.5199244727869714\n",
      "Accept var == var\n",
      "stat =  9.332400850259313 p =  1.1400916649505329e-20\n",
      "Reject mean==mean\n"
     ]
    }
   ],
   "source": [
    "H_check(data1[data1['W'] == 1], data1[data1['W'] == 0], 'y')"
   ]
  },
  {
   "cell_type": "code",
   "execution_count": null,
   "metadata": {},
   "outputs": [],
   "source": [
    "# Качество рандомизации бывает полезно проверить, построив классификатор, используя\n",
    "# в качестве таргета принадлежность к целевой или контрольной группе.  "
   ]
  },
  {
   "cell_type": "code",
   "execution_count": 106,
   "metadata": {},
   "outputs": [],
   "source": [
    "X = data1.drop(['W', 'y'], axis = 1).copy()\n",
    "y = data1['W']\n",
    "\n",
    "X_train, X_test, y_train, y_test = train_test_split(X, y)\n",
    "clf = LogisticRegression(random_state=42).fit(X_train, y_train)\n",
    "rfc = RandomForestClassifier(random_state=42).fit(X_train, y_train)\n",
    "\n",
    "y_pred_clf = clf.predict(X_test)\n",
    "y_pred_rfc = rfc.predict(X_test)"
   ]
  },
  {
   "cell_type": "code",
   "execution_count": 8,
   "metadata": {},
   "outputs": [
    {
     "name": "stdout",
     "output_type": "stream",
     "text": [
      "              precision    recall  f1-score   support\n",
      "\n",
      "         0.0       0.74      0.72      0.73      2385\n",
      "         1.0       0.75      0.77      0.76      2615\n",
      "\n",
      "    accuracy                           0.75      5000\n",
      "   macro avg       0.75      0.75      0.75      5000\n",
      "weighted avg       0.75      0.75      0.75      5000\n",
      "\n",
      "              precision    recall  f1-score   support\n",
      "\n",
      "         0.0       0.76      0.74      0.75      2385\n",
      "         1.0       0.77      0.79      0.78      2615\n",
      "\n",
      "    accuracy                           0.77      5000\n",
      "   macro avg       0.77      0.77      0.77      5000\n",
      "weighted avg       0.77      0.77      0.77      5000\n",
      "\n"
     ]
    }
   ],
   "source": [
    "\n",
    "print(classification_report(y_test, y_pred_clf))\n",
    "print(classification_report(y_test, y_pred_rfc))\n",
    "# Это проверка рандомизации - попытка классифицировать по W таргету. Ну так не очень."
   ]
  },
  {
   "cell_type": "code",
   "execution_count": null,
   "metadata": {},
   "outputs": [],
   "source": [
    "# Прежде чем расссматривать методы оценки TE необходимо сделать следующие предположения:\n",
    "# 1. Uncounfoudedness\n",
    "# Treatment assignment не зависит от результата эксперимента при условии контроля за X.\n",
    "# Более слабое предположение, чем полная независимость.\n",
    "# 2. Overlap\n",
    "# Нет таких объектов, для которых невозможен treatment."
   ]
  },
  {
   "cell_type": "code",
   "execution_count": 120,
   "metadata": {},
   "outputs": [
    {
     "name": "stdout",
     "output_type": "stream",
     "text": [
      "(20000, 11)\n",
      "['W', 'X_1', 'X_2', 'X_3', 'X_4', 'X_5', 'X_6', 'X_7', 'X_8', 'X_9', 'X_10']\n",
      "[ 0.51338549 -0.2254694  -0.35712379 -0.09795053  0.93446704  0.42135781\n",
      "  0.18572004  0.08389393 -0.10409036 -0.11725869  0.04936036]\n",
      "tau =  0.513385488256559\n"
     ]
    }
   ],
   "source": [
    "X = data1.drop(['y'], axis = 1).copy()\n",
    "print(X.shape)\n",
    "print(list(X))\n",
    "y = data1['y']\n",
    "\n",
    "slr = LinearRegression().fit(X, y)\n",
    "print(slr.coef_)\n",
    "print('tau = ', slr.coef_[0])\n",
    "# Если я правильно поняла, то оценка третмент эффекта это тау - коэффициент перед W в модели линейной регрессии."
   ]
  },
  {
   "cell_type": "code",
   "execution_count": 52,
   "metadata": {},
   "outputs": [
    {
     "name": "stdout",
     "output_type": "stream",
     "text": [
      "OLS  [0.496, 0.053, -0.075, 0.183, 1.208, 0.703, 0.457, 0.357, 0.176, 0.155, 0.324]\n",
      "tau =  0.49624729100326964\n"
     ]
    }
   ],
   "source": [
    "X = data1.drop(['y'], axis = 1).copy()\n",
    "y = data1['y']\n",
    "model = OLS(y,X, random_seed = 2)\n",
    "results = model.fit()\n",
    "print('OLS ', [round(i, 3) for i in results.params])\n",
    "print('tau = ', results.params[0])"
   ]
  },
  {
   "cell_type": "code",
   "execution_count": 78,
   "metadata": {},
   "outputs": [
    {
     "name": "stdout",
     "output_type": "stream",
     "text": [
      "[ 0.49624729  0.05265243 -0.07455112  0.18345008  1.20794482  0.7033204\n",
      "  0.4571793   0.35714713  0.17598845  0.15509195  0.32402984]\n",
      "tau =  0.496247291003268\n"
     ]
    }
   ],
   "source": [
    "# Нахождение коэффициентов с помощью МНК\n",
    "print(np.linalg.lstsq(X, y, rcond=None)[0])\n",
    "print('tau = ', np.linalg.lstsq(X, y, rcond=None)[0][0])"
   ]
  },
  {
   "cell_type": "code",
   "execution_count": null,
   "metadata": {},
   "outputs": [],
   "source": [
    "# Метод difference in differences здесь нельзя применить, так как неизвестно состояние до и после эксперимента."
   ]
  },
  {
   "cell_type": "code",
   "execution_count": 137,
   "metadata": {},
   "outputs": [
    {
     "name": "stdout",
     "output_type": "stream",
     "text": [
      "0.020756454653953545\n"
     ]
    }
   ],
   "source": [
    "# Стандартное отклонение ошибки равно\n",
    "print(np.std(y)/np.sqrt(len(y)))\n",
    "# Вывод: \n",
    "# Значит наблюдается влияние."
   ]
  },
  {
   "cell_type": "code",
   "execution_count": 77,
   "metadata": {},
   "outputs": [
    {
     "data": {
      "image/png": "[encoded data removed]",
      "text/plain": [
       "<Figure size 432x288 with 1 Axes>"
      ]
     },
     "metadata": {
      "needs_background": "light"
     },
     "output_type": "display_data"
    }
   ],
   "source": [
    "sns.kdeplot(data1.loc[lambda data1: data1['W'] == 0].y, label=\"untreated\")\n",
    "sns.kdeplot(data1.loc[lambda data1: data1['W'] == 1].y, label=\"treated\")\n",
    "plt.legend(loc='upper right')\n",
    "plt.show()\n",
    "# Но если смотреть не рисунок визуально разница не очень заметна."
   ]
  },
  {
   "cell_type": "markdown",
   "metadata": {},
   "source": [
    "### 2. Оценка результатов AB теста с показателями до начала эксперимента"
   ]
  },
  {
   "cell_type": "markdown",
   "metadata": {},
   "source": [
    "Необходимо как и ранее оценить результаты AB теста, а именно ATE. Вы располагаете результатами до и после проведения теста (y_0 и y_1), а также вам дан treatment assignment (W). \n",
    "\n",
    "Необходимо: \n",
    "1. Проверить все требуемые гипотезы\n",
    "2. Оценить ATE подходящим для этого случая методом (примените несколько методов)\n",
    "3. Сравнить и проанализировать результаты оценок\n",
    "4. Явно выписать выводы.\n",
    "\n",
    "Как и прежде, все предположения должны быть указаны. Визуализация результатов приветствуется.\n",
    "\n",
    "dataset_part2_students.csv"
   ]
  },
  {
   "cell_type": "code",
   "execution_count": 15,
   "metadata": {},
   "outputs": [],
   "source": [
    "data2 = pd.read_csv('data/dataset_part2_students.csv', sep = '\\t')"
   ]
  },
  {
   "cell_type": "code",
   "execution_count": 16,
   "metadata": {},
   "outputs": [
    {
     "name": "stdout",
     "output_type": "stream",
     "text": [
      "stat =  5.547707153441431 p =  0.062420996569396064\n",
      "Accept norm\n",
      "stat =  0.04170043573953361 p =  0.9793656450567212\n",
      "Accept norm\n",
      "stat =  0.9859581106737935 p =  0.3085972162095497\n",
      "Accept var == var\n",
      "stat =  10.434076818229196 p =  2.3383131389683154e-25\n",
      "Reject mean==mean\n"
     ]
    }
   ],
   "source": [
    "H_check(data2[data2['W'] == 1], data2[data2['W'] == 0], 'y_1')"
   ]
  },
  {
   "cell_type": "code",
   "execution_count": 43,
   "metadata": {},
   "outputs": [],
   "source": [
    "# Для данного случая подходит метод difference in defferences"
   ]
  },
  {
   "cell_type": "code",
   "execution_count": 63,
   "metadata": {},
   "outputs": [
    {
     "name": "stdout",
     "output_type": "stream",
     "text": [
      "0.5549047702971193\n"
     ]
    }
   ],
   "source": [
    "# Оценка в difference in defferences равна tau = [E(y|T=1 W=1) - E(y|T=0 W=1)] -[ E(y| T=1 W=0 ) - E(y| T=0 W=0) ]\n",
    "E1 = data2[data2['W'] == 1]['y_1'].mean()\n",
    "E2 = data2[data2['W'] == 1]['y_0'].mean()\n",
    "E3 = data2[data2['W'] == 0]['y_1'].mean()\n",
    "E4 = data2[data2['W'] == 0]['y_0'].mean()\n",
    "tau = (E1-E2)-(E3-E4)\n",
    "print(tau)"
   ]
  },
  {
   "cell_type": "code",
   "execution_count": 131,
   "metadata": {},
   "outputs": [],
   "source": [
    "# Метод CUPED позволяет увеличить мощность оценки ATE. \n",
    "# Эксперимент не имеет достаточной мощности, если эксперимент слишком мал по сравнению с дисперсией.\n",
    "# Если у выборки слишком большая дисперсия, то можно уменьшить ее таким образом.\n",
    "y_1 = data2['y_1']\n",
    "y_0 = data2['y_0']\n",
    "\n",
    "cov_y = np.cov(y_0, y_1)[0][1]\n",
    "theta = cov_y/np.std(y_0)\n",
    "Tau_cuped = y_1 - (y_0 - y_0.mean())*theta"
   ]
  },
  {
   "cell_type": "code",
   "execution_count": 132,
   "metadata": {},
   "outputs": [
    {
     "name": "stdout",
     "output_type": "stream",
     "text": [
      "5.254644132737967\n",
      "4.308304098016297\n"
     ]
    }
   ],
   "source": [
    "print(np.var(y_0))\n",
    "print(np.var(Tau_cuped))"
   ]
  },
  {
   "cell_type": "code",
   "execution_count": 134,
   "metadata": {},
   "outputs": [
    {
     "name": "stdout",
     "output_type": "stream",
     "text": [
      "4.306339749101802\n",
      "4.308304098016297\n"
     ]
    }
   ],
   "source": [
    "print(np.var(y_1))\n",
    "print(np.var(Tau_cuped))"
   ]
  },
  {
   "cell_type": "code",
   "execution_count": 128,
   "metadata": {},
   "outputs": [
    {
     "data": {
      "text/plain": [
       "<seaborn.axisgrid.FacetGrid at 0x1ceb02b3148>"
      ]
     },
     "execution_count": 128,
     "metadata": {},
     "output_type": "execute_result"
    },
    {
     "data": {
      "image/png": "[encoded data removed]",
      "text/plain": [
       "<Figure size 360x360 with 1 Axes>"
      ]
     },
     "metadata": {
      "needs_background": "light"
     },
     "output_type": "display_data"
    }
   ],
   "source": [
    "sns.displot(Tau_cuped)\n",
    "# Мне не очень понятно, что с этим дальше нужно делать."
   ]
  },
  {
   "cell_type": "code",
   "execution_count": 125,
   "metadata": {},
   "outputs": [
    {
     "name": "stdout",
     "output_type": "stream",
     "text": [
      "OLS  [0.006, 0.533, -0.021, -0.054, 0.103, 1.201, 0.858, 0.302, 0.427, 0.344, 0.193, 0.21]\n",
      "tau =  0.5331856104560021\n"
     ]
    }
   ],
   "source": [
    "# Метод ANCOVA. \n",
    "X = data2.drop(['y_1'], axis = 1).copy()\n",
    "y = data2['y_1']\n",
    "\n",
    "model = OLS(y,X, random_seed = 2)\n",
    "results = model.fit()\n",
    "print('OLS ', [round(i, 3) for i in results.params])\n",
    "print('tau = ', results.params[1])"
   ]
  },
  {
   "cell_type": "code",
   "execution_count": 136,
   "metadata": {},
   "outputs": [
    {
     "name": "stdout",
     "output_type": "stream",
     "text": [
      "0.020756454653953545\n"
     ]
    }
   ],
   "source": [
    "# Стандартное отклонение ошибки равно\n",
    "print(np.std(y)/np.sqrt(len(y)))\n",
    "# Вывод: \n",
    "# Значит наблюдается значительное влияние.\n",
    "# Получается метод достаточно эффективный (?)."
   ]
  },
  {
   "cell_type": "code",
   "execution_count": 75,
   "metadata": {},
   "outputs": [
    {
     "data": {
      "image/png": "[encoded data removed]",
      "text/plain": [
       "<Figure size 432x288 with 1 Axes>"
      ]
     },
     "metadata": {
      "needs_background": "light"
     },
     "output_type": "display_data"
    }
   ],
   "source": [
    "sns.kdeplot(data2.loc[lambda data2: data2['W'] == 0]['y_1'], label='untreated')\n",
    "sns.kdeplot(data2.loc[lambda data2: data2['W'] == 1]['y_1'], label='treated')\n",
    "plt.legend(loc='upper right')\n",
    "plt.show()\n",
    "# По рисунку, мне кажется, наоборот не особо заметна разница."
   ]
  },
  {
   "cell_type": "markdown",
   "metadata": {},
   "source": [
    "### 3. Построение uplift модели по результатам AB теста."
   ]
  },
  {
   "cell_type": "markdown",
   "metadata": {},
   "source": [
    "Вам даны результаты AB теста для модели конверсии клиента в продукте (conversion). Конверсия может принимать значения 1 или 0, что значит - клиент подключил услугу, либо не подключил соответственно.\n",
    "\n",
    "Задача:\n",
    "1. Оцените ATE по данным.\n",
    "2. Оцените CATE для каждого наблюдения.\n",
    "3. Проставьте рекомендации к воздействию на каждый объект.\n",
    "4. Какая ожидаемая конверсия при оптимальном воздействии?\n",
    "5. Все выводы, предпосылки и методы представляйте в явном виде в ноутбуке.\n",
    "\n",
    "Визуализация результатов также будет приветствоваться.\n",
    "\n",
    "dataset_part3_students.csv"
   ]
  },
  {
   "cell_type": "code",
   "execution_count": 7,
   "metadata": {},
   "outputs": [],
   "source": [
    "data3 = pd.read_csv('data/dataset_part3_students.csv', sep = '\\t')"
   ]
  },
  {
   "cell_type": "code",
   "execution_count": 9,
   "metadata": {},
   "outputs": [],
   "source": [
    "data3['treatment'] = data3['treatment'].replace('control', 0)\n",
    "data3['treatment'] = data3['treatment'].replace('treatment', 1)"
   ]
  },
  {
   "cell_type": "code",
   "execution_count": 6,
   "metadata": {},
   "outputs": [
    {
     "name": "stdout",
     "output_type": "stream",
     "text": [
      "stat =  24517.551542482404 p =  0.0\n",
      "Reject norm\n",
      "stat =  41807.57284205178 p =  0.0\n",
      "Reject norm\n",
      "stat =  1.3790453381656178 p =  0.9999999999999999\n",
      "Accept var == var\n",
      "stat =  36.82180952095731 p =  8.171930853918917e-296\n",
      "Reject mean==mean\n"
     ]
    }
   ],
   "source": [
    "H_check(data3[data3['treatment'] == 1], data3[data3['treatment'] == 0], 'conversion')"
   ]
  },
  {
   "cell_type": "code",
   "execution_count": 64,
   "metadata": {},
   "outputs": [
    {
     "name": "stdout",
     "output_type": "stream",
     "text": [
      "ate =  0.1389989187126739\n",
      "st  0.0008048163945118165\n"
     ]
    }
   ],
   "source": [
    "X = data3.drop(['conversion'], axis = 1).copy()\n",
    "y = data3['conversion']\n",
    "model = OLS(y,X, random_seed = 2)\n",
    "results = model.fit()\n",
    "#print('OLS ', [round(i, 3) for i in results.params])\n",
    "print('ate = ', results.params[0])\n",
    "print('st ', np.std(y)/np.sqrt(len(y)))"
   ]
  },
  {
   "cell_type": "code",
   "execution_count": 62,
   "metadata": {},
   "outputs": [
    {
     "name": "stdout",
     "output_type": "stream",
     "text": [
      "cate  0.05907\n",
      "st  0.0008048163945118165\n"
     ]
    }
   ],
   "source": [
    "# Простейшая оценка\n",
    "cate = data3[data3['treatment']==1]['conversion'].mean() - data3[data3['treatment']==0]['conversion'].mean()\n",
    "y = data3['conversion']\n",
    "print('cate ', cate)\n",
    "print('st ', np.std(y)/np.sqrt(len(y)))\n",
    "# Я совсем не поняла эту часть. Каким образом нужно искать CATE к каждому наблюдению."
   ]
  },
  {
   "cell_type": "code",
   "execution_count": 69,
   "metadata": {},
   "outputs": [
    {
     "name": "stdout",
     "output_type": "stream",
     "text": [
      "cate  0.09742351046698874\n"
     ]
    }
   ],
   "source": [
    "# Double-Sample Trees\n",
    "# Выберем слуяайно s наблюдений и разделим их на равные части I и J\n",
    "s=200\n",
    "Sample = data3.sample(n = s)\n",
    "PartI = Sample[:(s//2)].copy()\n",
    "PartJ = Sample[(s//2):].copy()\n",
    "print('cate ', DS_Tree_cate(PartJ, PartI))"
   ]
  },
  {
   "cell_type": "code",
   "execution_count": 66,
   "metadata": {},
   "outputs": [],
   "source": [
    "# Double-Sample Trees\n",
    "def DS_Tree_cate(PartJ, PartI):\n",
    "    \n",
    "    X_train = PartJ.drop(['conversion'], axis = 1).copy()\n",
    "    y_train = PartJ['conversion']\n",
    "    X_test = PartI.drop(['conversion'], axis = 1).copy()\n",
    "    y_test = PartI['conversion']\n",
    "    k = int(len(y_train)/100)\n",
    "    model = DecisionTreeClassifier(min_samples_leaf = k, random_state=2)\n",
    "    results = model.fit(X_train, y_train)\n",
    "    y_pred = results.predict(X_test)\n",
    "    X_test['y'] = y_pred\n",
    "    cate = X_test[X_test['treatment']==1]['y'].mean() - X_test[X_test['treatment']==0]['y'].mean()\n",
    "    return cate"
   ]
  },
  {
   "cell_type": "code",
   "execution_count": 75,
   "metadata": {},
   "outputs": [
    {
     "name": "stdout",
     "output_type": "stream",
     "text": [
      "cate  0.04356227697218563\n",
      "st  0.0008048163945118165\n"
     ]
    }
   ],
   "source": [
    "B = 1000\n",
    "s = 1000\n",
    "cate_s = 0\n",
    "for i in range(B):\n",
    "    Sample = data3.sample(n = s)\n",
    "    PartI = Sample[:(s//2)].copy()\n",
    "    PartJ = Sample[(s//2):].copy()\n",
    "    \n",
    "    cate_s+=DS_Tree_cate(PartJ, PartI)\n",
    "print('cate ', cate_s/B)\n",
    "print('st ', np.std(y)/np.sqrt(len(y)))\n",
    "# Я совсем не поняла эту часть. Каким образом нужно искать CATE к каждому наблюдению."
   ]
  },
  {
   "cell_type": "markdown",
   "metadata": {},
   "source": [
    "EconML"
   ]
  },
  {
   "cell_type": "code",
   "execution_count": 18,
   "metadata": {},
   "outputs": [],
   "source": [
    "import numpy as np\n",
    "import pandas as pd\n",
    "\n",
    "from sklearn.linear_model import LinearRegression\n",
    "from sklearn.ensemble import RandomForestRegressor, RandomForestClassifier, GradientBoostingRegressor\n",
    "\n",
    "from econml.metalearners import TLearner, SLearner, XLearner, DomainAdaptationLearner"
   ]
  },
  {
   "cell_type": "code",
   "execution_count": 13,
   "metadata": {},
   "outputs": [],
   "source": [
    "data3 = pd.read_csv('data/dataset_part3_students.csv', sep = '\\t')"
   ]
  },
  {
   "cell_type": "code",
   "execution_count": 21,
   "metadata": {},
   "outputs": [],
   "source": [
    "data3['treatment'] = data3['treatment'].replace('control', 0)\n",
    "data3['treatment'] = data3['treatment'].replace('treatment', 1)"
   ]
  },
  {
   "cell_type": "code",
   "execution_count": 22,
   "metadata": {},
   "outputs": [],
   "source": [
    "T = data3['treatment']\n",
    "Y = data3['conversion']\n",
    "X = data3.drop(['conversion', 'treatment'], axis = 1).copy()\n",
    "# Instantiate T learner\n",
    "n = len(X)\n",
    "models = GradientBoostingRegressor(n_estimators=100, max_depth=6, min_samples_leaf=int(n/100))\n",
    "T_learner = TLearner(models)\n",
    "# Train T_learner\n",
    "T_learner.fit(Y, T, X=X)\n",
    "# Estimate treatment effects on test data\n",
    "T_te = T_learner.effect(X)"
   ]
  },
  {
   "cell_type": "code",
   "execution_count": 27,
   "metadata": {},
   "outputs": [
    {
     "data": {
      "text/plain": [
       "array([ 0.0025654 , -0.02525319,  0.00706243, ..., -0.03827341,\n",
       "       -0.0554676 , -0.06549299])"
      ]
     },
     "execution_count": 27,
     "metadata": {},
     "output_type": "execute_result"
    }
   ],
   "source": [
    "T_te\n",
    "# Получается, это оценка CATE для каждого наблюдения"
   ]
  },
  {
   "cell_type": "code",
   "execution_count": 32,
   "metadata": {},
   "outputs": [],
   "source": [
    "data3['CATE'] = T_te"
   ]
  },
  {
   "cell_type": "code",
   "execution_count": 34,
   "metadata": {},
   "outputs": [],
   "source": [
    "st = np.std(Y)/np.sqrt(len(Y))"
   ]
  },
  {
   "cell_type": "code",
   "execution_count": 43,
   "metadata": {},
   "outputs": [
    {
     "data": {
      "text/plain": [
       "1106"
      ]
     },
     "execution_count": 43,
     "metadata": {},
     "output_type": "execute_result"
    }
   ],
   "source": [
    "# Получается это объекты, эффект воздействия на которые меньше стандартного отклонения\n",
    "# То есть на них не наблюдалось эффекта воздействия.\n",
    "len(data3[(abs(data3['CATE'])<st) & (data3['treatment'] == 1)])"
   ]
  },
  {
   "cell_type": "code",
   "execution_count": 44,
   "metadata": {},
   "outputs": [
    {
     "data": {
      "text/plain": [
       "98894"
      ]
     },
     "execution_count": 44,
     "metadata": {},
     "output_type": "execute_result"
    }
   ],
   "source": [
    "# А на эти значит наблюдалось\n",
    "len(data3[(abs(data3['CATE'])>st) & (data3['treatment'] == 1)])"
   ]
  },
  {
   "cell_type": "code",
   "execution_count": 46,
   "metadata": {},
   "outputs": [],
   "source": [
    "#data3['treatment'].sum()"
   ]
  },
  {
   "cell_type": "code",
   "execution_count": 47,
   "metadata": {},
   "outputs": [],
   "source": [
    "#len(data3['treatment'])"
   ]
  },
  {
   "cell_type": "code",
   "execution_count": 10,
   "metadata": {},
   "outputs": [
    {
     "data": {
      "image/png": "[encoded data removed]",
      "text/plain": [
       "<Figure size 432x288 with 1 Axes>"
      ]
     },
     "metadata": {
      "needs_background": "light"
     },
     "output_type": "display_data"
    }
   ],
   "source": [
    "sns.kdeplot(data3.loc[lambda data3: data3['treatment'] == 0]['conversion'], label='control')\n",
    "sns.kdeplot(data3.loc[lambda data3: data3['treatment'] == 1]['conversion'], label='treatment')\n",
    "plt.legend(loc='upper right')\n",
    "plt.show()"
   ]
  },
  {
   "cell_type": "code",
   "execution_count": null,
   "metadata": {},
   "outputs": [],
   "source": []
  }
 ],
 "metadata": {
  "kernelspec": {
   "display_name": "Python 3",
   "language": "python",
   "name": "python3"
  },
  "language_info": {
   "codemirror_mode": {
    "name": "ipython",
    "version": 3
   },
   "file_extension": ".py",
   "mimetype": "text/x-python",
   "name": "python",
   "nbconvert_exporter": "python",
   "pygments_lexer": "ipython3",
   "version": "3.7.9"
  }
 },
 "nbformat": 4,
 "nbformat_minor": 4
}
